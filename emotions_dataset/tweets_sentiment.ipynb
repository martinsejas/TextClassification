{
 "cells": [
  {
   "attachments": {},
   "cell_type": "markdown",
   "metadata": {},
   "source": [
    "# Students: Lin Yang, Mariia Isaieva, Martin Sejas <center>NLP Course <br><small>Graded Project Instructions <br>Spring 2023</small></center>\n",
    "\n",
    "About the dataset: \n",
    "\n",
    "List of tweet texts with emotion labels like joy, sadness, fear, anger... \n",
    "Dataset is split into train, test and validation sets for building the machine learning model. At first, you are \n",
    "given only train and test sets. The validation one will be given in the end of the project for you to check \n",
    "the final performance of your algorithm (to make sure there is no overfitting over the test data). \n",
    "You can work on this project on group of one, two or three students. This exercise is mandatory, not \n",
    "giving it back is equivalent to getting to lowest grade. \n",
    "Goal: \n",
    "\n",
    "• Train different kind of models able to classify each text according to the sentiment mainly present \n",
    "in it \n",
    "\n",
    "• Compare the results of your different models and try to analyze and explain the differences\n",
    "\n",
    "Train different classification models relying mainly on \n",
    "\n",
    "1. A Fully Connected Neural Network (see Course 2) 5 points \n",
    "\n",
    "2. A Recurrent Neural Network, based on LSTM or GRU (see Course 3) 5 points \n",
    "\n",
    "3. A fine-tuned Transformer Architecture from a pretrained model that can be found on sites \n",
    "like HuggingFace (see Course 4) 5 points \n",
    "\n",
    "4. Compare the different models to find the best approach and try to duplicate it on a “real life” \n",
    "text classification approach (this new “real life” dataset will be given to you soon) 5 points"
   ]
  },
  {
   "attachments": {},
   "cell_type": "markdown",
   "metadata": {},
   "source": [
    "# Loading and Preprocessing the data sets"
   ]
  },
  {
   "cell_type": "code",
   "execution_count": 2,
   "metadata": {},
   "outputs": [],
   "source": [
    "import math\n",
    "import spacy\n",
    "import numpy as np\n",
    "import pandas as pd\n",
    "import matplotlib.pyplot as plt\n",
    "\n",
    "from nltk.corpus import stopwords\n",
    "\n",
    "from sklearn.preprocessing import LabelEncoder\n",
    "from sklearn.feature_extraction.text import TfidfVectorizer\n",
    "from sklearn.model_selection import train_test_split\n",
    "from sklearn.utils.class_weight import compute_class_weight\n",
    "from sklearn.metrics import confusion_matrix, accuracy_score, classification_report\n",
    "\n",
    "import tensorflow as tf\n",
    "from tensorflow import keras\n",
    "from keras.utils import to_categorical\n",
    "from tensorflow.keras import Sequential\n",
    "from keras.preprocessing.text import Tokenizer\n",
    "from keras.metrics import Precision, Recall, AUC\n",
    "from tensorflow.keras.preprocessing.sequence import pad_sequences\n",
    "from keras.layers import Embedding, LSTM, Dense, Dropout, Bidirectional\n",
    "from keras.callbacks import EarlyStopping, LearningRateScheduler, CallbackList, ReduceLROnPlateau\n"
   ]
  },
  {
   "cell_type": "markdown",
   "metadata": {},
   "source": [
    "The dataset is a tweets sentiment dataset, it's quite straightforward, there are only 2 columns, the tweet itself, and the sentiment attached to it. We have been provided a train set and a test set."
   ]
  },
  {
   "cell_type": "code",
   "execution_count": 3,
   "metadata": {},
   "outputs": [
    {
     "data": {
      "text/html": [
       "<div>\n",
       "<style scoped>\n",
       "    .dataframe tbody tr th:only-of-type {\n",
       "        vertical-align: middle;\n",
       "    }\n",
       "\n",
       "    .dataframe tbody tr th {\n",
       "        vertical-align: top;\n",
       "    }\n",
       "\n",
       "    .dataframe thead th {\n",
       "        text-align: right;\n",
       "    }\n",
       "</style>\n",
       "<table border=\"1\" class=\"dataframe\">\n",
       "  <thead>\n",
       "    <tr style=\"text-align: right;\">\n",
       "      <th></th>\n",
       "      <th>tweet</th>\n",
       "      <th>sentiment</th>\n",
       "    </tr>\n",
       "  </thead>\n",
       "  <tbody>\n",
       "    <tr>\n",
       "      <th>0</th>\n",
       "      <td>i didnt feel humiliated</td>\n",
       "      <td>sadness</td>\n",
       "    </tr>\n",
       "    <tr>\n",
       "      <th>1</th>\n",
       "      <td>i can go from feeling so hopeless to so damned...</td>\n",
       "      <td>sadness</td>\n",
       "    </tr>\n",
       "    <tr>\n",
       "      <th>2</th>\n",
       "      <td>im grabbing a minute to post i feel greedy wrong</td>\n",
       "      <td>anger</td>\n",
       "    </tr>\n",
       "    <tr>\n",
       "      <th>3</th>\n",
       "      <td>i am ever feeling nostalgic about the fireplac...</td>\n",
       "      <td>love</td>\n",
       "    </tr>\n",
       "    <tr>\n",
       "      <th>4</th>\n",
       "      <td>i am feeling grouchy</td>\n",
       "      <td>anger</td>\n",
       "    </tr>\n",
       "  </tbody>\n",
       "</table>\n",
       "</div>"
      ],
      "text/plain": [
       "                                               tweet sentiment\n",
       "0                            i didnt feel humiliated   sadness\n",
       "1  i can go from feeling so hopeless to so damned...   sadness\n",
       "2   im grabbing a minute to post i feel greedy wrong     anger\n",
       "3  i am ever feeling nostalgic about the fireplac...      love\n",
       "4                               i am feeling grouchy     anger"
      ]
     },
     "execution_count": 3,
     "metadata": {},
     "output_type": "execute_result"
    }
   ],
   "source": [
    "df_train = pd.read_csv('./train.txt', header=None, delimiter=';')\n",
    "df_test = pd.read_csv('./test.txt', header=None, delimiter=';')\n",
    "df_train = df_train.rename(columns={0: 'tweet', 1: 'sentiment'})\n",
    "df_test = df_test.rename(columns={0: 'tweet', 1: 'sentiment'})\n",
    "df_train.head()"
   ]
  },
  {
   "cell_type": "markdown",
   "metadata": {},
   "source": [
    "After loading our dataset we can see the class (sentiment) distribution of our tweets."
   ]
  },
  {
   "cell_type": "code",
   "execution_count": 4,
   "metadata": {},
   "outputs": [
    {
     "data": {
      "text/plain": [
       "(sentiment\n",
       " joy         5362\n",
       " sadness     4666\n",
       " anger       2159\n",
       " fear        1937\n",
       " love        1304\n",
       " surprise     572\n",
       " Name: count, dtype: int64,\n",
       " (16000, 2))"
      ]
     },
     "execution_count": 4,
     "metadata": {},
     "output_type": "execute_result"
    }
   ],
   "source": [
    "df_train['sentiment'].value_counts(), df_train.shape"
   ]
  },
  {
   "cell_type": "code",
   "execution_count": 5,
   "metadata": {},
   "outputs": [
    {
     "data": {
      "text/plain": [
       "(sentiment\n",
       " joy         695\n",
       " sadness     581\n",
       " anger       275\n",
       " fear        224\n",
       " love        159\n",
       " surprise     66\n",
       " Name: count, dtype: int64,\n",
       " (2000, 2))"
      ]
     },
     "execution_count": 5,
     "metadata": {},
     "output_type": "execute_result"
    }
   ],
   "source": [
    "df_test['sentiment'].value_counts(), df_test.shape"
   ]
  },
  {
   "cell_type": "markdown",
   "metadata": {},
   "source": [
    "We can see here that there are class inbalances. Especially regarding joy and surprise.\n",
    "\n",
    "We will also separate each tweet from it's label to train."
   ]
  },
  {
   "cell_type": "code",
   "execution_count": 6,
   "metadata": {},
   "outputs": [],
   "source": [
    "texts_train = df_train['tweet']\n",
    "texts_test = df_test['tweet']"
   ]
  },
  {
   "cell_type": "code",
   "execution_count": 7,
   "metadata": {},
   "outputs": [
    {
     "data": {
      "text/plain": [
       "array([4, 4, 0, ..., 2, 0, 4])"
      ]
     },
     "execution_count": 7,
     "metadata": {},
     "output_type": "execute_result"
    }
   ],
   "source": [
    "le = LabelEncoder()\n",
    "y_train = le.fit_transform(df_train['sentiment'])\n",
    "y_test = le.transform(df_test['sentiment'])\n",
    "y_train"
   ]
  },
  {
   "attachments": {},
   "cell_type": "markdown",
   "metadata": {},
   "source": [
    "## Pre-Processing the tweets (Lemmetizing) with the Spacy library."
   ]
  },
  {
   "attachments": {},
   "cell_type": "markdown",
   "metadata": {},
   "source": [
    "### Lemmetization"
   ]
  },
  {
   "cell_type": "markdown",
   "metadata": {},
   "source": [
    "We are going to be using the famous [Spacy](https://spacy.io/) Library for tokenization, it's the best performing one in terms of computational cost and performance.\n",
    "\n",
    "We will be loading the english core *medium* dataset.\n",
    "\n"
   ]
  },
  {
   "cell_type": "markdown",
   "metadata": {},
   "source": [
    "To have spacy working please make sure to run the following commands. \n",
    "\n",
    "```bash\n",
    "pip install spacy\n",
    "```\n",
    "\n",
    "Once the package has been installed, make sure to download the language model, in our case, *en-core-web-md* will be used, and can be downloaded by the following command. \n",
    "\n",
    "```bash \n",
    "python -m spacy download en_core_web_md\n",
    "```"
   ]
  },
  {
   "cell_type": "code",
   "execution_count": 8,
   "metadata": {},
   "outputs": [],
   "source": [
    "nlp = spacy.load('en_core_web_md')\n",
    "\n",
    "#Function to tokenize\n",
    "def preprocess_text(text):\n",
    "    #every tweet will become a document \n",
    "    doc = nlp(text)\n",
    "    \n",
    "    #Creating a list of tokens by lemmatizing the words, filtering stop words.\n",
    "    tokens = [token.lemma_.lower().strip() for token in doc if not token.is_stop]\n",
    "    \n",
    "    #Join all the words in one sentence\n",
    "    return ' '.join(tokens)"
   ]
  },
  {
   "cell_type": "markdown",
   "metadata": {},
   "source": [
    "With the *preprocess_text* function, we will pre-process the tweet text, and with that we can apply it to both of our dataframes as a new series, and see the output.\n",
    "\n",
    "*Warning this cell takes over 2 minutes to run!*"
   ]
  },
  {
   "cell_type": "code",
   "execution_count": 9,
   "metadata": {},
   "outputs": [
    {
     "data": {
      "text/html": [
       "<div>\n",
       "<style scoped>\n",
       "    .dataframe tbody tr th:only-of-type {\n",
       "        vertical-align: middle;\n",
       "    }\n",
       "\n",
       "    .dataframe tbody tr th {\n",
       "        vertical-align: top;\n",
       "    }\n",
       "\n",
       "    .dataframe thead th {\n",
       "        text-align: right;\n",
       "    }\n",
       "</style>\n",
       "<table border=\"1\" class=\"dataframe\">\n",
       "  <thead>\n",
       "    <tr style=\"text-align: right;\">\n",
       "      <th></th>\n",
       "      <th>tweet</th>\n",
       "      <th>sentiment</th>\n",
       "      <th>processed</th>\n",
       "    </tr>\n",
       "  </thead>\n",
       "  <tbody>\n",
       "    <tr>\n",
       "      <th>0</th>\n",
       "      <td>i didnt feel humiliated</td>\n",
       "      <td>sadness</td>\n",
       "      <td>not feel humiliate</td>\n",
       "    </tr>\n",
       "    <tr>\n",
       "      <th>1</th>\n",
       "      <td>i can go from feeling so hopeless to so damned...</td>\n",
       "      <td>sadness</td>\n",
       "      <td>feel hopeless damn hopeful care awake</td>\n",
       "    </tr>\n",
       "    <tr>\n",
       "      <th>2</th>\n",
       "      <td>im grabbing a minute to post i feel greedy wrong</td>\n",
       "      <td>anger</td>\n",
       "      <td>m grab minute post feel greedy wrong</td>\n",
       "    </tr>\n",
       "    <tr>\n",
       "      <th>3</th>\n",
       "      <td>i am ever feeling nostalgic about the fireplac...</td>\n",
       "      <td>love</td>\n",
       "      <td>feel nostalgic fireplace know property</td>\n",
       "    </tr>\n",
       "    <tr>\n",
       "      <th>4</th>\n",
       "      <td>i am feeling grouchy</td>\n",
       "      <td>anger</td>\n",
       "      <td>feel grouchy</td>\n",
       "    </tr>\n",
       "  </tbody>\n",
       "</table>\n",
       "</div>"
      ],
      "text/plain": [
       "                                               tweet sentiment  \\\n",
       "0                            i didnt feel humiliated   sadness   \n",
       "1  i can go from feeling so hopeless to so damned...   sadness   \n",
       "2   im grabbing a minute to post i feel greedy wrong     anger   \n",
       "3  i am ever feeling nostalgic about the fireplac...      love   \n",
       "4                               i am feeling grouchy     anger   \n",
       "\n",
       "                                processed  \n",
       "0                      not feel humiliate  \n",
       "1   feel hopeless damn hopeful care awake  \n",
       "2    m grab minute post feel greedy wrong  \n",
       "3  feel nostalgic fireplace know property  \n",
       "4                            feel grouchy  "
      ]
     },
     "execution_count": 9,
     "metadata": {},
     "output_type": "execute_result"
    }
   ],
   "source": [
    "df_train['processed'] = df_train['tweet'].apply(preprocess_text)\n",
    "df_test['processed'] = df_test['tweet'].apply(preprocess_text)\n",
    "df_train.head()"
   ]
  },
  {
   "cell_type": "markdown",
   "metadata": {},
   "source": [
    "## Task 1- Fully Connected Neural Network(5 Points)\n",
    "### TF-IDF embedding for Sequential Neural Network\n"
   ]
  },
  {
   "cell_type": "markdown",
   "metadata": {},
   "source": [
    "We will be using sklearn's TFidfVectorizer to be able to process the data and feed it into our Neural Network."
   ]
  },
  {
   "cell_type": "code",
   "execution_count": 10,
   "metadata": {},
   "outputs": [
    {
     "data": {
      "text/plain": [
       "(16000, 5587)"
      ]
     },
     "execution_count": 10,
     "metadata": {},
     "output_type": "execute_result"
    }
   ],
   "source": [
    "tfidf = TfidfVectorizer(max_df=0.95, min_df=2, stop_words='english')\n",
    "\n",
    "dtm_train = tfidf.fit_transform(df_train['processed'])\n",
    "dtm_test = tfidf.transform(df_test['processed'])\n",
    "dtm_train.shape"
   ]
  },
  {
   "cell_type": "markdown",
   "metadata": {},
   "source": [
    "Split the training set to training and validation sets for training the model"
   ]
  },
  {
   "cell_type": "code",
   "execution_count": 11,
   "metadata": {},
   "outputs": [],
   "source": [
    "X_train_ = dtm_train.toarray()\n",
    "X_test_ = dtm_test.toarray()\n",
    "y_train_ = y_train\n",
    "y_test_ = y_test\n",
    "# X_train_ = np.vstack((X_train_, X_test_))\n",
    "# y_train_ = np.concatenate((y_train, y_test))\n",
    "\n",
    "\n",
    "class_weights = compute_class_weight('balanced', classes=np.unique(y_train), y=y_train)\n",
    "\n",
    "\n",
    "# X_train_, X_test_, y_train, y_test_ = train_test_split(X_train_, y_train, test_size=0.2, random_state=42, stratify=y_train)\n",
    "X_train_, X_val_, y_train_, y_val_ = train_test_split(X_train_, y_train, test_size=0.2, random_state=42, stratify=y_train)"
   ]
  },
  {
   "cell_type": "markdown",
   "metadata": {},
   "source": [
    "Encode the label in one hot encoding fashion"
   ]
  },
  {
   "cell_type": "code",
   "execution_count": 12,
   "metadata": {},
   "outputs": [
    {
     "data": {
      "text/plain": [
       "((12800, 6), (2000, 6), (3200, 6))"
      ]
     },
     "execution_count": 12,
     "metadata": {},
     "output_type": "execute_result"
    }
   ],
   "source": [
    "y_train_encoded = to_categorical(y_train_)\n",
    "y_test_encoded = to_categorical(y_test_)\n",
    "y_val_encoded = to_categorical(y_val_)\n",
    "y_train_encoded.shape, y_test_encoded.shape, y_val_encoded.shape"
   ]
  },
  {
   "attachments": {},
   "cell_type": "markdown",
   "metadata": {},
   "source": [
    "# Fully connect NN"
   ]
  },
  {
   "cell_type": "markdown",
   "metadata": {},
   "source": [
    "Build the fully connected NN with tensorflow.\n",
    "\n",
    "The first layer has a high number of nerons because the input data set has `>5000` features."
   ]
  },
  {
   "cell_type": "code",
   "execution_count": 28,
   "metadata": {},
   "outputs": [
    {
     "name": "stdout",
     "output_type": "stream",
     "text": [
      "Model: \"sequential_3\"\n",
      "_________________________________________________________________\n",
      " Layer (type)                Output Shape              Param #   \n",
      "=================================================================\n",
      " dense_12 (Dense)            (None, 4096)              22888448  \n",
      "                                                                 \n",
      " dense_13 (Dense)            (None, 2048)              8390656   \n",
      "                                                                 \n",
      " dense_14 (Dense)            (None, 1024)              2098176   \n",
      "                                                                 \n",
      " dense_15 (Dense)            (None, 64)                65600     \n",
      "                                                                 \n",
      " dense_16 (Dense)            (None, 6)                 390       \n",
      "                                                                 \n",
      "=================================================================\n",
      "Total params: 33443270 (127.58 MB)\n",
      "Trainable params: 33443270 (127.58 MB)\n",
      "Non-trainable params: 0 (0.00 Byte)\n",
      "_________________________________________________________________\n"
     ]
    }
   ],
   "source": [
    "model = Sequential()\n",
    "model.add(Dense(4096, activation='selu', kernel_initializer='lecun_normal', input_shape=(X_train_.shape[1],), kernel_regularizer=tf.keras.regularizers.l2(0.01)))\n",
    "model.add(Dense(2048, activation='selu', kernel_initializer='lecun_normal', kernel_regularizer=tf.keras.regularizers.l2(0.01)))\n",
    "model.add(Dense(1024, activation='selu', kernel_initializer='lecun_normal', kernel_regularizer=tf.keras.regularizers.l2(0.1)))\n",
    "# model.add(Dense(512, activation='selu', kernel_initializer='lecun_normal', ))\n",
    "# model.add(Dense(128, activation='selu', kernel_initializer='lecun_normal', ))\n",
    "model.add(Dense(64, activation='selu',))\n",
    "model.add(Dense(6, activation='softmax'))\n",
    "\n",
    "model.layers[-1].bias.assign(class_weights)\n",
    "model.compile(optimizer='Adam', loss=tf.losses.categorical_crossentropy, metrics=['accuracy'])\n",
    "model.summary()"
   ]
  },
  {
   "cell_type": "markdown",
   "metadata": {},
   "source": [
    "Set up the early stopping condition and use a dynamic learning rate scheduler"
   ]
  },
  {
   "cell_type": "code",
   "execution_count": 29,
   "metadata": {},
   "outputs": [],
   "source": [
    "def step_decay(epoch):\n",
    "    initial_lrate = 0.001\n",
    "    drop = 0.5\n",
    "    epochs_drop = 10.0\n",
    "    lrate = initial_lrate * math.pow(drop, math.floor((1 + epoch) / epochs_drop))\n",
    "    return lrate\n",
    "\n",
    "lr_scheduler = LearningRateScheduler(step_decay)\n",
    "\n",
    "early_stopping = EarlyStopping(monitor='val_loss', restore_best_weights=True, patience=3) # "
   ]
  },
  {
   "cell_type": "markdown",
   "metadata": {},
   "source": [
    "Training the model"
   ]
  },
  {
   "cell_type": "code",
   "execution_count": 31,
   "metadata": {},
   "outputs": [
    {
     "name": "stdout",
     "output_type": "stream",
     "text": [
      "Epoch 1/20\n",
      "50/50 [==============================] - 8s 162ms/step - loss: 26.8132 - accuracy: 0.5688 - val_loss: 10.9793 - val_accuracy: 0.6897 - lr: 0.0010\n",
      "Epoch 2/20\n",
      "50/50 [==============================] - 8s 167ms/step - loss: 5.2753 - accuracy: 0.7626 - val_loss: 2.5073 - val_accuracy: 0.8031 - lr: 0.0010\n",
      "Epoch 3/20\n",
      "50/50 [==============================] - 8s 166ms/step - loss: 1.7318 - accuracy: 0.8741 - val_loss: 1.5016 - val_accuracy: 0.8344 - lr: 0.0010\n",
      "Epoch 4/20\n",
      "50/50 [==============================] - 8s 162ms/step - loss: 1.1819 - accuracy: 0.8884 - val_loss: 1.1866 - val_accuracy: 0.8450 - lr: 0.0010\n",
      "Epoch 5/20\n",
      "50/50 [==============================] - 9s 182ms/step - loss: 0.9789 - accuracy: 0.8897 - val_loss: 1.0605 - val_accuracy: 0.8378 - lr: 0.0010\n",
      "Epoch 6/20\n",
      "50/50 [==============================] - 9s 185ms/step - loss: 0.8859 - accuracy: 0.8910 - val_loss: 1.0391 - val_accuracy: 0.8300 - lr: 0.0010\n",
      "Epoch 7/20\n",
      "50/50 [==============================] - 8s 163ms/step - loss: 0.8108 - accuracy: 0.8997 - val_loss: 0.9613 - val_accuracy: 0.8319 - lr: 0.0010\n",
      "Epoch 8/20\n",
      "50/50 [==============================] - 8s 160ms/step - loss: 0.8176 - accuracy: 0.8908 - val_loss: 1.0423 - val_accuracy: 0.8091 - lr: 0.0010\n",
      "Epoch 9/20\n",
      "50/50 [==============================] - 10s 192ms/step - loss: 0.7718 - accuracy: 0.8970 - val_loss: 0.9358 - val_accuracy: 0.8234 - lr: 0.0010\n",
      "Epoch 10/20\n",
      "50/50 [==============================] - 11s 224ms/step - loss: 0.6324 - accuracy: 0.9363 - val_loss: 0.8143 - val_accuracy: 0.8472 - lr: 5.0000e-04\n",
      "Epoch 11/20\n",
      "50/50 [==============================] - 10s 197ms/step - loss: 0.5732 - accuracy: 0.9509 - val_loss: 0.8084 - val_accuracy: 0.8438 - lr: 5.0000e-04\n",
      "Epoch 12/20\n",
      "50/50 [==============================] - 9s 173ms/step - loss: 0.5749 - accuracy: 0.9469 - val_loss: 0.8759 - val_accuracy: 0.8106 - lr: 5.0000e-04\n",
      "Epoch 13/20\n",
      "50/50 [==============================] - 9s 179ms/step - loss: 0.5735 - accuracy: 0.9458 - val_loss: 0.8024 - val_accuracy: 0.8422 - lr: 5.0000e-04\n",
      "Epoch 14/20\n",
      "50/50 [==============================] - 9s 182ms/step - loss: 0.5663 - accuracy: 0.9463 - val_loss: 0.8081 - val_accuracy: 0.8397 - lr: 5.0000e-04\n",
      "Epoch 15/20\n",
      "50/50 [==============================] - 9s 179ms/step - loss: 0.5547 - accuracy: 0.9484 - val_loss: 0.8254 - val_accuracy: 0.8331 - lr: 5.0000e-04\n",
      "Epoch 16/20\n",
      "50/50 [==============================] - 11s 212ms/step - loss: 0.5598 - accuracy: 0.9449 - val_loss: 0.8161 - val_accuracy: 0.8356 - lr: 5.0000e-04\n",
      "Epoch 17/20\n",
      "50/50 [==============================] - 10s 196ms/step - loss: 0.5484 - accuracy: 0.9481 - val_loss: 0.7995 - val_accuracy: 0.8406 - lr: 5.0000e-04\n",
      "Epoch 18/20\n",
      "50/50 [==============================] - 10s 207ms/step - loss: 0.5322 - accuracy: 0.9527 - val_loss: 0.7924 - val_accuracy: 0.8403 - lr: 5.0000e-04\n",
      "Epoch 19/20\n",
      "50/50 [==============================] - 9s 187ms/step - loss: 0.5372 - accuracy: 0.9493 - val_loss: 0.8208 - val_accuracy: 0.8359 - lr: 5.0000e-04\n",
      "Epoch 20/20\n",
      "50/50 [==============================] - 11s 214ms/step - loss: 0.5010 - accuracy: 0.9652 - val_loss: 0.7829 - val_accuracy: 0.8378 - lr: 2.5000e-04\n"
     ]
    }
   ],
   "source": [
    "history = model.fit(X_train_, y_train_encoded, validation_data=(X_val_, y_val_encoded), epochs=20, batch_size=256, callbacks=[early_stopping, lr_scheduler])"
   ]
  },
  {
   "cell_type": "markdown",
   "metadata": {},
   "source": [
    "Plot the training loss"
   ]
  },
  {
   "cell_type": "code",
   "execution_count": 32,
   "metadata": {},
   "outputs": [
    {
     "data": {
      "image/png": "[encoded data removed]",
      "text/plain": [
       "<Figure size 640x480 with 1 Axes>"
      ]
     },
     "metadata": {},
     "output_type": "display_data"
    }
   ],
   "source": [
    "loss, val_loss = history.history['loss'], history.history['val_loss']\n",
    "\n",
    "plt.plot(loss, label='loss')\n",
    "plt.plot(val_loss, label='val_loss')\n",
    "plt.legend()\n",
    "plt.show()"
   ]
  },
  {
   "cell_type": "markdown",
   "metadata": {},
   "source": [
    "Test the model on test dataset"
   ]
  },
  {
   "cell_type": "code",
   "execution_count": 33,
   "metadata": {},
   "outputs": [
    {
     "name": "stdout",
     "output_type": "stream",
     "text": [
      "63/63 [==============================] - 2s 25ms/step\n",
      "              precision    recall  f1-score   support\n",
      "\n",
      "           0       0.88      0.75      0.81       275\n",
      "           1       0.85      0.79      0.82       224\n",
      "           2       0.83      0.92      0.87       695\n",
      "           3       0.71      0.65      0.68       159\n",
      "           4       0.86      0.89      0.87       581\n",
      "           5       0.76      0.48      0.59        66\n",
      "\n",
      "    accuracy                           0.84      2000\n",
      "   macro avg       0.81      0.75      0.77      2000\n",
      "weighted avg       0.84      0.84      0.83      2000\n",
      "\n",
      "[[206   8  12   6  42   1]\n",
      " [  9 177  12   0  21   5]\n",
      " [  4   4 639  29  15   4]\n",
      " [  1   1  45 104   8   0]\n",
      " [ 12   9  37   7 516   0]\n",
      " [  3  10  21   0   0  32]]\n",
      "0.837\n"
     ]
    }
   ],
   "source": [
    "predictions = model.predict(X_test_)\n",
    "prediction_labels = predictions.argmax(axis=1)\n",
    "print(classification_report(y_test, prediction_labels))\n",
    "print(confusion_matrix(y_test_, prediction_labels))\n",
    "print(accuracy_score(y_test_, prediction_labels))"
   ]
  },
  {
   "attachments": {},
   "cell_type": "markdown",
   "metadata": {},
   "source": [
    "I have tried several dozens of times on this model: increasing and reducing the layers, increasing and reducing the neurons in each layer, tuning the regularization parameter, changing regularization, tuning the learning rate, batch size, *etc*.\n",
    "\n",
    "I also tried to experiment on the different input, using different representation of original text for model training, such as embedding with spacy. There were several different accuracy ceiling for my model from low to high with increasing the model complexity, `34%` to `56%`, and `86%`. And finally I got this result with the tf_idf matrix representation for training the model while the scale of the model is large with nearly 34 million. And the Accuracy on test was improved from `< 40%` to now `> 80%`.\n",
    "\n",
    "With `> 80%` accuracy, I also run dozens of experimentation to improve the accuracy, however, it is very hard to get a better accuracy, in the meantime I am already overfitting with the training set. I tried to tackle the overfitting problem, but I will get lower accuracy. So I decided to keep this model setup."
   ]
  },
  {
   "cell_type": "markdown",
   "metadata": {},
   "source": [
    "Save the model, the folder of saved model is ignored for commit to github"
   ]
  },
  {
   "cell_type": "code",
   "execution_count": null,
   "metadata": {},
   "outputs": [
    {
     "name": "stderr",
     "output_type": "stream",
     "text": [
      "WARNING:absl:Found untraced functions such as _update_step_xla while saving (showing 1 of 1). These functions will not be directly callable after loading.\n"
     ]
    },
    {
     "name": "stdout",
     "output_type": "stream",
     "text": [
      "INFO:tensorflow:Assets written to: FNN_model/assets\n"
     ]
    },
    {
     "name": "stderr",
     "output_type": "stream",
     "text": [
      "INFO:tensorflow:Assets written to: FNN_model/assets\n"
     ]
    }
   ],
   "source": [
    "model.save('FNN_model')"
   ]
  },
  {
   "attachments": {},
   "cell_type": "markdown",
   "metadata": {},
   "source": [
    "# RNN, LSTM and GRU"
   ]
  },
  {
   "cell_type": "code",
   "execution_count": 52,
   "metadata": {},
   "outputs": [],
   "source": [
    "def plot_results(history):\n",
    "    hist_df = pd.DataFrame(history.history)\n",
    "    hist_df.columns=[\"loss\", \"accuracy\", \"val_loss\", \"val_accuracy\"]\n",
    "    hist_df.index = np.arange(1, len(hist_df)+1)\n",
    "\n",
    "    fig, axs = plt.subplots(nrows=2, sharex=True, figsize=(16, 10))\n",
    "    axs[0].plot(hist_df.val_accuracy, lw=3, label='Validation Accuracy')\n",
    "    axs[0].plot(hist_df.accuracy, lw=3, label='Training Accuracy')\n",
    "    axs[0].set_ylabel('Accuracy')\n",
    "    axs[0].set_xlabel('Epoch')\n",
    "    axs[0].grid()\n",
    "    axs[0].legend(loc=0)\n",
    "    axs[1].plot(hist_df.val_loss, lw=3, label='Validation Loss')\n",
    "    axs[1].plot(hist_df.loss, lw=3, label='Training Loss')\n",
    "    axs[1].set_ylabel('Loss')\n",
    "    axs[1].set_xlabel('Epoch')\n",
    "    axs[1].grid()\n",
    "    axs[1].legend(loc=0)\n",
    "\n",
    "    plt.show();"
   ]
  },
  {
   "cell_type": "code",
   "execution_count": 46,
   "metadata": {},
   "outputs": [
    {
     "data": {
      "text/html": [
       "<div>\n",
       "<style scoped>\n",
       "    .dataframe tbody tr th:only-of-type {\n",
       "        vertical-align: middle;\n",
       "    }\n",
       "\n",
       "    .dataframe tbody tr th {\n",
       "        vertical-align: top;\n",
       "    }\n",
       "\n",
       "    .dataframe thead th {\n",
       "        text-align: right;\n",
       "    }\n",
       "</style>\n",
       "<table border=\"1\" class=\"dataframe\">\n",
       "  <thead>\n",
       "    <tr style=\"text-align: right;\">\n",
       "      <th></th>\n",
       "      <th>tweet</th>\n",
       "      <th>sentiment</th>\n",
       "      <th>processed</th>\n",
       "    </tr>\n",
       "  </thead>\n",
       "  <tbody>\n",
       "    <tr>\n",
       "      <th>0</th>\n",
       "      <td>i didnt feel humiliated</td>\n",
       "      <td>sadness</td>\n",
       "      <td>not feel humiliate</td>\n",
       "    </tr>\n",
       "    <tr>\n",
       "      <th>1</th>\n",
       "      <td>i can go from feeling so hopeless to so damned...</td>\n",
       "      <td>sadness</td>\n",
       "      <td>feel hopeless damn hopeful care awake</td>\n",
       "    </tr>\n",
       "    <tr>\n",
       "      <th>2</th>\n",
       "      <td>im grabbing a minute to post i feel greedy wrong</td>\n",
       "      <td>anger</td>\n",
       "      <td>m grab minute post feel greedy wrong</td>\n",
       "    </tr>\n",
       "    <tr>\n",
       "      <th>3</th>\n",
       "      <td>i am ever feeling nostalgic about the fireplac...</td>\n",
       "      <td>love</td>\n",
       "      <td>feel nostalgic fireplace know property</td>\n",
       "    </tr>\n",
       "    <tr>\n",
       "      <th>4</th>\n",
       "      <td>i am feeling grouchy</td>\n",
       "      <td>anger</td>\n",
       "      <td>feel grouchy</td>\n",
       "    </tr>\n",
       "  </tbody>\n",
       "</table>\n",
       "</div>"
      ],
      "text/plain": [
       "                                               tweet sentiment  \\\n",
       "0                            i didnt feel humiliated   sadness   \n",
       "1  i can go from feeling so hopeless to so damned...   sadness   \n",
       "2   im grabbing a minute to post i feel greedy wrong     anger   \n",
       "3  i am ever feeling nostalgic about the fireplac...      love   \n",
       "4                               i am feeling grouchy     anger   \n",
       "\n",
       "                                processed  \n",
       "0                      not feel humiliate  \n",
       "1   feel hopeless damn hopeful care awake  \n",
       "2    m grab minute post feel greedy wrong  \n",
       "3  feel nostalgic fireplace know property  \n",
       "4                            feel grouchy  "
      ]
     },
     "execution_count": 46,
     "metadata": {},
     "output_type": "execute_result"
    }
   ],
   "source": [
    "df_train.head()"
   ]
  },
  {
   "cell_type": "code",
   "execution_count": 16,
   "metadata": {},
   "outputs": [],
   "source": [
    "# max_length = df_train['tweet'].map(lambda x: len(x)).sort_values().values[-1] # the length of the longest tweet 300\n",
    "max_length = 100\n",
    "trunc_type='post'\n",
    "# oov_tok = \"<OOV>\"\n",
    "\n",
    "tokenizer = Tokenizer() #(num_words = vocab_size, oov_token=oov_tok)\n",
    "tokenizer.fit_on_texts(df_train['tweet'])\n",
    "word_index = tokenizer.word_index\n",
    "sequences = tokenizer.texts_to_sequences(df_train['tweet'])\n",
    "padded = pad_sequences(sequences, maxlen=max_length, truncating=trunc_type)\n",
    "\n",
    "testing_sequences = tokenizer.texts_to_sequences(df_test['tweet'])\n",
    "testing_padded = pad_sequences(testing_sequences,maxlen=max_length)"
   ]
  },
  {
   "cell_type": "code",
   "execution_count": 67,
   "metadata": {},
   "outputs": [],
   "source": [
    "le = LabelEncoder()\n",
    "y_train = le.fit_transform(df_train['sentiment'])\n",
    "y_test = le.transform(df_test['sentiment'])\n",
    "y_train_encoded = to_categorical(y_train)\n",
    "y_test_encoded = to_categorical(y_test)"
   ]
  },
  {
   "cell_type": "code",
   "execution_count": 68,
   "metadata": {},
   "outputs": [
    {
     "name": "stdout",
     "output_type": "stream",
     "text": [
      "Model: \"sequential_7\"\n",
      "_________________________________________________________________\n",
      " Layer (type)                Output Shape              Param #   \n",
      "=================================================================\n",
      " embedding_1 (Embedding)     (None, 100, 100)          1521300   \n",
      "                                                                 \n",
      " bidirectional_1 (Bidirecti  (None, 128)               84480     \n",
      " onal)                                                           \n",
      "                                                                 \n",
      " dropout_2 (Dropout)         (None, 128)               0         \n",
      "                                                                 \n",
      " dense_31 (Dense)            (None, 32)                4128      \n",
      "                                                                 \n",
      " dropout_3 (Dropout)         (None, 32)                0         \n",
      "                                                                 \n",
      " dense_32 (Dense)            (None, 6)                 198       \n",
      "                                                                 \n",
      "=================================================================\n",
      "Total params: 1610106 (6.14 MB)\n",
      "Trainable params: 1610106 (6.14 MB)\n",
      "Non-trainable params: 0 (0.00 Byte)\n",
      "_________________________________________________________________\n",
      "None\n"
     ]
    }
   ],
   "source": [
    "vocab_size = len(tokenizer.word_index) + 1\n",
    "embedding_dim = max_length\n",
    "\n",
    "\n",
    "model = tf.keras.Sequential([\n",
    "    Embedding(vocab_size, embedding_dim, input_length=max_length),\n",
    "    Bidirectional(LSTM(64)), #32 \n",
    "    Dropout(0.4),\n",
    "    Dense(32, activation='leaky_relu', kernel_regularizer='l1_l2'),\n",
    "    Dropout(0.4),\n",
    "    Dense(6, activation='softmax')\n",
    "])\n",
    "\n",
    "\n",
    "loss_function = 'categorical_crossentropy'\n",
    "optimizer = 'adam'\n",
    "\n",
    "model.compile(loss=loss_function, optimizer=optimizer, metrics=['accuracy', Precision(), Recall(), AUC()])\n",
    "\n",
    "print(model.summary())"
   ]
  },
  {
   "cell_type": "code",
   "execution_count": 69,
   "metadata": {},
   "outputs": [
    {
     "name": "stdout",
     "output_type": "stream",
     "text": [
      "Epoch 1/50\n"
     ]
    },
    {
     "name": "stdout",
     "output_type": "stream",
     "text": [
      "400/400 [==============================] - 32s 76ms/step - loss: 2.4517 - accuracy: 0.3246 - precision_1: 0.4074 - recall_1: 8.5937e-04 - auc_1: 0.7077 - val_loss: 1.6222 - val_accuracy: 0.3262 - val_precision_1: 0.0000e+00 - val_recall_1: 0.0000e+00 - val_auc_1: 0.7213\n",
      "Epoch 2/50\n",
      "400/400 [==============================] - 28s 70ms/step - loss: 1.4274 - accuracy: 0.3801 - precision_1: 0.5340 - recall_1: 0.0988 - auc_1: 0.8078 - val_loss: 1.2881 - val_accuracy: 0.4272 - val_precision_1: 0.0000e+00 - val_recall_1: 0.0000e+00 - val_auc_1: 0.8497\n",
      "Epoch 3/50\n",
      "400/400 [==============================] - 27s 66ms/step - loss: 1.2253 - accuracy: 0.4298 - precision_1: 0.5394 - recall_1: 0.2070 - auc_1: 0.8606 - val_loss: 1.2335 - val_accuracy: 0.4284 - val_precision_1: 0.5097 - val_recall_1: 0.2459 - val_auc_1: 0.8579\n",
      "Epoch 4/50\n",
      "400/400 [==============================] - 29s 73ms/step - loss: 1.1390 - accuracy: 0.4620 - precision_1: 0.5398 - recall_1: 0.2554 - auc_1: 0.8769 - val_loss: 1.1757 - val_accuracy: 0.4666 - val_precision_1: 0.5103 - val_recall_1: 0.2547 - val_auc_1: 0.8690\n",
      "Epoch 5/50\n",
      "400/400 [==============================] - 32s 81ms/step - loss: 1.0278 - accuracy: 0.5120 - precision_1: 0.5466 - recall_1: 0.3318 - auc_1: 0.8947 - val_loss: 1.1125 - val_accuracy: 0.4863 - val_precision_1: 0.5587 - val_recall_1: 0.1369 - val_auc_1: 0.8817\n",
      "Epoch 6/50\n",
      "400/400 [==============================] - 25s 63ms/step - loss: 0.9486 - accuracy: 0.5341 - precision_1: 0.5512 - recall_1: 0.3899 - auc_1: 0.9026 - val_loss: 1.0521 - val_accuracy: 0.5016 - val_precision_1: 0.5263 - val_recall_1: 0.2997 - val_auc_1: 0.8894\n",
      "Epoch 7/50\n",
      "400/400 [==============================] - 25s 62ms/step - loss: 0.8946 - accuracy: 0.5463 - precision_1: 0.5605 - recall_1: 0.4348 - auc_1: 0.9088 - val_loss: 1.0406 - val_accuracy: 0.5053 - val_precision_1: 0.5242 - val_recall_1: 0.3919 - val_auc_1: 0.8910\n",
      "Epoch 8/50\n",
      "400/400 [==============================] - 27s 67ms/step - loss: 0.8617 - accuracy: 0.5548 - precision_1: 0.5668 - recall_1: 0.4464 - auc_1: 0.9123 - val_loss: 1.0259 - val_accuracy: 0.5103 - val_precision_1: 0.5276 - val_recall_1: 0.3706 - val_auc_1: 0.8935\n",
      "Epoch 9/50\n",
      "400/400 [==============================] - 37s 93ms/step - loss: 0.7431 - accuracy: 0.6916 - precision_1: 0.7296 - recall_1: 0.6068 - auc_1: 0.9533 - val_loss: 0.7457 - val_accuracy: 0.7763 - val_precision_1: 0.8185 - val_recall_1: 0.7369 - val_auc_1: 0.9611\n",
      "Epoch 10/50\n",
      "400/400 [==============================] - 28s 69ms/step - loss: 0.4923 - accuracy: 0.8850 - precision_1: 0.9091 - recall_1: 0.8473 - auc_1: 0.9883 - val_loss: 0.6647 - val_accuracy: 0.8641 - val_precision_1: 0.8918 - val_recall_1: 0.8500 - val_auc_1: 0.9734\n",
      "Epoch 11/50\n",
      "400/400 [==============================] - 27s 68ms/step - loss: 0.3759 - accuracy: 0.9347 - precision_1: 0.9494 - recall_1: 0.9177 - auc_1: 0.9945 - val_loss: 0.5783 - val_accuracy: 0.8869 - val_precision_1: 0.9005 - val_recall_1: 0.8684 - val_auc_1: 0.9758\n",
      "Epoch 12/50\n",
      "400/400 [==============================] - 28s 71ms/step - loss: 0.3100 - accuracy: 0.9551 - precision_1: 0.9659 - recall_1: 0.9416 - auc_1: 0.9971 - val_loss: 0.5511 - val_accuracy: 0.8922 - val_precision_1: 0.9070 - val_recall_1: 0.8684 - val_auc_1: 0.9778\n",
      "Epoch 13/50\n",
      "400/400 [==============================] - 26s 64ms/step - loss: 0.2853 - accuracy: 0.9632 - precision_1: 0.9708 - recall_1: 0.9516 - auc_1: 0.9975 - val_loss: 0.5539 - val_accuracy: 0.8950 - val_precision_1: 0.9032 - val_recall_1: 0.8831 - val_auc_1: 0.9775\n",
      "Epoch 14/50\n",
      "400/400 [==============================] - 31s 79ms/step - loss: 0.2609 - accuracy: 0.9694 - precision_1: 0.9747 - recall_1: 0.9616 - auc_1: 0.9979 - val_loss: 0.5222 - val_accuracy: 0.8984 - val_precision_1: 0.9078 - val_recall_1: 0.8919 - val_auc_1: 0.9794\n",
      "Epoch 15/50\n",
      "400/400 [==============================] - 28s 69ms/step - loss: 0.2422 - accuracy: 0.9723 - precision_1: 0.9768 - recall_1: 0.9659 - auc_1: 0.9983 - val_loss: 0.5398 - val_accuracy: 0.8934 - val_precision_1: 0.9031 - val_recall_1: 0.8878 - val_auc_1: 0.9777\n",
      "Epoch 16/50\n",
      "400/400 [==============================] - 33s 82ms/step - loss: 0.2737 - accuracy: 0.9656 - precision_1: 0.9709 - recall_1: 0.9594 - auc_1: 0.9972 - val_loss: 0.5300 - val_accuracy: 0.8909 - val_precision_1: 0.9028 - val_recall_1: 0.8856 - val_auc_1: 0.9797\n",
      "Epoch 17/50\n",
      "400/400 [==============================] - 33s 83ms/step - loss: 0.2105 - accuracy: 0.9792 - precision_1: 0.9824 - recall_1: 0.9746 - auc_1: 0.9990 - val_loss: 0.5209 - val_accuracy: 0.8984 - val_precision_1: 0.9055 - val_recall_1: 0.8953 - val_auc_1: 0.9791\n",
      "Epoch 18/50\n",
      "400/400 [==============================] - 29s 72ms/step - loss: 0.1944 - accuracy: 0.9827 - precision_1: 0.9852 - recall_1: 0.9798 - auc_1: 0.9992 - val_loss: 0.5223 - val_accuracy: 0.8991 - val_precision_1: 0.9044 - val_recall_1: 0.8959 - val_auc_1: 0.9792\n",
      "Epoch 19/50\n",
      "400/400 [==============================] - 28s 70ms/step - loss: 0.1799 - accuracy: 0.9861 - precision_1: 0.9888 - recall_1: 0.9832 - auc_1: 0.9996 - val_loss: 0.5374 - val_accuracy: 0.9006 - val_precision_1: 0.9053 - val_recall_1: 0.8994 - val_auc_1: 0.9763\n",
      "Epoch 20/50\n",
      "400/400 [==============================] - 26s 66ms/step - loss: 0.1958 - accuracy: 0.9827 - precision_1: 0.9857 - recall_1: 0.9803 - auc_1: 0.9988 - val_loss: 0.5470 - val_accuracy: 0.8856 - val_precision_1: 0.8938 - val_recall_1: 0.8813 - val_auc_1: 0.9760\n"
     ]
    }
   ],
   "source": [
    "predictors = np.array(padded) \n",
    "label = np.array(y_train_encoded)\n",
    "epochs_value = 50\n",
    "validation_split_value = 0.2\n",
    "early_stopping = tf.keras.callbacks.EarlyStopping(patience=3)\n",
    "\n",
    "history = model.fit(predictors, label, epochs=epochs_value, verbose=1, validation_split=validation_split_value, callbacks=[early_stopping])"
   ]
  },
  {
   "cell_type": "code",
   "execution_count": 70,
   "metadata": {},
   "outputs": [
    {
     "data": {
      "image/png": "[encoded data removed]",
      "text/plain": [
       "<Figure size 640x480 with 1 Axes>"
      ]
     },
     "metadata": {},
     "output_type": "display_data"
    }
   ],
   "source": [
    "loss, val_loss = history.history['loss'], history.history['val_loss']\n",
    "plt.plot(loss, label='loss')\n",
    "plt.plot(val_loss, label='val_loss')\n",
    "plt.legend()\n",
    "plt.show()"
   ]
  },
  {
   "cell_type": "code",
   "execution_count": 71,
   "metadata": {},
   "outputs": [
    {
     "name": "stdout",
     "output_type": "stream",
     "text": [
      "63/63 [==============================] - 2s 16ms/step\n",
      "              precision    recall  f1-score   support\n",
      "\n",
      "           0       0.92      0.87      0.89       275\n",
      "           1       0.84      0.91      0.87       224\n",
      "           2       0.95      0.88      0.91       695\n",
      "           3       0.82      0.79      0.80       159\n",
      "           4       0.87      0.96      0.91       581\n",
      "           5       0.77      0.67      0.72        66\n",
      "\n",
      "    accuracy                           0.89      2000\n",
      "   macro avg       0.86      0.85      0.85      2000\n",
      "weighted avg       0.89      0.89      0.89      2000\n",
      "\n",
      "[[239  11   4   0  21   0]\n",
      " [  7 204   0   0   5   8]\n",
      " [  0   3 613  27  47   5]\n",
      " [  1   3  25 125   5   0]\n",
      " [ 14   5   5   0 557   0]\n",
      " [  0  18   1   1   2  44]]\n",
      "0.891\n"
     ]
    }
   ],
   "source": [
    "predictions = model.predict(testing_padded)\n",
    "prediction_labels = predictions.argmax(axis=1)\n",
    "print(classification_report(y_test, prediction_labels))\n",
    "print(confusion_matrix(y_test, prediction_labels))\n",
    "print(accuracy_score(y_test, prediction_labels))"
   ]
  },
  {
   "attachments": {},
   "cell_type": "markdown",
   "metadata": {},
   "source": [
    "# Transformer based Pretrained model"
   ]
  },
  {
   "cell_type": "code",
   "execution_count": 17,
   "metadata": {},
   "outputs": [
    {
     "data": {
      "text/html": [
       "<div>\n",
       "<style scoped>\n",
       "    .dataframe tbody tr th:only-of-type {\n",
       "        vertical-align: middle;\n",
       "    }\n",
       "\n",
       "    .dataframe tbody tr th {\n",
       "        vertical-align: top;\n",
       "    }\n",
       "\n",
       "    .dataframe thead th {\n",
       "        text-align: right;\n",
       "    }\n",
       "</style>\n",
       "<table border=\"1\" class=\"dataframe\">\n",
       "  <thead>\n",
       "    <tr style=\"text-align: right;\">\n",
       "      <th></th>\n",
       "      <th>tweet</th>\n",
       "      <th>sentiment</th>\n",
       "    </tr>\n",
       "  </thead>\n",
       "  <tbody>\n",
       "    <tr>\n",
       "      <th>0</th>\n",
       "      <td>i didnt feel humiliated</td>\n",
       "      <td>sadness</td>\n",
       "    </tr>\n",
       "    <tr>\n",
       "      <th>1</th>\n",
       "      <td>i can go from feeling so hopeless to so damned...</td>\n",
       "      <td>sadness</td>\n",
       "    </tr>\n",
       "    <tr>\n",
       "      <th>2</th>\n",
       "      <td>im grabbing a minute to post i feel greedy wrong</td>\n",
       "      <td>anger</td>\n",
       "    </tr>\n",
       "    <tr>\n",
       "      <th>3</th>\n",
       "      <td>i am ever feeling nostalgic about the fireplac...</td>\n",
       "      <td>love</td>\n",
       "    </tr>\n",
       "    <tr>\n",
       "      <th>4</th>\n",
       "      <td>i am feeling grouchy</td>\n",
       "      <td>anger</td>\n",
       "    </tr>\n",
       "  </tbody>\n",
       "</table>\n",
       "</div>"
      ],
      "text/plain": [
       "                                               tweet sentiment\n",
       "0                            i didnt feel humiliated   sadness\n",
       "1  i can go from feeling so hopeless to so damned...   sadness\n",
       "2   im grabbing a minute to post i feel greedy wrong     anger\n",
       "3  i am ever feeling nostalgic about the fireplac...      love\n",
       "4                               i am feeling grouchy     anger"
      ]
     },
     "execution_count": 17,
     "metadata": {},
     "output_type": "execute_result"
    }
   ],
   "source": [
    "texts_train = df_train['tweet']\n",
    "texts_test = df_test['tweet']\n",
    "\n",
    "df_train.head()"
   ]
  },
  {
   "attachments": {},
   "cell_type": "markdown",
   "metadata": {},
   "source": [
    "- Importing Transformers"
   ]
  },
  {
   "cell_type": "markdown",
   "metadata": {},
   "source": [
    "Fast Encode Function Retrieved From the internet."
   ]
  },
  {
   "cell_type": "code",
   "execution_count": 33,
   "metadata": {},
   "outputs": [],
   "source": [
    "from tqdm import tqdm\n",
    "\n",
    "def fast_encode(texts, tokenizer, chunk_size=256, maxlen=512):\n",
    "    \"\"\"\n",
    "    Encoder for encoding the text into sequence of integers for BERT Input\n",
    "    \"\"\"\n",
    "    tokenizer.enable_truncation(max_length=maxlen)\n",
    "    tokenizer.enable_padding(length=maxlen)\n",
    "    all_ids = []\n",
    "    \n",
    "    for i in tqdm(range(0, len(texts), chunk_size)):\n",
    "        text_chunk = texts[i:i+chunk_size].tolist()\n",
    "        encs = tokenizer.encode_batch(text_chunk)\n",
    "        all_ids.extend([enc.ids for enc in encs])\n",
    "    \n",
    "    return np.array(all_ids)"
   ]
  },
  {
   "cell_type": "code",
   "execution_count": 34,
   "metadata": {},
   "outputs": [
    {
     "data": {
      "text/plain": [
       "Tokenizer(vocabulary_size=119547, model=BertWordPiece, unk_token=[UNK], sep_token=[SEP], cls_token=[CLS], pad_token=[PAD], mask_token=[MASK], clean_text=True, handle_chinese_chars=True, strip_accents=None, lowercase=False, wordpieces_prefix=##)"
      ]
     },
     "execution_count": 34,
     "metadata": {},
     "output_type": "execute_result"
    }
   ],
   "source": [
    "import transformers\n",
    "from tokenizers import BertWordPieceTokenizer\n",
    "\n",
    "#Loading bert tokenizer\n",
    "bert_tokenizer = transformers.DistilBertTokenizer.from_pretrained('distilbert-base-multilingual-cased')\n",
    "\n",
    "#Saving it on our local folder\n",
    "bert_tokenizer.save_pretrained('.')\n",
    "\n",
    "\n",
    "#Loading a fast tokenizer\n",
    "fast_tokenizer = BertWordPieceTokenizer('vocab.txt', lowercase=False)\n",
    "fast_tokenizer"
   ]
  },
  {
   "cell_type": "markdown",
   "metadata": {},
   "source": [
    "Creation of validation set"
   ]
  },
  {
   "cell_type": "code",
   "execution_count": 29,
   "metadata": {},
   "outputs": [],
   "source": [
    "bert_X_train, bert_X_valid, bert_Y_train, bert_Y_valid = train_test_split(df_train['tweet'].values, df_train['sentiment'].values,test_size=0.2,random_state=42,stratify=df_train['sentiment'])"
   ]
  },
  {
   "cell_type": "markdown",
   "metadata": {},
   "source": [
    "Encoding raw test for training validation and test."
   ]
  },
  {
   "cell_type": "code",
   "execution_count": 35,
   "metadata": {},
   "outputs": [
    {
     "name": "stderr",
     "output_type": "stream",
     "text": [
      "100%|██████████| 50/50 [00:00<00:00, 98.03it/s] \n",
      "100%|██████████| 13/13 [00:00<00:00, 172.87it/s]\n",
      "100%|██████████| 8/8 [00:00<00:00, 180.64it/s]\n"
     ]
    }
   ],
   "source": [
    "X_train = fast_encode(bert_X_train, fast_tokenizer, maxlen=max_length)\n",
    "X_valid = fast_encode(bert_X_valid, fast_tokenizer, maxlen=max_length)\n",
    "X_test = fast_encode(df_test['tweet'].to_numpy(), fast_tokenizer, maxlen=max_length)"
   ]
  },
  {
   "cell_type": "code",
   "execution_count": 37,
   "metadata": {},
   "outputs": [
    {
     "data": {
      "text/plain": [
       "(12800, 100)"
      ]
     },
     "execution_count": 37,
     "metadata": {},
     "output_type": "execute_result"
    }
   ],
   "source": [
    "X_train.shape"
   ]
  },
  {
   "cell_type": "markdown",
   "metadata": {},
   "source": [
    "Encoding the labels."
   ]
  },
  {
   "cell_type": "code",
   "execution_count": 40,
   "metadata": {},
   "outputs": [],
   "source": [
    "le = LabelEncoder()\n",
    "y_train = le.fit_transform(bert_Y_train)\n",
    "y_valid = le.transform(bert_Y_valid)\n",
    "y_test = le.transform(df_test['sentiment'])\n",
    "y_train_encoded = to_categorical(y_train)\n",
    "y_valid_encoded = to_categorical(y_valid)\n",
    "y_test_encoded = to_categorical(y_test)\n",
    "\n",
    "\n",
    "\n",
    "BATCH_SIZE = 16\n",
    "\n",
    "train_dataset = (\n",
    "    tf.data.Dataset\n",
    "    .from_tensor_slices((X_train, y_train_encoded))\n",
    "    .repeat()\n",
    "    .shuffle(2048)\n",
    "    .batch(BATCH_SIZE)\n",
    "    \n",
    ")\n",
    "\n",
    "valid_dataset = (\n",
    "    tf.data.Dataset\n",
    "    .from_tensor_slices((X_valid, y_valid_encoded))\n",
    "    .batch(BATCH_SIZE)\n",
    "    .cache()\n",
    "    \n",
    ")\n",
    "\n",
    "test_dataset = (\n",
    "    tf.data.Dataset\n",
    "    .from_tensor_slices(X_test,y_test_encoded)\n",
    "    .batch(BATCH_SIZE)\n",
    ")"
   ]
  },
  {
   "cell_type": "markdown",
   "metadata": {},
   "source": [
    "Creating TensorFlow Datasets with our data."
   ]
  },
  {
   "cell_type": "code",
   "execution_count": 43,
   "metadata": {},
   "outputs": [],
   "source": [
    "BATCH_SIZE = 16\n",
    "\n",
    "train_dataset = (\n",
    "    tf.data.Dataset\n",
    "    .from_tensor_slices((X_train, y_train_encoded))\n",
    "    .repeat()\n",
    "    .shuffle(2048)\n",
    "    .batch(BATCH_SIZE)\n",
    "    \n",
    ")\n",
    "\n",
    "valid_dataset = (\n",
    "    tf.data.Dataset\n",
    "    .from_tensor_slices((X_valid, y_valid_encoded))\n",
    "    .batch(BATCH_SIZE)\n",
    "    .cache()\n",
    "    \n",
    ")\n",
    "\n",
    "test_dataset = (\n",
    "    tf.data.Dataset\n",
    "    .from_tensor_slices((X_test,y_test_encoded))\n",
    "    .batch(BATCH_SIZE)\n",
    ")"
   ]
  },
  {
   "cell_type": "markdown",
   "metadata": {},
   "source": [
    "Building the model."
   ]
  },
  {
   "cell_type": "code",
   "execution_count": 45,
   "metadata": {},
   "outputs": [],
   "source": [
    "from keras.optimizers.experimental import Adam\n",
    "\n",
    "def build_model(transformer, max_len=512):\n",
    "    \"\"\"\n",
    "    function for training the BERT model\n",
    "    \"\"\"\n",
    "    input_word_ids = tf.keras.layers.Input(shape=(max_len,), dtype=tf.int32, name=\"input_word_ids\")\n",
    "    sequence_output = transformer(input_word_ids)[0]\n",
    "    cls_token = sequence_output[:, 0, :]\n",
    "    out = Dense(6, activation='softmax')(cls_token)\n",
    "    \n",
    "    model = tf.keras.Model(inputs=input_word_ids, outputs=out)\n",
    "    model.compile(Adam(lr=1e-5), loss='categorical_crossentropy', metrics=['accuracy', Precision(), Recall(), AUC()])\n",
    "    \n",
    "    return model"
   ]
  },
  {
   "cell_type": "code",
   "execution_count": 46,
   "metadata": {},
   "outputs": [
    {
     "name": "stderr",
     "output_type": "stream",
     "text": [
      "Downloading model.safetensors: 100%|██████████| 542M/542M [00:39<00:00, 13.9MB/s] \n",
      "Some weights of the PyTorch model were not used when initializing the TF 2.0 model TFDistilBertModel: ['vocab_projector.bias', 'vocab_layer_norm.weight', 'vocab_transform.bias', 'vocab_transform.weight', 'vocab_layer_norm.bias']\n",
      "- This IS expected if you are initializing TFDistilBertModel from a PyTorch model trained on another task or with another architecture (e.g. initializing a TFBertForSequenceClassification model from a BertForPreTraining model).\n",
      "- This IS NOT expected if you are initializing TFDistilBertModel from a PyTorch model that you expect to be exactly identical (e.g. initializing a TFBertForSequenceClassification model from a BertForSequenceClassification model).\n",
      "All the weights of TFDistilBertModel were initialized from the PyTorch model.\n",
      "If your task is similar to the task the model of the checkpoint was trained on, you can already use TFDistilBertModel for predictions without further training.\n",
      "WARNING:absl:`lr` is deprecated in Keras optimizer, please use `learning_rate` or use the legacy optimizer, e.g.,tf.keras.optimizers.legacy.Adam.\n"
     ]
    },
    {
     "ename": "NameError",
     "evalue": "name 'model' is not defined",
     "output_type": "error",
     "traceback": [
      "\u001b[1;31m---------------------------------------------------------------------------\u001b[0m",
      "\u001b[1;31mNameError\u001b[0m                                 Traceback (most recent call last)",
      "Cell \u001b[1;32mIn[46], line 7\u001b[0m\n\u001b[0;32m      1\u001b[0m transformer_layer \u001b[39m=\u001b[39m (\n\u001b[0;32m      2\u001b[0m     transformers\u001b[39m.\u001b[39mTFDistilBertModel\u001b[39m.\u001b[39mfrom_pretrained(\u001b[39m'\u001b[39m\u001b[39mdistilbert-base-multilingual-cased\u001b[39m\u001b[39m'\u001b[39m)\n\u001b[0;32m      3\u001b[0m )\n\u001b[0;32m      6\u001b[0m bert_model \u001b[39m=\u001b[39m build_model(transformer_layer, max_len\u001b[39m=\u001b[39mmax_length)\n\u001b[1;32m----> 7\u001b[0m model\u001b[39m.\u001b[39msummary()\n",
      "\u001b[1;31mNameError\u001b[0m: name 'model' is not defined"
     ]
    }
   ],
   "source": [
    "transformer_layer = (\n",
    "    transformers.TFDistilBertModel.from_pretrained('distilbert-base-multilingual-cased')\n",
    ")\n",
    "\n",
    "\n",
    "bert_model = build_model(transformer_layer, max_len=max_length)\n"
   ]
  },
  {
   "cell_type": "code",
   "execution_count": 47,
   "metadata": {},
   "outputs": [
    {
     "name": "stdout",
     "output_type": "stream",
     "text": [
      "Model: \"model\"\n",
      "_________________________________________________________________\n",
      " Layer (type)                Output Shape              Param #   \n",
      "=================================================================\n",
      " input_word_ids (InputLayer  [(None, 100)]             0         \n",
      " )                                                               \n",
      "                                                                 \n",
      " tf_distil_bert_model (TFDi  TFBaseModelOutput(last_   134734080 \n",
      " stilBertModel)              hidden_state=(None, 100             \n",
      "                             , 768),                             \n",
      "                              hidden_states=None, at             \n",
      "                             tentions=None)                      \n",
      "                                                                 \n",
      " tf.__operators__.getitem (  (None, 768)               0         \n",
      " SlicingOpLambda)                                                \n",
      "                                                                 \n",
      " dense (Dense)               (None, 6)                 4614      \n",
      "                                                                 \n",
      "=================================================================\n",
      "Total params: 134738694 (513.99 MB)\n",
      "Trainable params: 134738694 (513.99 MB)\n",
      "Non-trainable params: 0 (0.00 Byte)\n",
      "_________________________________________________________________\n"
     ]
    }
   ],
   "source": [
    "bert_model.summary()"
   ]
  },
  {
   "cell_type": "markdown",
   "metadata": {},
   "source": [
    "Freezing all other layers"
   ]
  },
  {
   "cell_type": "code",
   "execution_count": 49,
   "metadata": {},
   "outputs": [],
   "source": [
    "bert_model.layers[0].trainable = False\n",
    "bert_model.layers[1].trainable = False\n",
    "bert_model.layers[2].trainable = False"
   ]
  },
  {
   "cell_type": "code",
   "execution_count": 50,
   "metadata": {},
   "outputs": [
    {
     "name": "stdout",
     "output_type": "stream",
     "text": [
      "Model: \"model\"\n",
      "_________________________________________________________________\n",
      " Layer (type)                Output Shape              Param #   \n",
      "=================================================================\n",
      " input_word_ids (InputLayer  [(None, 100)]             0         \n",
      " )                                                               \n",
      "                                                                 \n",
      " tf_distil_bert_model (TFDi  TFBaseModelOutput(last_   134734080 \n",
      " stilBertModel)              hidden_state=(None, 100             \n",
      "                             , 768),                             \n",
      "                              hidden_states=None, at             \n",
      "                             tentions=None)                      \n",
      "                                                                 \n",
      " tf.__operators__.getitem (  (None, 768)               0         \n",
      " SlicingOpLambda)                                                \n",
      "                                                                 \n",
      " dense (Dense)               (None, 6)                 4614      \n",
      "                                                                 \n",
      "=================================================================\n",
      "Total params: 134738694 (513.99 MB)\n",
      "Trainable params: 4614 (18.02 KB)\n",
      "Non-trainable params: 134734080 (513.97 MB)\n",
      "_________________________________________________________________\n"
     ]
    }
   ],
   "source": [
    "bert_model.summary()"
   ]
  },
  {
   "cell_type": "code",
   "execution_count": 52,
   "metadata": {},
   "outputs": [
    {
     "name": "stdout",
     "output_type": "stream",
     "text": [
      "Epoch 1/3\n",
      " 18/800 [..............................] - ETA: 39:02 - loss: 3.5536 - accuracy: 0.2500 - precision: 0.2333 - recall: 0.1701 - auc: 0.5437"
     ]
    },
    {
     "ename": "KeyboardInterrupt",
     "evalue": "",
     "output_type": "error",
     "traceback": [
      "\u001b[1;31m---------------------------------------------------------------------------\u001b[0m",
      "\u001b[1;31mKeyboardInterrupt\u001b[0m                         Traceback (most recent call last)",
      "Cell \u001b[1;32mIn[52], line 2\u001b[0m\n\u001b[0;32m      1\u001b[0m n_steps \u001b[39m=\u001b[39m X_train\u001b[39m.\u001b[39mshape[\u001b[39m0\u001b[39m] \u001b[39m/\u001b[39m\u001b[39m/\u001b[39m BATCH_SIZE\n\u001b[1;32m----> 2\u001b[0m train_history \u001b[39m=\u001b[39m bert_model\u001b[39m.\u001b[39;49mfit(\n\u001b[0;32m      3\u001b[0m     train_dataset,\n\u001b[0;32m      4\u001b[0m     steps_per_epoch\u001b[39m=\u001b[39;49mn_steps,\n\u001b[0;32m      5\u001b[0m     validation_data\u001b[39m=\u001b[39;49mvalid_dataset,\n\u001b[0;32m      6\u001b[0m     epochs\u001b[39m=\u001b[39;49m\u001b[39m3\u001b[39;49m\n\u001b[0;32m      7\u001b[0m )\n",
      "File \u001b[1;32md:\\anaconda3\\envs\\computer-vision\\Lib\\site-packages\\keras\\src\\utils\\traceback_utils.py:65\u001b[0m, in \u001b[0;36mfilter_traceback.<locals>.error_handler\u001b[1;34m(*args, **kwargs)\u001b[0m\n\u001b[0;32m     63\u001b[0m filtered_tb \u001b[39m=\u001b[39m \u001b[39mNone\u001b[39;00m\n\u001b[0;32m     64\u001b[0m \u001b[39mtry\u001b[39;00m:\n\u001b[1;32m---> 65\u001b[0m     \u001b[39mreturn\u001b[39;00m fn(\u001b[39m*\u001b[39;49margs, \u001b[39m*\u001b[39;49m\u001b[39m*\u001b[39;49mkwargs)\n\u001b[0;32m     66\u001b[0m \u001b[39mexcept\u001b[39;00m \u001b[39mException\u001b[39;00m \u001b[39mas\u001b[39;00m e:\n\u001b[0;32m     67\u001b[0m     filtered_tb \u001b[39m=\u001b[39m _process_traceback_frames(e\u001b[39m.\u001b[39m__traceback__)\n",
      "File \u001b[1;32md:\\anaconda3\\envs\\computer-vision\\Lib\\site-packages\\keras\\src\\engine\\training.py:1742\u001b[0m, in \u001b[0;36mModel.fit\u001b[1;34m(self, x, y, batch_size, epochs, verbose, callbacks, validation_split, validation_data, shuffle, class_weight, sample_weight, initial_epoch, steps_per_epoch, validation_steps, validation_batch_size, validation_freq, max_queue_size, workers, use_multiprocessing)\u001b[0m\n\u001b[0;32m   1734\u001b[0m \u001b[39mwith\u001b[39;00m tf\u001b[39m.\u001b[39mprofiler\u001b[39m.\u001b[39mexperimental\u001b[39m.\u001b[39mTrace(\n\u001b[0;32m   1735\u001b[0m     \u001b[39m\"\u001b[39m\u001b[39mtrain\u001b[39m\u001b[39m\"\u001b[39m,\n\u001b[0;32m   1736\u001b[0m     epoch_num\u001b[39m=\u001b[39mepoch,\n\u001b[1;32m   (...)\u001b[0m\n\u001b[0;32m   1739\u001b[0m     _r\u001b[39m=\u001b[39m\u001b[39m1\u001b[39m,\n\u001b[0;32m   1740\u001b[0m ):\n\u001b[0;32m   1741\u001b[0m     callbacks\u001b[39m.\u001b[39mon_train_batch_begin(step)\n\u001b[1;32m-> 1742\u001b[0m     tmp_logs \u001b[39m=\u001b[39m \u001b[39mself\u001b[39;49m\u001b[39m.\u001b[39;49mtrain_function(iterator)\n\u001b[0;32m   1743\u001b[0m     \u001b[39mif\u001b[39;00m data_handler\u001b[39m.\u001b[39mshould_sync:\n\u001b[0;32m   1744\u001b[0m         context\u001b[39m.\u001b[39masync_wait()\n",
      "File \u001b[1;32md:\\anaconda3\\envs\\computer-vision\\Lib\\site-packages\\tensorflow\\python\\util\\traceback_utils.py:150\u001b[0m, in \u001b[0;36mfilter_traceback.<locals>.error_handler\u001b[1;34m(*args, **kwargs)\u001b[0m\n\u001b[0;32m    148\u001b[0m filtered_tb \u001b[39m=\u001b[39m \u001b[39mNone\u001b[39;00m\n\u001b[0;32m    149\u001b[0m \u001b[39mtry\u001b[39;00m:\n\u001b[1;32m--> 150\u001b[0m   \u001b[39mreturn\u001b[39;00m fn(\u001b[39m*\u001b[39;49margs, \u001b[39m*\u001b[39;49m\u001b[39m*\u001b[39;49mkwargs)\n\u001b[0;32m    151\u001b[0m \u001b[39mexcept\u001b[39;00m \u001b[39mException\u001b[39;00m \u001b[39mas\u001b[39;00m e:\n\u001b[0;32m    152\u001b[0m   filtered_tb \u001b[39m=\u001b[39m _process_traceback_frames(e\u001b[39m.\u001b[39m__traceback__)\n",
      "File \u001b[1;32md:\\anaconda3\\envs\\computer-vision\\Lib\\site-packages\\tensorflow\\python\\eager\\polymorphic_function\\polymorphic_function.py:825\u001b[0m, in \u001b[0;36mFunction.__call__\u001b[1;34m(self, *args, **kwds)\u001b[0m\n\u001b[0;32m    822\u001b[0m compiler \u001b[39m=\u001b[39m \u001b[39m\"\u001b[39m\u001b[39mxla\u001b[39m\u001b[39m\"\u001b[39m \u001b[39mif\u001b[39;00m \u001b[39mself\u001b[39m\u001b[39m.\u001b[39m_jit_compile \u001b[39melse\u001b[39;00m \u001b[39m\"\u001b[39m\u001b[39mnonXla\u001b[39m\u001b[39m\"\u001b[39m\n\u001b[0;32m    824\u001b[0m \u001b[39mwith\u001b[39;00m OptionalXlaContext(\u001b[39mself\u001b[39m\u001b[39m.\u001b[39m_jit_compile):\n\u001b[1;32m--> 825\u001b[0m   result \u001b[39m=\u001b[39m \u001b[39mself\u001b[39;49m\u001b[39m.\u001b[39;49m_call(\u001b[39m*\u001b[39;49margs, \u001b[39m*\u001b[39;49m\u001b[39m*\u001b[39;49mkwds)\n\u001b[0;32m    827\u001b[0m new_tracing_count \u001b[39m=\u001b[39m \u001b[39mself\u001b[39m\u001b[39m.\u001b[39mexperimental_get_tracing_count()\n\u001b[0;32m    828\u001b[0m without_tracing \u001b[39m=\u001b[39m (tracing_count \u001b[39m==\u001b[39m new_tracing_count)\n",
      "File \u001b[1;32md:\\anaconda3\\envs\\computer-vision\\Lib\\site-packages\\tensorflow\\python\\eager\\polymorphic_function\\polymorphic_function.py:857\u001b[0m, in \u001b[0;36mFunction._call\u001b[1;34m(self, *args, **kwds)\u001b[0m\n\u001b[0;32m    854\u001b[0m   \u001b[39mself\u001b[39m\u001b[39m.\u001b[39m_lock\u001b[39m.\u001b[39mrelease()\n\u001b[0;32m    855\u001b[0m   \u001b[39m# In this case we have created variables on the first call, so we run the\u001b[39;00m\n\u001b[0;32m    856\u001b[0m   \u001b[39m# defunned version which is guaranteed to never create variables.\u001b[39;00m\n\u001b[1;32m--> 857\u001b[0m   \u001b[39mreturn\u001b[39;00m \u001b[39mself\u001b[39;49m\u001b[39m.\u001b[39;49m_no_variable_creation_fn(\u001b[39m*\u001b[39;49margs, \u001b[39m*\u001b[39;49m\u001b[39m*\u001b[39;49mkwds)  \u001b[39m# pylint: disable=not-callable\u001b[39;00m\n\u001b[0;32m    858\u001b[0m \u001b[39melif\u001b[39;00m \u001b[39mself\u001b[39m\u001b[39m.\u001b[39m_variable_creation_fn \u001b[39mis\u001b[39;00m \u001b[39mnot\u001b[39;00m \u001b[39mNone\u001b[39;00m:\n\u001b[0;32m    859\u001b[0m   \u001b[39m# Release the lock early so that multiple threads can perform the call\u001b[39;00m\n\u001b[0;32m    860\u001b[0m   \u001b[39m# in parallel.\u001b[39;00m\n\u001b[0;32m    861\u001b[0m   \u001b[39mself\u001b[39m\u001b[39m.\u001b[39m_lock\u001b[39m.\u001b[39mrelease()\n",
      "File \u001b[1;32md:\\anaconda3\\envs\\computer-vision\\Lib\\site-packages\\tensorflow\\python\\eager\\polymorphic_function\\tracing_compiler.py:148\u001b[0m, in \u001b[0;36mTracingCompiler.__call__\u001b[1;34m(self, *args, **kwargs)\u001b[0m\n\u001b[0;32m    145\u001b[0m \u001b[39mwith\u001b[39;00m \u001b[39mself\u001b[39m\u001b[39m.\u001b[39m_lock:\n\u001b[0;32m    146\u001b[0m   (concrete_function,\n\u001b[0;32m    147\u001b[0m    filtered_flat_args) \u001b[39m=\u001b[39m \u001b[39mself\u001b[39m\u001b[39m.\u001b[39m_maybe_define_function(args, kwargs)\n\u001b[1;32m--> 148\u001b[0m \u001b[39mreturn\u001b[39;00m concrete_function\u001b[39m.\u001b[39;49m_call_flat(\n\u001b[0;32m    149\u001b[0m     filtered_flat_args, captured_inputs\u001b[39m=\u001b[39;49mconcrete_function\u001b[39m.\u001b[39;49mcaptured_inputs)\n",
      "File \u001b[1;32md:\\anaconda3\\envs\\computer-vision\\Lib\\site-packages\\tensorflow\\python\\eager\\polymorphic_function\\monomorphic_function.py:1349\u001b[0m, in \u001b[0;36mConcreteFunction._call_flat\u001b[1;34m(self, args, captured_inputs)\u001b[0m\n\u001b[0;32m   1345\u001b[0m possible_gradient_type \u001b[39m=\u001b[39m gradients_util\u001b[39m.\u001b[39mPossibleTapeGradientTypes(args)\n\u001b[0;32m   1346\u001b[0m \u001b[39mif\u001b[39;00m (possible_gradient_type \u001b[39m==\u001b[39m gradients_util\u001b[39m.\u001b[39mPOSSIBLE_GRADIENT_TYPES_NONE\n\u001b[0;32m   1347\u001b[0m     \u001b[39mand\u001b[39;00m executing_eagerly):\n\u001b[0;32m   1348\u001b[0m   \u001b[39m# No tape is watching; skip to running the function.\u001b[39;00m\n\u001b[1;32m-> 1349\u001b[0m   \u001b[39mreturn\u001b[39;00m \u001b[39mself\u001b[39m\u001b[39m.\u001b[39m_build_call_outputs(\u001b[39mself\u001b[39;49m\u001b[39m.\u001b[39;49m_inference_function(\u001b[39m*\u001b[39;49margs))\n\u001b[0;32m   1350\u001b[0m forward_backward \u001b[39m=\u001b[39m \u001b[39mself\u001b[39m\u001b[39m.\u001b[39m_select_forward_and_backward_functions(\n\u001b[0;32m   1351\u001b[0m     args,\n\u001b[0;32m   1352\u001b[0m     possible_gradient_type,\n\u001b[0;32m   1353\u001b[0m     executing_eagerly)\n\u001b[0;32m   1354\u001b[0m forward_function, args_with_tangents \u001b[39m=\u001b[39m forward_backward\u001b[39m.\u001b[39mforward()\n",
      "File \u001b[1;32md:\\anaconda3\\envs\\computer-vision\\Lib\\site-packages\\tensorflow\\python\\eager\\polymorphic_function\\atomic_function.py:196\u001b[0m, in \u001b[0;36mAtomicFunction.__call__\u001b[1;34m(self, *args)\u001b[0m\n\u001b[0;32m    194\u001b[0m \u001b[39mwith\u001b[39;00m record\u001b[39m.\u001b[39mstop_recording():\n\u001b[0;32m    195\u001b[0m   \u001b[39mif\u001b[39;00m \u001b[39mself\u001b[39m\u001b[39m.\u001b[39m_bound_context\u001b[39m.\u001b[39mexecuting_eagerly():\n\u001b[1;32m--> 196\u001b[0m     outputs \u001b[39m=\u001b[39m \u001b[39mself\u001b[39;49m\u001b[39m.\u001b[39;49m_bound_context\u001b[39m.\u001b[39;49mcall_function(\n\u001b[0;32m    197\u001b[0m         \u001b[39mself\u001b[39;49m\u001b[39m.\u001b[39;49mname,\n\u001b[0;32m    198\u001b[0m         \u001b[39mlist\u001b[39;49m(args),\n\u001b[0;32m    199\u001b[0m         \u001b[39mlen\u001b[39;49m(\u001b[39mself\u001b[39;49m\u001b[39m.\u001b[39;49mfunction_type\u001b[39m.\u001b[39;49mflat_outputs),\n\u001b[0;32m    200\u001b[0m     )\n\u001b[0;32m    201\u001b[0m   \u001b[39melse\u001b[39;00m:\n\u001b[0;32m    202\u001b[0m     outputs \u001b[39m=\u001b[39m make_call_op_in_graph(\u001b[39mself\u001b[39m, \u001b[39mlist\u001b[39m(args))\n",
      "File \u001b[1;32md:\\anaconda3\\envs\\computer-vision\\Lib\\site-packages\\tensorflow\\python\\eager\\context.py:1457\u001b[0m, in \u001b[0;36mContext.call_function\u001b[1;34m(self, name, tensor_inputs, num_outputs)\u001b[0m\n\u001b[0;32m   1455\u001b[0m cancellation_context \u001b[39m=\u001b[39m cancellation\u001b[39m.\u001b[39mcontext()\n\u001b[0;32m   1456\u001b[0m \u001b[39mif\u001b[39;00m cancellation_context \u001b[39mis\u001b[39;00m \u001b[39mNone\u001b[39;00m:\n\u001b[1;32m-> 1457\u001b[0m   outputs \u001b[39m=\u001b[39m execute\u001b[39m.\u001b[39;49mexecute(\n\u001b[0;32m   1458\u001b[0m       name\u001b[39m.\u001b[39;49mdecode(\u001b[39m\"\u001b[39;49m\u001b[39mutf-8\u001b[39;49m\u001b[39m\"\u001b[39;49m),\n\u001b[0;32m   1459\u001b[0m       num_outputs\u001b[39m=\u001b[39;49mnum_outputs,\n\u001b[0;32m   1460\u001b[0m       inputs\u001b[39m=\u001b[39;49mtensor_inputs,\n\u001b[0;32m   1461\u001b[0m       attrs\u001b[39m=\u001b[39;49mattrs,\n\u001b[0;32m   1462\u001b[0m       ctx\u001b[39m=\u001b[39;49m\u001b[39mself\u001b[39;49m,\n\u001b[0;32m   1463\u001b[0m   )\n\u001b[0;32m   1464\u001b[0m \u001b[39melse\u001b[39;00m:\n\u001b[0;32m   1465\u001b[0m   outputs \u001b[39m=\u001b[39m execute\u001b[39m.\u001b[39mexecute_with_cancellation(\n\u001b[0;32m   1466\u001b[0m       name\u001b[39m.\u001b[39mdecode(\u001b[39m\"\u001b[39m\u001b[39mutf-8\u001b[39m\u001b[39m\"\u001b[39m),\n\u001b[0;32m   1467\u001b[0m       num_outputs\u001b[39m=\u001b[39mnum_outputs,\n\u001b[1;32m   (...)\u001b[0m\n\u001b[0;32m   1471\u001b[0m       cancellation_manager\u001b[39m=\u001b[39mcancellation_context,\n\u001b[0;32m   1472\u001b[0m   )\n",
      "File \u001b[1;32md:\\anaconda3\\envs\\computer-vision\\Lib\\site-packages\\tensorflow\\python\\eager\\execute.py:53\u001b[0m, in \u001b[0;36mquick_execute\u001b[1;34m(op_name, num_outputs, inputs, attrs, ctx, name)\u001b[0m\n\u001b[0;32m     51\u001b[0m \u001b[39mtry\u001b[39;00m:\n\u001b[0;32m     52\u001b[0m   ctx\u001b[39m.\u001b[39mensure_initialized()\n\u001b[1;32m---> 53\u001b[0m   tensors \u001b[39m=\u001b[39m pywrap_tfe\u001b[39m.\u001b[39;49mTFE_Py_Execute(ctx\u001b[39m.\u001b[39;49m_handle, device_name, op_name,\n\u001b[0;32m     54\u001b[0m                                       inputs, attrs, num_outputs)\n\u001b[0;32m     55\u001b[0m \u001b[39mexcept\u001b[39;00m core\u001b[39m.\u001b[39m_NotOkStatusException \u001b[39mas\u001b[39;00m e:\n\u001b[0;32m     56\u001b[0m   \u001b[39mif\u001b[39;00m name \u001b[39mis\u001b[39;00m \u001b[39mnot\u001b[39;00m \u001b[39mNone\u001b[39;00m:\n",
      "\u001b[1;31mKeyboardInterrupt\u001b[0m: "
     ]
    }
   ],
   "source": [
    "n_steps = X_train.shape[0] // BATCH_SIZE\n",
    "train_history = bert_model.fit(\n",
    "    train_dataset,\n",
    "    steps_per_epoch=n_steps,\n",
    "    validation_data=valid_dataset,\n",
    "    epochs=3\n",
    ")"
   ]
  },
  {
   "cell_type": "markdown",
   "metadata": {},
   "source": [
    "# Test with real case data"
   ]
  },
  {
   "cell_type": "markdown",
   "metadata": {},
   "source": [
    "## Fully connected NNN"
   ]
  },
  {
   "cell_type": "markdown",
   "metadata": {},
   "source": [
    "Load the real case data"
   ]
  },
  {
   "cell_type": "code",
   "execution_count": null,
   "metadata": {},
   "outputs": [],
   "source": [
    "df_r_train = pd.read_csv('./real_case_data/train.csv')\n",
    "df_r_test = pd.read_csv('./real_case_data/test.csv')"
   ]
  },
  {
   "cell_type": "markdown",
   "metadata": {},
   "source": [
    "Tokenize the data"
   ]
  },
  {
   "cell_type": "code",
   "execution_count": null,
   "metadata": {},
   "outputs": [],
   "source": [
    "df_r_train['processed'] = df_r_train['article_title'].apply(preprocess_text)\n",
    "df_r_test['processed'] = df_r_test['article_title'].apply(preprocess_text)"
   ]
  },
  {
   "cell_type": "markdown",
   "metadata": {},
   "source": [
    "TFIDF transformation"
   ]
  },
  {
   "cell_type": "code",
   "execution_count": 58,
   "metadata": {},
   "outputs": [],
   "source": [
    "final_stopwords_list = stopwords.words('english') + stopwords.words('french')\n",
    "\n",
    "tfidf = TfidfVectorizer(max_df=0.95, min_df=2, stop_words=final_stopwords_list)\n",
    "\n",
    "dtm_r_train = tfidf.fit_transform(df_r_train['processed'])\n",
    "dtm_r_test = tfidf.transform(df_r_test['processed'])"
   ]
  },
  {
   "cell_type": "markdown",
   "metadata": {},
   "source": [
    "Setup the training and test data set"
   ]
  },
  {
   "cell_type": "code",
   "execution_count": 59,
   "metadata": {},
   "outputs": [],
   "source": [
    "X_r_train = dtm_r_train.toarray()\n",
    "y_r_train = df_r_train['is_ecology']\n",
    "\n",
    "X_r_test = dtm_r_test.toarray()\n",
    "y_r_test = df_r_test['is_ecology']\n",
    "\n",
    "y_r_train_encoded = to_categorical(y_r_train)\n",
    "y_r_test_encoded = to_categorical(y_r_test)"
   ]
  },
  {
   "cell_type": "markdown",
   "metadata": {},
   "source": [
    "Split the train and validation data set"
   ]
  },
  {
   "cell_type": "code",
   "execution_count": 60,
   "metadata": {},
   "outputs": [],
   "source": [
    "# class_weights = compute_class_weight('balanced', classes=np.unique(y_r_train), y=y_r_train)\n",
    "X_r_train, X_r_val, y_r_train_encoded, y_r_val_encoded = train_test_split(X_r_train, y_r_train_encoded, test_size=0.2, random_state=42)"
   ]
  },
  {
   "cell_type": "markdown",
   "metadata": {},
   "source": [
    "Build the model with same architecture, but change the last output layer as we have two categories in this case"
   ]
  },
  {
   "cell_type": "code",
   "execution_count": 61,
   "metadata": {},
   "outputs": [
    {
     "name": "stdout",
     "output_type": "stream",
     "text": [
      "Model: \"sequential_6\"\n",
      "_________________________________________________________________\n",
      " Layer (type)                Output Shape              Param #   \n",
      "=================================================================\n",
      " dense_25 (Dense)            (None, 2048)              5011456   \n",
      "                                                                 \n",
      " dense_26 (Dense)            (None, 1024)              2098176   \n",
      "                                                                 \n",
      " dense_27 (Dense)            (None, 512)               524800    \n",
      "                                                                 \n",
      " dense_28 (Dense)            (None, 256)               131328    \n",
      "                                                                 \n",
      " dense_29 (Dense)            (None, 64)                16448     \n",
      "                                                                 \n",
      " dense_30 (Dense)            (None, 2)                 130       \n",
      "                                                                 \n",
      "=================================================================\n",
      "Total params: 7782338 (29.69 MB)\n",
      "Trainable params: 7782338 (29.69 MB)\n",
      "Non-trainable params: 0 (0.00 Byte)\n",
      "_________________________________________________________________\n"
     ]
    }
   ],
   "source": [
    "model = Sequential()\n",
    "model.add(Dense(2048, activation='selu', kernel_initializer='lecun_normal', input_shape=(X_r_train.shape[1],), kernel_regularizer=tf.keras.regularizers.l2(0.01)))\n",
    "model.add(Dense(1024, activation='selu', kernel_initializer='lecun_normal', kernel_regularizer=tf.keras.regularizers.l2(0.01)))\n",
    "model.add(Dense(512, activation='selu', kernel_initializer='lecun_normal', kernel_regularizer=tf.keras.regularizers.l2(0.1)))\n",
    "model.add(Dense(256, activation='selu', kernel_initializer='lecun_normal', ))\n",
    "# model.add(Dense(128, activation='selu', kernel_initializer='lecun_normal', ))\n",
    "model.add(Dense(64, activation='selu', kernel_initializer='lecun_normal',))\n",
    "model.add(Dense(2, activation='softmax'))\n",
    "\n",
    "model.compile(optimizer='Adam', loss=tf.losses.categorical_crossentropy, metrics=['accuracy'])\n",
    "model.summary()"
   ]
  },
  {
   "cell_type": "markdown",
   "metadata": {},
   "source": [
    "Set up early stopping and dynamic learning rate"
   ]
  },
  {
   "cell_type": "code",
   "execution_count": 62,
   "metadata": {},
   "outputs": [],
   "source": [
    "def step_decay(epoch):\n",
    "    initial_lrate = 0.001\n",
    "    drop = 0.5\n",
    "    epochs_drop = 10.0\n",
    "    lrate = initial_lrate * math.pow(drop, math.floor((1 + epoch) / epochs_drop))\n",
    "    return lrate\n",
    "\n",
    "lr_scheduler = LearningRateScheduler(step_decay)\n",
    "\n",
    "early_stopping = EarlyStopping(monitor='val_loss', restore_best_weights=True, patience=3) # "
   ]
  },
  {
   "cell_type": "markdown",
   "metadata": {},
   "source": [
    "Train the model"
   ]
  },
  {
   "cell_type": "code",
   "execution_count": 63,
   "metadata": {},
   "outputs": [
    {
     "name": "stdout",
     "output_type": "stream",
     "text": [
      "Epoch 1/15\n",
      "7/7 [==============================] - 3s 253ms/step - loss: 69.3208 - accuracy: 0.8691 - val_loss: 53.2036 - val_accuracy: 0.9887 - lr: 0.0010\n",
      "Epoch 2/15\n",
      "7/7 [==============================] - 1s 91ms/step - loss: 43.9753 - accuracy: 0.9746 - val_loss: 33.0106 - val_accuracy: 0.9887 - lr: 0.0010\n",
      "Epoch 3/15\n",
      "7/7 [==============================] - 1s 79ms/step - loss: 26.9942 - accuracy: 0.9893 - val_loss: 20.0201 - val_accuracy: 0.9887 - lr: 0.0010\n",
      "Epoch 4/15\n",
      "7/7 [==============================] - 1s 89ms/step - loss: 16.2501 - accuracy: 0.9983 - val_loss: 11.9677 - val_accuracy: 0.9887 - lr: 0.0010\n",
      "Epoch 5/15\n",
      "7/7 [==============================] - 1s 85ms/step - loss: 9.6581 - accuracy: 1.0000 - val_loss: 7.0818 - val_accuracy: 0.9887 - lr: 0.0010\n",
      "Epoch 6/15\n",
      "7/7 [==============================] - 1s 74ms/step - loss: 5.6883 - accuracy: 0.9994 - val_loss: 4.1746 - val_accuracy: 0.9887 - lr: 0.0010\n",
      "Epoch 7/15\n",
      "7/7 [==============================] - 1s 75ms/step - loss: 3.3272 - accuracy: 0.9989 - val_loss: 2.4494 - val_accuracy: 0.9887 - lr: 0.0010\n",
      "Epoch 8/15\n",
      "7/7 [==============================] - 0s 72ms/step - loss: 1.9330 - accuracy: 0.9977 - val_loss: 1.4405 - val_accuracy: 0.9887 - lr: 0.0010\n",
      "Epoch 9/15\n",
      "7/7 [==============================] - 0s 71ms/step - loss: 1.1183 - accuracy: 0.9983 - val_loss: 0.8516 - val_accuracy: 0.9887 - lr: 0.0010\n",
      "Epoch 10/15\n",
      "7/7 [==============================] - 0s 72ms/step - loss: 0.7158 - accuracy: 0.9989 - val_loss: 0.6719 - val_accuracy: 0.9819 - lr: 5.0000e-04\n",
      "Epoch 11/15\n",
      "7/7 [==============================] - 1s 80ms/step - loss: 0.5495 - accuracy: 0.9989 - val_loss: 0.5175 - val_accuracy: 0.9887 - lr: 5.0000e-04\n",
      "Epoch 12/15\n",
      "7/7 [==============================] - 1s 76ms/step - loss: 0.4227 - accuracy: 0.9983 - val_loss: 0.4073 - val_accuracy: 0.9910 - lr: 5.0000e-04\n",
      "Epoch 13/15\n",
      "7/7 [==============================] - 1s 79ms/step - loss: 0.3254 - accuracy: 1.0000 - val_loss: 0.3316 - val_accuracy: 0.9887 - lr: 5.0000e-04\n",
      "Epoch 14/15\n",
      "7/7 [==============================] - 1s 83ms/step - loss: 0.2527 - accuracy: 1.0000 - val_loss: 0.2678 - val_accuracy: 0.9887 - lr: 5.0000e-04\n",
      "Epoch 15/15\n",
      "7/7 [==============================] - 1s 78ms/step - loss: 0.1973 - accuracy: 1.0000 - val_loss: 0.2193 - val_accuracy: 0.9887 - lr: 5.0000e-04\n"
     ]
    }
   ],
   "source": [
    "history = model.fit(X_r_train, y_r_train_encoded, validation_data=(X_r_val, y_r_val_encoded), epochs=15, batch_size=256, callbacks=[early_stopping, lr_scheduler])"
   ]
  },
  {
   "cell_type": "markdown",
   "metadata": {},
   "source": [
    "Evaluation"
   ]
  },
  {
   "cell_type": "code",
   "execution_count": 64,
   "metadata": {},
   "outputs": [
    {
     "name": "stdout",
     "output_type": "stream",
     "text": [
      "10/10 [==============================] - 1s 26ms/step\n",
      "              precision    recall  f1-score   support\n",
      "\n",
      "           0       0.84      0.99      0.91       241\n",
      "           1       0.78      0.13      0.23        53\n",
      "\n",
      "    accuracy                           0.84       294\n",
      "   macro avg       0.81      0.56      0.57       294\n",
      "weighted avg       0.83      0.84      0.79       294\n",
      "\n",
      "[[239   2]\n",
      " [ 46   7]]\n",
      "0.8367346938775511\n"
     ]
    }
   ],
   "source": [
    "predictions_r = model.predict(X_r_test)\n",
    "prediction_labels_r = predictions_r.argmax(axis=1)\n",
    "print(classification_report(y_r_test, prediction_labels_r))\n",
    "print(confusion_matrix(y_r_test, prediction_labels_r))\n",
    "print(accuracy_score(y_r_test, prediction_labels_r))"
   ]
  },
  {
   "attachments": {},
   "cell_type": "markdown",
   "metadata": {},
   "source": [
    "# Comparison"
   ]
  },
  {
   "attachments": {},
   "cell_type": "markdown",
   "metadata": {},
   "source": [
    "### Load models:\n",
    "`my_model = tf.keras.models.load_model('my_model')`"
   ]
  },
  {
   "cell_type": "markdown",
   "metadata": {},
   "source": []
  },
  {
   "cell_type": "code",
   "execution_count": null,
   "metadata": {},
   "outputs": [],
   "source": []
  }
 ],
 "metadata": {
  "kernelspec": {
   "display_name": "nlp",
   "language": "python",
   "name": "python3"
  },
  "language_info": {
   "codemirror_mode": {
    "name": "ipython",
    "version": 3
   },
   "file_extension": ".py",
   "mimetype": "text/x-python",
   "name": "python",
   "nbconvert_exporter": "python",
   "pygments_lexer": "ipython3",
   "version": "3.11.4"
  },
  "orig_nbformat": 4
 },
 "nbformat": 4,
 "nbformat_minor": 2
}
