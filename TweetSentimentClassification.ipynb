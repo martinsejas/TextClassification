{
  "cells": [
    {
      "cell_type": "markdown",
      "metadata": {
        "id": "hiMuzQfQw9xb"
      },
      "source": [
        "#  <center>Tweet Sentiment Classification <br> <small> Martin Sejas\n",
        "About the dataset:\n",
        "\n",
        "List of tweet texts with emotion labels like joy, sadness, fear, anger...\n",
        "Dataset is split into train, test and validation sets for building the machine learning model. At first, you are\n",
        "given only train and test sets. The validation one will be given in the end of the project for you to check\n",
        "the final performance of your algorithm (to make sure there is no overfitting over the test data).\n",
        "You can work on this project on group of one, two or three students. This exercise is mandatory, not\n",
        "giving it back is equivalent to getting to lowest grade.\n",
        "Goal:\n",
        "\n",
        "• Train different kind of models able to classify each text according to the sentiment mainly present\n",
        "in it\n",
        "\n",
        "• Compare the results of your different models and try to analyze and explain the differences\n",
        "\n",
        "Train different classification models relying mainly on\n",
        "\n",
        "1. A Fully Connected Neural Network (see Course 2) 5 points\n",
        "\n",
        "2. A Recurrent Neural Network, based on LSTM or GRU (see Course 3) 5 points\n",
        "\n",
        "3. A fine-tuned Transformer Architecture from a pretrained model that can be found on sites\n",
        "like HuggingFace (see Course 4) 5 points\n",
        "\n",
        "4. Compare the different models to find the best approach and try to duplicate it on a “real life”\n",
        "text classification approach (this new “real life” dataset will be given to you soon) 5 points"
      ]
    },
    {
      "cell_type": "markdown",
      "metadata": {
        "id": "ijX_IQb8w9xd"
      },
      "source": [
        "# Loading and Preprocessing the data sets"
      ]
    },
    {
      "cell_type": "code",
      "execution_count": null,
      "metadata": {
        "id": "H9-Ro1Pcw9xd"
      },
      "outputs": [],
      "source": [
        "import math\n",
        "import spacy\n",
        "import numpy as np\n",
        "import pandas as pd\n",
        "import matplotlib.pyplot as plt\n",
        "\n",
        "from nltk.corpus import stopwords\n",
        "\n",
        "from sklearn.preprocessing import LabelEncoder\n",
        "from sklearn.feature_extraction.text import TfidfVectorizer\n",
        "from sklearn.model_selection import train_test_split\n",
        "from sklearn.utils.class_weight import compute_class_weight\n",
        "from sklearn.metrics import confusion_matrix, accuracy_score, classification_report\n",
        "\n",
        "import tensorflow as tf\n",
        "from tensorflow import keras\n",
        "from keras.utils import to_categorical\n",
        "from tensorflow.keras import Sequential\n",
        "from keras.preprocessing.text import Tokenizer\n",
        "from keras.metrics import Precision, Recall, AUC\n",
        "from tensorflow.keras.preprocessing.sequence import pad_sequences\n",
        "from keras.layers import Embedding, LSTM, Dense, Dropout, Bidirectional\n",
        "from keras.callbacks import EarlyStopping, LearningRateScheduler, CallbackList, ReduceLROnPlateau\n"
      ]
    },
    {
      "cell_type": "markdown",
      "metadata": {
        "id": "3fc6ncigw9xe"
      },
      "source": [
        "The dataset is a tweets sentiment dataset, it's quite straightforward, there are only 2 columns, the tweet itself, and the sentiment attached to it. We have been provided a train set and a test set."
      ]
    },
    {
      "cell_type": "code",
      "execution_count": null,
      "metadata": {
        "colab": {
          "base_uri": "https://localhost:8080/",
          "height": 206
        },
        "id": "N0tKIWlfw9xe",
        "outputId": "3840602c-f1f0-4307-fdcd-fea8c3c76a79"
      },
      "outputs": [
        {
          "data": {
            "text/html": [
              "\n",
              "\n",
              "  <div id=\"df-ae55dbb3-de42-425c-977e-591de03f2b82\">\n",
              "    <div class=\"colab-df-container\">\n",
              "      <div>\n",
              "<style scoped>\n",
              "    .dataframe tbody tr th:only-of-type {\n",
              "        vertical-align: middle;\n",
              "    }\n",
              "\n",
              "    .dataframe tbody tr th {\n",
              "        vertical-align: top;\n",
              "    }\n",
              "\n",
              "    .dataframe thead th {\n",
              "        text-align: right;\n",
              "    }\n",
              "</style>\n",
              "<table border=\"1\" class=\"dataframe\">\n",
              "  <thead>\n",
              "    <tr style=\"text-align: right;\">\n",
              "      <th></th>\n",
              "      <th>tweet</th>\n",
              "      <th>sentiment</th>\n",
              "    </tr>\n",
              "  </thead>\n",
              "  <tbody>\n",
              "    <tr>\n",
              "      <th>0</th>\n",
              "      <td>i didnt feel humiliated</td>\n",
              "      <td>sadness</td>\n",
              "    </tr>\n",
              "    <tr>\n",
              "      <th>1</th>\n",
              "      <td>i can go from feeling so hopeless to so damned...</td>\n",
              "      <td>sadness</td>\n",
              "    </tr>\n",
              "    <tr>\n",
              "      <th>2</th>\n",
              "      <td>im grabbing a minute to post i feel greedy wrong</td>\n",
              "      <td>anger</td>\n",
              "    </tr>\n",
              "    <tr>\n",
              "      <th>3</th>\n",
              "      <td>i am ever feeling nostalgic about the fireplac...</td>\n",
              "      <td>love</td>\n",
              "    </tr>\n",
              "    <tr>\n",
              "      <th>4</th>\n",
              "      <td>i am feeling grouchy</td>\n",
              "      <td>anger</td>\n",
              "    </tr>\n",
              "  </tbody>\n",
              "</table>\n",
              "</div>\n",
              "      <button class=\"colab-df-convert\" onclick=\"convertToInteractive('df-ae55dbb3-de42-425c-977e-591de03f2b82')\"\n",
              "              title=\"Convert this dataframe to an interactive table.\"\n",
              "              style=\"display:none;\">\n",
              "\n",
              "  <svg xmlns=\"http://www.w3.org/2000/svg\" height=\"24px\"viewBox=\"0 0 24 24\"\n",
              "       width=\"24px\">\n",
              "    <path d=\"M0 0h24v24H0V0z\" fill=\"none\"/>\n",
              "    <path d=\"M18.56 5.44l.94 2.06.94-2.06 2.06-.94-2.06-.94-.94-2.06-.94 2.06-2.06.94zm-11 1L8.5 8.5l.94-2.06 2.06-.94-2.06-.94L8.5 2.5l-.94 2.06-2.06.94zm10 10l.94 2.06.94-2.06 2.06-.94-2.06-.94-.94-2.06-.94 2.06-2.06.94z\"/><path d=\"M17.41 7.96l-1.37-1.37c-.4-.4-.92-.59-1.43-.59-.52 0-1.04.2-1.43.59L10.3 9.45l-7.72 7.72c-.78.78-.78 2.05 0 2.83L4 21.41c.39.39.9.59 1.41.59.51 0 1.02-.2 1.41-.59l7.78-7.78 2.81-2.81c.8-.78.8-2.07 0-2.86zM5.41 20L4 18.59l7.72-7.72 1.47 1.35L5.41 20z\"/>\n",
              "  </svg>\n",
              "      </button>\n",
              "\n",
              "\n",
              "\n",
              "    <div id=\"df-e030b829-509e-4de0-826d-b3dbebcb6db6\">\n",
              "      <button class=\"colab-df-quickchart\" onclick=\"quickchart('df-e030b829-509e-4de0-826d-b3dbebcb6db6')\"\n",
              "              title=\"Suggest charts.\"\n",
              "              style=\"display:none;\">\n",
              "\n",
              "<svg xmlns=\"http://www.w3.org/2000/svg\" height=\"24px\"viewBox=\"0 0 24 24\"\n",
              "     width=\"24px\">\n",
              "    <g>\n",
              "        <path d=\"M19 3H5c-1.1 0-2 .9-2 2v14c0 1.1.9 2 2 2h14c1.1 0 2-.9 2-2V5c0-1.1-.9-2-2-2zM9 17H7v-7h2v7zm4 0h-2V7h2v10zm4 0h-2v-4h2v4z\"/>\n",
              "    </g>\n",
              "</svg>\n",
              "      </button>\n",
              "    </div>\n",
              "\n",
              "<style>\n",
              "  .colab-df-quickchart {\n",
              "    background-color: #E8F0FE;\n",
              "    border: none;\n",
              "    border-radius: 50%;\n",
              "    cursor: pointer;\n",
              "    display: none;\n",
              "    fill: #1967D2;\n",
              "    height: 32px;\n",
              "    padding: 0 0 0 0;\n",
              "    width: 32px;\n",
              "  }\n",
              "\n",
              "  .colab-df-quickchart:hover {\n",
              "    background-color: #E2EBFA;\n",
              "    box-shadow: 0px 1px 2px rgba(60, 64, 67, 0.3), 0px 1px 3px 1px rgba(60, 64, 67, 0.15);\n",
              "    fill: #174EA6;\n",
              "  }\n",
              "\n",
              "  [theme=dark] .colab-df-quickchart {\n",
              "    background-color: #3B4455;\n",
              "    fill: #D2E3FC;\n",
              "  }\n",
              "\n",
              "  [theme=dark] .colab-df-quickchart:hover {\n",
              "    background-color: #434B5C;\n",
              "    box-shadow: 0px 1px 3px 1px rgba(0, 0, 0, 0.15);\n",
              "    filter: drop-shadow(0px 1px 2px rgba(0, 0, 0, 0.3));\n",
              "    fill: #FFFFFF;\n",
              "  }\n",
              "</style>\n",
              "\n",
              "    <script>\n",
              "      async function quickchart(key) {\n",
              "        const containerElement = document.querySelector('#' + key);\n",
              "        const charts = await google.colab.kernel.invokeFunction(\n",
              "            'suggestCharts', [key], {});\n",
              "      }\n",
              "    </script>\n",
              "\n",
              "      <script>\n",
              "\n",
              "function displayQuickchartButton(domScope) {\n",
              "  let quickchartButtonEl =\n",
              "    domScope.querySelector('#df-e030b829-509e-4de0-826d-b3dbebcb6db6 button.colab-df-quickchart');\n",
              "  quickchartButtonEl.style.display =\n",
              "    google.colab.kernel.accessAllowed ? 'block' : 'none';\n",
              "}\n",
              "\n",
              "        displayQuickchartButton(document);\n",
              "      </script>\n",
              "      <style>\n",
              "    .colab-df-container {\n",
              "      display:flex;\n",
              "      flex-wrap:wrap;\n",
              "      gap: 12px;\n",
              "    }\n",
              "\n",
              "    .colab-df-convert {\n",
              "      background-color: #E8F0FE;\n",
              "      border: none;\n",
              "      border-radius: 50%;\n",
              "      cursor: pointer;\n",
              "      display: none;\n",
              "      fill: #1967D2;\n",
              "      height: 32px;\n",
              "      padding: 0 0 0 0;\n",
              "      width: 32px;\n",
              "    }\n",
              "\n",
              "    .colab-df-convert:hover {\n",
              "      background-color: #E2EBFA;\n",
              "      box-shadow: 0px 1px 2px rgba(60, 64, 67, 0.3), 0px 1px 3px 1px rgba(60, 64, 67, 0.15);\n",
              "      fill: #174EA6;\n",
              "    }\n",
              "\n",
              "    [theme=dark] .colab-df-convert {\n",
              "      background-color: #3B4455;\n",
              "      fill: #D2E3FC;\n",
              "    }\n",
              "\n",
              "    [theme=dark] .colab-df-convert:hover {\n",
              "      background-color: #434B5C;\n",
              "      box-shadow: 0px 1px 3px 1px rgba(0, 0, 0, 0.15);\n",
              "      filter: drop-shadow(0px 1px 2px rgba(0, 0, 0, 0.3));\n",
              "      fill: #FFFFFF;\n",
              "    }\n",
              "  </style>\n",
              "\n",
              "      <script>\n",
              "        const buttonEl =\n",
              "          document.querySelector('#df-ae55dbb3-de42-425c-977e-591de03f2b82 button.colab-df-convert');\n",
              "        buttonEl.style.display =\n",
              "          google.colab.kernel.accessAllowed ? 'block' : 'none';\n",
              "\n",
              "        async function convertToInteractive(key) {\n",
              "          const element = document.querySelector('#df-ae55dbb3-de42-425c-977e-591de03f2b82');\n",
              "          const dataTable =\n",
              "            await google.colab.kernel.invokeFunction('convertToInteractive',\n",
              "                                                     [key], {});\n",
              "          if (!dataTable) return;\n",
              "\n",
              "          const docLinkHtml = 'Like what you see? Visit the ' +\n",
              "            '<a target=\"_blank\" href=https://colab.research.google.com/notebooks/data_table.ipynb>data table notebook</a>'\n",
              "            + ' to learn more about interactive tables.';\n",
              "          element.innerHTML = '';\n",
              "          dataTable['output_type'] = 'display_data';\n",
              "          await google.colab.output.renderOutput(dataTable, element);\n",
              "          const docLink = document.createElement('div');\n",
              "          docLink.innerHTML = docLinkHtml;\n",
              "          element.appendChild(docLink);\n",
              "        }\n",
              "      </script>\n",
              "    </div>\n",
              "  </div>\n"
            ],
            "text/plain": [
              "                                               tweet sentiment\n",
              "0                            i didnt feel humiliated   sadness\n",
              "1  i can go from feeling so hopeless to so damned...   sadness\n",
              "2   im grabbing a minute to post i feel greedy wrong     anger\n",
              "3  i am ever feeling nostalgic about the fireplac...      love\n",
              "4                               i am feeling grouchy     anger"
            ]
          },
          "execution_count": 29,
          "metadata": {},
          "output_type": "execute_result"
        }
      ],
      "source": [
        "df_train = pd.read_csv('./train.txt', header=None, delimiter=';')\n",
        "df_test = pd.read_csv('./test.txt', header=None, delimiter=';')\n",
        "df_train = df_train.rename(columns={0: 'tweet', 1: 'sentiment'})\n",
        "df_test = df_test.rename(columns={0: 'tweet', 1: 'sentiment'})\n",
        "df_train.head()"
      ]
    },
    {
      "cell_type": "markdown",
      "metadata": {
        "id": "UDZebKhQw9xf"
      },
      "source": [
        "After loading our dataset we can see the class (sentiment) distribution of our tweets."
      ]
    },
    {
      "cell_type": "code",
      "execution_count": null,
      "metadata": {
        "colab": {
          "base_uri": "https://localhost:8080/"
        },
        "id": "jdmVDmpKw9xf",
        "outputId": "bdf6fff5-b03e-40e7-bab3-d09c21a2b9cd"
      },
      "outputs": [
        {
          "data": {
            "text/plain": [
              "(joy         5362\n",
              " sadness     4666\n",
              " anger       2159\n",
              " fear        1937\n",
              " love        1304\n",
              " surprise     572\n",
              " Name: sentiment, dtype: int64,\n",
              " (16000, 2))"
            ]
          },
          "execution_count": 30,
          "metadata": {},
          "output_type": "execute_result"
        }
      ],
      "source": [
        "df_train['sentiment'].value_counts(), df_train.shape"
      ]
    },
    {
      "cell_type": "code",
      "execution_count": null,
      "metadata": {
        "colab": {
          "base_uri": "https://localhost:8080/"
        },
        "id": "k2KUWQaMw9xf",
        "outputId": "89dcbf75-0115-452f-e0aa-72d24656a97f"
      },
      "outputs": [
        {
          "data": {
            "text/plain": [
              "(joy         695\n",
              " sadness     581\n",
              " anger       275\n",
              " fear        224\n",
              " love        159\n",
              " surprise     66\n",
              " Name: sentiment, dtype: int64,\n",
              " (2000, 2))"
            ]
          },
          "execution_count": 31,
          "metadata": {},
          "output_type": "execute_result"
        }
      ],
      "source": [
        "df_test['sentiment'].value_counts(), df_test.shape"
      ]
    },
    {
      "cell_type": "markdown",
      "metadata": {
        "id": "3TbKTKsfw9xf"
      },
      "source": [
        "We can see here that there are class inbalances. Especially regarding joy and surprise.\n",
        "\n",
        "We will also separate each tweet from it's label to train."
      ]
    },
    {
      "cell_type": "code",
      "execution_count": null,
      "metadata": {
        "id": "LwaSIpB2w9xf"
      },
      "outputs": [],
      "source": [
        "texts_train = df_train['tweet']\n",
        "texts_test = df_test['tweet']"
      ]
    },
    {
      "cell_type": "code",
      "execution_count": null,
      "metadata": {
        "colab": {
          "base_uri": "https://localhost:8080/"
        },
        "id": "HfsZ_HE4w9xf",
        "outputId": "48b5bc49-1860-4362-daac-7421d37b3010"
      },
      "outputs": [
        {
          "data": {
            "text/plain": [
              "array([4, 4, 0, ..., 2, 0, 4])"
            ]
          },
          "execution_count": 33,
          "metadata": {},
          "output_type": "execute_result"
        }
      ],
      "source": [
        "le = LabelEncoder()\n",
        "y_train = le.fit_transform(df_train['sentiment'])\n",
        "y_test = le.transform(df_test['sentiment'])\n",
        "y_train"
      ]
    },
    {
      "cell_type": "markdown",
      "metadata": {
        "id": "_xQxJ1ojw9xf"
      },
      "source": [
        "## Pre-Processing the tweets (Lemmetizing) with the Spacy library."
      ]
    },
    {
      "cell_type": "markdown",
      "metadata": {
        "id": "KPa9FZlGw9xf"
      },
      "source": [
        "### Lemmetization"
      ]
    },
    {
      "cell_type": "markdown",
      "metadata": {
        "id": "IaWeFcHEw9xg"
      },
      "source": [
        "We are going to be using the famous [Spacy](https://spacy.io/) Library for tokenization, it's the best performing one in terms of computational cost and performance.\n",
        "\n",
        "We will be loading the english core *medium* dataset.\n",
        "\n"
      ]
    },
    {
      "cell_type": "markdown",
      "metadata": {
        "id": "C6d1WH_qw9xg"
      },
      "source": [
        "To have spacy working please make sure to run the following commands.\n",
        "\n",
        "```bash\n",
        "pip install spacy\n",
        "```\n",
        "\n",
        "Once the package has been installed, make sure to download the language model, in our case, *en-core-web-md* will be used, and can be downloaded by the following command.\n",
        "\n",
        "```bash\n",
        "python -m spacy download en_core_web_md\n",
        "```"
      ]
    },
    {
      "cell_type": "code",
      "execution_count": null,
      "metadata": {
        "colab": {
          "base_uri": "https://localhost:8080/"
        },
        "id": "8ihFJGgBxosS",
        "outputId": "2f7c2f2e-2a3a-4a18-8f92-ff4efc808cdf"
      },
      "outputs": [
        {
          "name": "stdout",
          "output_type": "stream",
          "text": [
            "Requirement already satisfied: spacy in /usr/local/lib/python3.10/dist-packages (3.5.4)\n",
            "Requirement already satisfied: spacy-legacy<3.1.0,>=3.0.11 in /usr/local/lib/python3.10/dist-packages (from spacy) (3.0.12)\n",
            "Requirement already satisfied: spacy-loggers<2.0.0,>=1.0.0 in /usr/local/lib/python3.10/dist-packages (from spacy) (1.0.4)\n",
            "Requirement already satisfied: murmurhash<1.1.0,>=0.28.0 in /usr/local/lib/python3.10/dist-packages (from spacy) (1.0.9)\n",
            "Requirement already satisfied: cymem<2.1.0,>=2.0.2 in /usr/local/lib/python3.10/dist-packages (from spacy) (2.0.7)\n",
            "Requirement already satisfied: preshed<3.1.0,>=3.0.2 in /usr/local/lib/python3.10/dist-packages (from spacy) (3.0.8)\n",
            "Requirement already satisfied: thinc<8.2.0,>=8.1.8 in /usr/local/lib/python3.10/dist-packages (from spacy) (8.1.10)\n",
            "Requirement already satisfied: wasabi<1.2.0,>=0.9.1 in /usr/local/lib/python3.10/dist-packages (from spacy) (1.1.2)\n",
            "Requirement already satisfied: srsly<3.0.0,>=2.4.3 in /usr/local/lib/python3.10/dist-packages (from spacy) (2.4.6)\n",
            "Requirement already satisfied: catalogue<2.1.0,>=2.0.6 in /usr/local/lib/python3.10/dist-packages (from spacy) (2.0.8)\n",
            "Requirement already satisfied: typer<0.10.0,>=0.3.0 in /usr/local/lib/python3.10/dist-packages (from spacy) (0.9.0)\n",
            "Requirement already satisfied: pathy>=0.10.0 in /usr/local/lib/python3.10/dist-packages (from spacy) (0.10.2)\n",
            "Requirement already satisfied: smart-open<7.0.0,>=5.2.1 in /usr/local/lib/python3.10/dist-packages (from spacy) (6.3.0)\n",
            "Requirement already satisfied: tqdm<5.0.0,>=4.38.0 in /usr/local/lib/python3.10/dist-packages (from spacy) (4.65.0)\n",
            "Requirement already satisfied: numpy>=1.15.0 in /usr/local/lib/python3.10/dist-packages (from spacy) (1.22.4)\n",
            "Requirement already satisfied: requests<3.0.0,>=2.13.0 in /usr/local/lib/python3.10/dist-packages (from spacy) (2.27.1)\n",
            "Requirement already satisfied: pydantic!=1.8,!=1.8.1,<1.11.0,>=1.7.4 in /usr/local/lib/python3.10/dist-packages (from spacy) (1.10.11)\n",
            "Requirement already satisfied: jinja2 in /usr/local/lib/python3.10/dist-packages (from spacy) (3.1.2)\n",
            "Requirement already satisfied: setuptools in /usr/local/lib/python3.10/dist-packages (from spacy) (67.7.2)\n",
            "Requirement already satisfied: packaging>=20.0 in /usr/local/lib/python3.10/dist-packages (from spacy) (23.1)\n",
            "Requirement already satisfied: langcodes<4.0.0,>=3.2.0 in /usr/local/lib/python3.10/dist-packages (from spacy) (3.3.0)\n",
            "Requirement already satisfied: typing-extensions>=4.2.0 in /usr/local/lib/python3.10/dist-packages (from pydantic!=1.8,!=1.8.1,<1.11.0,>=1.7.4->spacy) (4.7.1)\n",
            "Requirement already satisfied: urllib3<1.27,>=1.21.1 in /usr/local/lib/python3.10/dist-packages (from requests<3.0.0,>=2.13.0->spacy) (1.26.16)\n",
            "Requirement already satisfied: certifi>=2017.4.17 in /usr/local/lib/python3.10/dist-packages (from requests<3.0.0,>=2.13.0->spacy) (2023.5.7)\n",
            "Requirement already satisfied: charset-normalizer~=2.0.0 in /usr/local/lib/python3.10/dist-packages (from requests<3.0.0,>=2.13.0->spacy) (2.0.12)\n",
            "Requirement already satisfied: idna<4,>=2.5 in /usr/local/lib/python3.10/dist-packages (from requests<3.0.0,>=2.13.0->spacy) (3.4)\n",
            "Requirement already satisfied: blis<0.8.0,>=0.7.8 in /usr/local/lib/python3.10/dist-packages (from thinc<8.2.0,>=8.1.8->spacy) (0.7.9)\n",
            "Requirement already satisfied: confection<1.0.0,>=0.0.1 in /usr/local/lib/python3.10/dist-packages (from thinc<8.2.0,>=8.1.8->spacy) (0.1.0)\n",
            "Requirement already satisfied: click<9.0.0,>=7.1.1 in /usr/local/lib/python3.10/dist-packages (from typer<0.10.0,>=0.3.0->spacy) (8.1.4)\n",
            "Requirement already satisfied: MarkupSafe>=2.0 in /usr/local/lib/python3.10/dist-packages (from jinja2->spacy) (2.1.3)\n"
          ]
        }
      ],
      "source": [
        "!pip install spacy"
      ]
    },
    {
      "cell_type": "code",
      "execution_count": null,
      "metadata": {
        "colab": {
          "base_uri": "https://localhost:8080/"
        },
        "id": "_uTtnJ3NxqVH",
        "outputId": "7a67c090-36b3-4462-ce4e-1d2cee6563d0"
      },
      "outputs": [
        {
          "name": "stdout",
          "output_type": "stream",
          "text": [
            "2023-07-20 14:55:34.552592: W tensorflow/compiler/tf2tensorrt/utils/py_utils.cc:38] TF-TRT Warning: Could not find TensorRT\n",
            "Collecting en-core-web-md==3.5.0\n",
            "  Downloading https://github.com/explosion/spacy-models/releases/download/en_core_web_md-3.5.0/en_core_web_md-3.5.0-py3-none-any.whl (42.8 MB)\n",
            "\u001b[2K     \u001b[90m━━━━━━━━━━━━━━━━━━━━━━━━━━━━━━━━━━━━━━━━\u001b[0m \u001b[32m42.8/42.8 MB\u001b[0m \u001b[31m17.6 MB/s\u001b[0m eta \u001b[36m0:00:00\u001b[0m\n",
            "\u001b[?25hRequirement already satisfied: spacy<3.6.0,>=3.5.0 in /usr/local/lib/python3.10/dist-packages (from en-core-web-md==3.5.0) (3.5.4)\n",
            "Requirement already satisfied: spacy-legacy<3.1.0,>=3.0.11 in /usr/local/lib/python3.10/dist-packages (from spacy<3.6.0,>=3.5.0->en-core-web-md==3.5.0) (3.0.12)\n",
            "Requirement already satisfied: spacy-loggers<2.0.0,>=1.0.0 in /usr/local/lib/python3.10/dist-packages (from spacy<3.6.0,>=3.5.0->en-core-web-md==3.5.0) (1.0.4)\n",
            "Requirement already satisfied: murmurhash<1.1.0,>=0.28.0 in /usr/local/lib/python3.10/dist-packages (from spacy<3.6.0,>=3.5.0->en-core-web-md==3.5.0) (1.0.9)\n",
            "Requirement already satisfied: cymem<2.1.0,>=2.0.2 in /usr/local/lib/python3.10/dist-packages (from spacy<3.6.0,>=3.5.0->en-core-web-md==3.5.0) (2.0.7)\n",
            "Requirement already satisfied: preshed<3.1.0,>=3.0.2 in /usr/local/lib/python3.10/dist-packages (from spacy<3.6.0,>=3.5.0->en-core-web-md==3.5.0) (3.0.8)\n",
            "Requirement already satisfied: thinc<8.2.0,>=8.1.8 in /usr/local/lib/python3.10/dist-packages (from spacy<3.6.0,>=3.5.0->en-core-web-md==3.5.0) (8.1.10)\n",
            "Requirement already satisfied: wasabi<1.2.0,>=0.9.1 in /usr/local/lib/python3.10/dist-packages (from spacy<3.6.0,>=3.5.0->en-core-web-md==3.5.0) (1.1.2)\n",
            "Requirement already satisfied: srsly<3.0.0,>=2.4.3 in /usr/local/lib/python3.10/dist-packages (from spacy<3.6.0,>=3.5.0->en-core-web-md==3.5.0) (2.4.6)\n",
            "Requirement already satisfied: catalogue<2.1.0,>=2.0.6 in /usr/local/lib/python3.10/dist-packages (from spacy<3.6.0,>=3.5.0->en-core-web-md==3.5.0) (2.0.8)\n",
            "Requirement already satisfied: typer<0.10.0,>=0.3.0 in /usr/local/lib/python3.10/dist-packages (from spacy<3.6.0,>=3.5.0->en-core-web-md==3.5.0) (0.9.0)\n",
            "Requirement already satisfied: pathy>=0.10.0 in /usr/local/lib/python3.10/dist-packages (from spacy<3.6.0,>=3.5.0->en-core-web-md==3.5.0) (0.10.2)\n",
            "Requirement already satisfied: smart-open<7.0.0,>=5.2.1 in /usr/local/lib/python3.10/dist-packages (from spacy<3.6.0,>=3.5.0->en-core-web-md==3.5.0) (6.3.0)\n",
            "Requirement already satisfied: tqdm<5.0.0,>=4.38.0 in /usr/local/lib/python3.10/dist-packages (from spacy<3.6.0,>=3.5.0->en-core-web-md==3.5.0) (4.65.0)\n",
            "Requirement already satisfied: numpy>=1.15.0 in /usr/local/lib/python3.10/dist-packages (from spacy<3.6.0,>=3.5.0->en-core-web-md==3.5.0) (1.22.4)\n",
            "Requirement already satisfied: requests<3.0.0,>=2.13.0 in /usr/local/lib/python3.10/dist-packages (from spacy<3.6.0,>=3.5.0->en-core-web-md==3.5.0) (2.27.1)\n",
            "Requirement already satisfied: pydantic!=1.8,!=1.8.1,<1.11.0,>=1.7.4 in /usr/local/lib/python3.10/dist-packages (from spacy<3.6.0,>=3.5.0->en-core-web-md==3.5.0) (1.10.11)\n",
            "Requirement already satisfied: jinja2 in /usr/local/lib/python3.10/dist-packages (from spacy<3.6.0,>=3.5.0->en-core-web-md==3.5.0) (3.1.2)\n",
            "Requirement already satisfied: setuptools in /usr/local/lib/python3.10/dist-packages (from spacy<3.6.0,>=3.5.0->en-core-web-md==3.5.0) (67.7.2)\n",
            "Requirement already satisfied: packaging>=20.0 in /usr/local/lib/python3.10/dist-packages (from spacy<3.6.0,>=3.5.0->en-core-web-md==3.5.0) (23.1)\n",
            "Requirement already satisfied: langcodes<4.0.0,>=3.2.0 in /usr/local/lib/python3.10/dist-packages (from spacy<3.6.0,>=3.5.0->en-core-web-md==3.5.0) (3.3.0)\n",
            "Requirement already satisfied: typing-extensions>=4.2.0 in /usr/local/lib/python3.10/dist-packages (from pydantic!=1.8,!=1.8.1,<1.11.0,>=1.7.4->spacy<3.6.0,>=3.5.0->en-core-web-md==3.5.0) (4.7.1)\n",
            "Requirement already satisfied: urllib3<1.27,>=1.21.1 in /usr/local/lib/python3.10/dist-packages (from requests<3.0.0,>=2.13.0->spacy<3.6.0,>=3.5.0->en-core-web-md==3.5.0) (1.26.16)\n",
            "Requirement already satisfied: certifi>=2017.4.17 in /usr/local/lib/python3.10/dist-packages (from requests<3.0.0,>=2.13.0->spacy<3.6.0,>=3.5.0->en-core-web-md==3.5.0) (2023.5.7)\n",
            "Requirement already satisfied: charset-normalizer~=2.0.0 in /usr/local/lib/python3.10/dist-packages (from requests<3.0.0,>=2.13.0->spacy<3.6.0,>=3.5.0->en-core-web-md==3.5.0) (2.0.12)\n",
            "Requirement already satisfied: idna<4,>=2.5 in /usr/local/lib/python3.10/dist-packages (from requests<3.0.0,>=2.13.0->spacy<3.6.0,>=3.5.0->en-core-web-md==3.5.0) (3.4)\n",
            "Requirement already satisfied: blis<0.8.0,>=0.7.8 in /usr/local/lib/python3.10/dist-packages (from thinc<8.2.0,>=8.1.8->spacy<3.6.0,>=3.5.0->en-core-web-md==3.5.0) (0.7.9)\n",
            "Requirement already satisfied: confection<1.0.0,>=0.0.1 in /usr/local/lib/python3.10/dist-packages (from thinc<8.2.0,>=8.1.8->spacy<3.6.0,>=3.5.0->en-core-web-md==3.5.0) (0.1.0)\n",
            "Requirement already satisfied: click<9.0.0,>=7.1.1 in /usr/local/lib/python3.10/dist-packages (from typer<0.10.0,>=0.3.0->spacy<3.6.0,>=3.5.0->en-core-web-md==3.5.0) (8.1.4)\n",
            "Requirement already satisfied: MarkupSafe>=2.0 in /usr/local/lib/python3.10/dist-packages (from jinja2->spacy<3.6.0,>=3.5.0->en-core-web-md==3.5.0) (2.1.3)\n",
            "\u001b[38;5;2m✔ Download and installation successful\u001b[0m\n",
            "You can now load the package via spacy.load('en_core_web_md')\n"
          ]
        }
      ],
      "source": [
        "!python -m spacy download en_core_web_md"
      ]
    },
    {
      "cell_type": "code",
      "execution_count": null,
      "metadata": {
        "id": "0i2IMpbtw9xg"
      },
      "outputs": [],
      "source": [
        "nlp = spacy.load('en_core_web_md')\n",
        "\n",
        "#Function to tokenize\n",
        "def preprocess_text(text):\n",
        "    #every tweet will become a document\n",
        "    doc = nlp(text)\n",
        "\n",
        "    #Creating a list of tokens by lemmatizing the words, filtering stop words.\n",
        "    tokens = [token.lemma_.lower().strip() for token in doc if not token.is_stop]\n",
        "\n",
        "    #Join all the words in one sentence\n",
        "    return ' '.join(tokens)"
      ]
    },
    {
      "cell_type": "markdown",
      "metadata": {
        "id": "RNddfp3hw9xg"
      },
      "source": [
        "With the *preprocess_text* function, we will pre-process the tweet text, and with that we can apply it to both of our dataframes as a new series, and see the output.\n",
        "\n",
        "*Warning this cell takes over 2 minutes to run!*"
      ]
    },
    {
      "cell_type": "code",
      "execution_count": null,
      "metadata": {
        "colab": {
          "base_uri": "https://localhost:8080/",
          "height": 206
        },
        "id": "P234c0Qhw9xg",
        "outputId": "1e2d5c99-10ed-4b50-c3a2-7027d7b3c8f6"
      },
      "outputs": [
        {
          "data": {
            "text/html": [
              "\n",
              "\n",
              "  <div id=\"df-ab4d3f2f-69d4-4ef9-be7f-83edb2934cef\">\n",
              "    <div class=\"colab-df-container\">\n",
              "      <div>\n",
              "<style scoped>\n",
              "    .dataframe tbody tr th:only-of-type {\n",
              "        vertical-align: middle;\n",
              "    }\n",
              "\n",
              "    .dataframe tbody tr th {\n",
              "        vertical-align: top;\n",
              "    }\n",
              "\n",
              "    .dataframe thead th {\n",
              "        text-align: right;\n",
              "    }\n",
              "</style>\n",
              "<table border=\"1\" class=\"dataframe\">\n",
              "  <thead>\n",
              "    <tr style=\"text-align: right;\">\n",
              "      <th></th>\n",
              "      <th>tweet</th>\n",
              "      <th>sentiment</th>\n",
              "      <th>processed</th>\n",
              "    </tr>\n",
              "  </thead>\n",
              "  <tbody>\n",
              "    <tr>\n",
              "      <th>0</th>\n",
              "      <td>i didnt feel humiliated</td>\n",
              "      <td>sadness</td>\n",
              "      <td>not feel humiliate</td>\n",
              "    </tr>\n",
              "    <tr>\n",
              "      <th>1</th>\n",
              "      <td>i can go from feeling so hopeless to so damned...</td>\n",
              "      <td>sadness</td>\n",
              "      <td>feel hopeless damn hopeful care awake</td>\n",
              "    </tr>\n",
              "    <tr>\n",
              "      <th>2</th>\n",
              "      <td>im grabbing a minute to post i feel greedy wrong</td>\n",
              "      <td>anger</td>\n",
              "      <td>m grab minute post feel greedy wrong</td>\n",
              "    </tr>\n",
              "    <tr>\n",
              "      <th>3</th>\n",
              "      <td>i am ever feeling nostalgic about the fireplac...</td>\n",
              "      <td>love</td>\n",
              "      <td>feel nostalgic fireplace know property</td>\n",
              "    </tr>\n",
              "    <tr>\n",
              "      <th>4</th>\n",
              "      <td>i am feeling grouchy</td>\n",
              "      <td>anger</td>\n",
              "      <td>feel grouchy</td>\n",
              "    </tr>\n",
              "  </tbody>\n",
              "</table>\n",
              "</div>\n",
              "      <button class=\"colab-df-convert\" onclick=\"convertToInteractive('df-ab4d3f2f-69d4-4ef9-be7f-83edb2934cef')\"\n",
              "              title=\"Convert this dataframe to an interactive table.\"\n",
              "              style=\"display:none;\">\n",
              "\n",
              "  <svg xmlns=\"http://www.w3.org/2000/svg\" height=\"24px\"viewBox=\"0 0 24 24\"\n",
              "       width=\"24px\">\n",
              "    <path d=\"M0 0h24v24H0V0z\" fill=\"none\"/>\n",
              "    <path d=\"M18.56 5.44l.94 2.06.94-2.06 2.06-.94-2.06-.94-.94-2.06-.94 2.06-2.06.94zm-11 1L8.5 8.5l.94-2.06 2.06-.94-2.06-.94L8.5 2.5l-.94 2.06-2.06.94zm10 10l.94 2.06.94-2.06 2.06-.94-2.06-.94-.94-2.06-.94 2.06-2.06.94z\"/><path d=\"M17.41 7.96l-1.37-1.37c-.4-.4-.92-.59-1.43-.59-.52 0-1.04.2-1.43.59L10.3 9.45l-7.72 7.72c-.78.78-.78 2.05 0 2.83L4 21.41c.39.39.9.59 1.41.59.51 0 1.02-.2 1.41-.59l7.78-7.78 2.81-2.81c.8-.78.8-2.07 0-2.86zM5.41 20L4 18.59l7.72-7.72 1.47 1.35L5.41 20z\"/>\n",
              "  </svg>\n",
              "      </button>\n",
              "\n",
              "\n",
              "\n",
              "    <div id=\"df-ba66769c-e44d-49e3-9010-a565e12a58de\">\n",
              "      <button class=\"colab-df-quickchart\" onclick=\"quickchart('df-ba66769c-e44d-49e3-9010-a565e12a58de')\"\n",
              "              title=\"Suggest charts.\"\n",
              "              style=\"display:none;\">\n",
              "\n",
              "<svg xmlns=\"http://www.w3.org/2000/svg\" height=\"24px\"viewBox=\"0 0 24 24\"\n",
              "     width=\"24px\">\n",
              "    <g>\n",
              "        <path d=\"M19 3H5c-1.1 0-2 .9-2 2v14c0 1.1.9 2 2 2h14c1.1 0 2-.9 2-2V5c0-1.1-.9-2-2-2zM9 17H7v-7h2v7zm4 0h-2V7h2v10zm4 0h-2v-4h2v4z\"/>\n",
              "    </g>\n",
              "</svg>\n",
              "      </button>\n",
              "    </div>\n",
              "\n",
              "<style>\n",
              "  .colab-df-quickchart {\n",
              "    background-color: #E8F0FE;\n",
              "    border: none;\n",
              "    border-radius: 50%;\n",
              "    cursor: pointer;\n",
              "    display: none;\n",
              "    fill: #1967D2;\n",
              "    height: 32px;\n",
              "    padding: 0 0 0 0;\n",
              "    width: 32px;\n",
              "  }\n",
              "\n",
              "  .colab-df-quickchart:hover {\n",
              "    background-color: #E2EBFA;\n",
              "    box-shadow: 0px 1px 2px rgba(60, 64, 67, 0.3), 0px 1px 3px 1px rgba(60, 64, 67, 0.15);\n",
              "    fill: #174EA6;\n",
              "  }\n",
              "\n",
              "  [theme=dark] .colab-df-quickchart {\n",
              "    background-color: #3B4455;\n",
              "    fill: #D2E3FC;\n",
              "  }\n",
              "\n",
              "  [theme=dark] .colab-df-quickchart:hover {\n",
              "    background-color: #434B5C;\n",
              "    box-shadow: 0px 1px 3px 1px rgba(0, 0, 0, 0.15);\n",
              "    filter: drop-shadow(0px 1px 2px rgba(0, 0, 0, 0.3));\n",
              "    fill: #FFFFFF;\n",
              "  }\n",
              "</style>\n",
              "\n",
              "    <script>\n",
              "      async function quickchart(key) {\n",
              "        const containerElement = document.querySelector('#' + key);\n",
              "        const charts = await google.colab.kernel.invokeFunction(\n",
              "            'suggestCharts', [key], {});\n",
              "      }\n",
              "    </script>\n",
              "\n",
              "      <script>\n",
              "\n",
              "function displayQuickchartButton(domScope) {\n",
              "  let quickchartButtonEl =\n",
              "    domScope.querySelector('#df-ba66769c-e44d-49e3-9010-a565e12a58de button.colab-df-quickchart');\n",
              "  quickchartButtonEl.style.display =\n",
              "    google.colab.kernel.accessAllowed ? 'block' : 'none';\n",
              "}\n",
              "\n",
              "        displayQuickchartButton(document);\n",
              "      </script>\n",
              "      <style>\n",
              "    .colab-df-container {\n",
              "      display:flex;\n",
              "      flex-wrap:wrap;\n",
              "      gap: 12px;\n",
              "    }\n",
              "\n",
              "    .colab-df-convert {\n",
              "      background-color: #E8F0FE;\n",
              "      border: none;\n",
              "      border-radius: 50%;\n",
              "      cursor: pointer;\n",
              "      display: none;\n",
              "      fill: #1967D2;\n",
              "      height: 32px;\n",
              "      padding: 0 0 0 0;\n",
              "      width: 32px;\n",
              "    }\n",
              "\n",
              "    .colab-df-convert:hover {\n",
              "      background-color: #E2EBFA;\n",
              "      box-shadow: 0px 1px 2px rgba(60, 64, 67, 0.3), 0px 1px 3px 1px rgba(60, 64, 67, 0.15);\n",
              "      fill: #174EA6;\n",
              "    }\n",
              "\n",
              "    [theme=dark] .colab-df-convert {\n",
              "      background-color: #3B4455;\n",
              "      fill: #D2E3FC;\n",
              "    }\n",
              "\n",
              "    [theme=dark] .colab-df-convert:hover {\n",
              "      background-color: #434B5C;\n",
              "      box-shadow: 0px 1px 3px 1px rgba(0, 0, 0, 0.15);\n",
              "      filter: drop-shadow(0px 1px 2px rgba(0, 0, 0, 0.3));\n",
              "      fill: #FFFFFF;\n",
              "    }\n",
              "  </style>\n",
              "\n",
              "      <script>\n",
              "        const buttonEl =\n",
              "          document.querySelector('#df-ab4d3f2f-69d4-4ef9-be7f-83edb2934cef button.colab-df-convert');\n",
              "        buttonEl.style.display =\n",
              "          google.colab.kernel.accessAllowed ? 'block' : 'none';\n",
              "\n",
              "        async function convertToInteractive(key) {\n",
              "          const element = document.querySelector('#df-ab4d3f2f-69d4-4ef9-be7f-83edb2934cef');\n",
              "          const dataTable =\n",
              "            await google.colab.kernel.invokeFunction('convertToInteractive',\n",
              "                                                     [key], {});\n",
              "          if (!dataTable) return;\n",
              "\n",
              "          const docLinkHtml = 'Like what you see? Visit the ' +\n",
              "            '<a target=\"_blank\" href=https://colab.research.google.com/notebooks/data_table.ipynb>data table notebook</a>'\n",
              "            + ' to learn more about interactive tables.';\n",
              "          element.innerHTML = '';\n",
              "          dataTable['output_type'] = 'display_data';\n",
              "          await google.colab.output.renderOutput(dataTable, element);\n",
              "          const docLink = document.createElement('div');\n",
              "          docLink.innerHTML = docLinkHtml;\n",
              "          element.appendChild(docLink);\n",
              "        }\n",
              "      </script>\n",
              "    </div>\n",
              "  </div>\n"
            ],
            "text/plain": [
              "                                               tweet sentiment  \\\n",
              "0                            i didnt feel humiliated   sadness   \n",
              "1  i can go from feeling so hopeless to so damned...   sadness   \n",
              "2   im grabbing a minute to post i feel greedy wrong     anger   \n",
              "3  i am ever feeling nostalgic about the fireplac...      love   \n",
              "4                               i am feeling grouchy     anger   \n",
              "\n",
              "                                processed  \n",
              "0                      not feel humiliate  \n",
              "1   feel hopeless damn hopeful care awake  \n",
              "2    m grab minute post feel greedy wrong  \n",
              "3  feel nostalgic fireplace know property  \n",
              "4                            feel grouchy  "
            ]
          },
          "execution_count": 38,
          "metadata": {},
          "output_type": "execute_result"
        }
      ],
      "source": [
        "df_train['processed'] = df_train['tweet'].apply(preprocess_text)\n",
        "df_test['processed'] = df_test['tweet'].apply(preprocess_text)\n",
        "df_train.head()"
      ]
    },
    {
      "cell_type": "markdown",
      "metadata": {
        "id": "4s87w_0cw9xg"
      },
      "source": [
        "## Task 1- Fully Connected Neural Network(5 Points)\n",
        "### TF-IDF embedding for Sequential Neural Network\n"
      ]
    },
    {
      "cell_type": "markdown",
      "metadata": {
        "id": "gHDe3KA6w9xg"
      },
      "source": [
        "We will be using sklearn's TFidfVectorizer to be able to process the data and feed it into our Neural Network."
      ]
    },
    {
      "cell_type": "code",
      "execution_count": null,
      "metadata": {
        "colab": {
          "base_uri": "https://localhost:8080/"
        },
        "id": "pcFGE1Rqw9xg",
        "outputId": "1259a7ce-4cc3-4e08-8bcd-3b5e82e5c334"
      },
      "outputs": [
        {
          "data": {
            "text/plain": [
              "(16000, 5587)"
            ]
          },
          "execution_count": 39,
          "metadata": {},
          "output_type": "execute_result"
        }
      ],
      "source": [
        "tfidf = TfidfVectorizer(max_df=0.95, min_df=2, stop_words='english')\n",
        "\n",
        "dtm_train = tfidf.fit_transform(df_train['processed'])\n",
        "dtm_test = tfidf.transform(df_test['processed'])\n",
        "dtm_train.shape"
      ]
    },
    {
      "cell_type": "markdown",
      "metadata": {
        "id": "gB3bbKcCw9xg"
      },
      "source": [
        "Split the training set to training and validation sets for training the model"
      ]
    },
    {
      "cell_type": "code",
      "execution_count": null,
      "metadata": {
        "id": "9o_L8ExDw9xg"
      },
      "outputs": [],
      "source": [
        "X_train_ = dtm_train.toarray()\n",
        "X_test_ = dtm_test.toarray()\n",
        "y_train_ = y_train\n",
        "y_test_ = y_test\n",
        "# X_train_ = np.vstack((X_train_, X_test_))\n",
        "# y_train_ = np.concatenate((y_train, y_test))\n",
        "\n",
        "\n",
        "class_weights = compute_class_weight('balanced', classes=np.unique(y_train), y=y_train)\n",
        "\n",
        "\n",
        "# X_train_, X_test_, y_train, y_test_ = train_test_split(X_train_, y_train, test_size=0.2, random_state=42, stratify=y_train)\n",
        "X_train_, X_val_, y_train_, y_val_ = train_test_split(X_train_, y_train, test_size=0.2, random_state=42, stratify=y_train)"
      ]
    },
    {
      "cell_type": "markdown",
      "metadata": {
        "id": "YKaeaIKGw9xg"
      },
      "source": [
        "Encode the label in one hot encoding fashion"
      ]
    },
    {
      "cell_type": "code",
      "execution_count": null,
      "metadata": {
        "colab": {
          "base_uri": "https://localhost:8080/"
        },
        "id": "93YvHwq3w9xh",
        "outputId": "9cce109a-ffab-4dd9-9255-6f530ba8141e"
      },
      "outputs": [
        {
          "data": {
            "text/plain": [
              "((12800, 6), (2000, 6), (3200, 6))"
            ]
          },
          "execution_count": 41,
          "metadata": {},
          "output_type": "execute_result"
        }
      ],
      "source": [
        "y_train_encoded = to_categorical(y_train_)\n",
        "y_test_encoded = to_categorical(y_test_)\n",
        "y_val_encoded = to_categorical(y_val_)\n",
        "y_train_encoded.shape, y_test_encoded.shape, y_val_encoded.shape"
      ]
    },
    {
      "cell_type": "markdown",
      "metadata": {
        "id": "PjAtjjYQw9xh"
      },
      "source": [
        "# Fully connect NN"
      ]
    },
    {
      "cell_type": "markdown",
      "metadata": {
        "id": "0y-AK0Y_w9xh"
      },
      "source": [
        "Build the fully connected NN with tensorflow.\n",
        "\n",
        "The first layer has a high number of nerons because the input data set has `>5000` features."
      ]
    },
    {
      "cell_type": "code",
      "execution_count": null,
      "metadata": {
        "colab": {
          "base_uri": "https://localhost:8080/"
        },
        "id": "r1kFDNv-w9xh",
        "outputId": "58a732df-8674-4a26-fe0e-3f49a64e5d01"
      },
      "outputs": [
        {
          "name": "stdout",
          "output_type": "stream",
          "text": [
            "Model: \"sequential_1\"\n",
            "_________________________________________________________________\n",
            " Layer (type)                Output Shape              Param #   \n",
            "=================================================================\n",
            " dense_5 (Dense)             (None, 4096)              22888448  \n",
            "                                                                 \n",
            " dense_6 (Dense)             (None, 2048)              8390656   \n",
            "                                                                 \n",
            " dense_7 (Dense)             (None, 1024)              2098176   \n",
            "                                                                 \n",
            " dense_8 (Dense)             (None, 64)                65600     \n",
            "                                                                 \n",
            " dense_9 (Dense)             (None, 6)                 390       \n",
            "                                                                 \n",
            "=================================================================\n",
            "Total params: 33,443,270\n",
            "Trainable params: 33,443,270\n",
            "Non-trainable params: 0\n",
            "_________________________________________________________________\n"
          ]
        }
      ],
      "source": [
        "model = Sequential()\n",
        "model.add(Dense(4096, activation='selu', kernel_initializer='lecun_normal', input_shape=(X_train_.shape[1],), kernel_regularizer=tf.keras.regularizers.l2(0.01)))\n",
        "model.add(Dense(2048, activation='selu', kernel_initializer='lecun_normal', kernel_regularizer=tf.keras.regularizers.l2(0.01)))\n",
        "model.add(Dense(1024, activation='selu', kernel_initializer='lecun_normal', kernel_regularizer=tf.keras.regularizers.l2(0.1)))\n",
        "# model.add(Dense(512, activation='selu', kernel_initializer='lecun_normal', ))\n",
        "# model.add(Dense(128, activation='selu', kernel_initializer='lecun_normal', ))\n",
        "model.add(Dense(64, activation='selu',))\n",
        "model.add(Dense(6, activation='softmax'))\n",
        "\n",
        "model.layers[-1].bias.assign(class_weights)\n",
        "model.compile(optimizer='Adam', loss=tf.losses.categorical_crossentropy, metrics=['accuracy'])\n",
        "model.summary()"
      ]
    },
    {
      "cell_type": "markdown",
      "metadata": {
        "id": "rgKe82i5w9xh"
      },
      "source": [
        "Set up the early stopping condition and use a dynamic learning rate scheduler"
      ]
    },
    {
      "cell_type": "code",
      "execution_count": null,
      "metadata": {
        "id": "TX_BkxxRw9xh"
      },
      "outputs": [],
      "source": [
        "def step_decay(epoch):\n",
        "    initial_lrate = 0.001\n",
        "    drop = 0.5\n",
        "    epochs_drop = 10.0\n",
        "    lrate = initial_lrate * math.pow(drop, math.floor((1 + epoch) / epochs_drop))\n",
        "    return lrate\n",
        "\n",
        "lr_scheduler = LearningRateScheduler(step_decay)\n",
        "\n",
        "early_stopping = EarlyStopping(monitor='val_loss', restore_best_weights=True, patience=3) #"
      ]
    },
    {
      "cell_type": "markdown",
      "metadata": {
        "id": "rKvID1piw9xh"
      },
      "source": [
        "Training the model"
      ]
    },
    {
      "cell_type": "code",
      "execution_count": null,
      "metadata": {
        "colab": {
          "base_uri": "https://localhost:8080/"
        },
        "id": "KQW_WgcFw9xh",
        "outputId": "34bdf3a3-c66b-47e6-9167-2af4399fd81c"
      },
      "outputs": [
        {
          "name": "stdout",
          "output_type": "stream",
          "text": [
            "Epoch 1/20\n",
            "50/50 [==============================] - 4s 37ms/step - loss: 37.1047 - accuracy: 0.6616 - val_loss: 2.2726 - val_accuracy: 0.7844 - lr: 0.0010\n",
            "Epoch 2/20\n",
            "50/50 [==============================] - 1s 29ms/step - loss: 1.4871 - accuracy: 0.8019 - val_loss: 1.3084 - val_accuracy: 0.7962 - lr: 0.0010\n",
            "Epoch 3/20\n",
            "50/50 [==============================] - 1s 28ms/step - loss: 1.2147 - accuracy: 0.8252 - val_loss: 1.2724 - val_accuracy: 0.7987 - lr: 0.0010\n",
            "Epoch 4/20\n",
            "50/50 [==============================] - 1s 26ms/step - loss: 1.0433 - accuracy: 0.8612 - val_loss: 1.0891 - val_accuracy: 0.8347 - lr: 0.0010\n",
            "Epoch 5/20\n",
            "50/50 [==============================] - 1s 25ms/step - loss: 0.9411 - accuracy: 0.8799 - val_loss: 1.0446 - val_accuracy: 0.8434 - lr: 0.0010\n",
            "Epoch 6/20\n",
            "50/50 [==============================] - 1s 22ms/step - loss: 0.8852 - accuracy: 0.8995 - val_loss: 1.1083 - val_accuracy: 0.8288 - lr: 0.0010\n",
            "Epoch 7/20\n",
            "50/50 [==============================] - 1s 23ms/step - loss: 0.8901 - accuracy: 0.9027 - val_loss: 1.1112 - val_accuracy: 0.8309 - lr: 0.0010\n",
            "Epoch 8/20\n",
            "50/50 [==============================] - 1s 24ms/step - loss: 0.8703 - accuracy: 0.9120 - val_loss: 1.0964 - val_accuracy: 0.8356 - lr: 0.0010\n"
          ]
        }
      ],
      "source": [
        "history = model.fit(X_train_, y_train_encoded, validation_data=(X_val_, y_val_encoded), epochs=20, batch_size=256, callbacks=[early_stopping, lr_scheduler])"
      ]
    },
    {
      "cell_type": "markdown",
      "metadata": {
        "id": "vW1RgK5Lw9xh"
      },
      "source": [
        "Plot the training loss"
      ]
    },
    {
      "cell_type": "code",
      "execution_count": null,
      "metadata": {
        "colab": {
          "base_uri": "https://localhost:8080/",
          "height": 430
        },
        "id": "v6KHTstaw9xh",
        "outputId": "66b37ffa-852a-4b42-b41d-8ff549eae6ec"
      },
      "outputs": [
        {
          "data": {
            "image/png": "[encoded data removed]",
            "text/plain": [
              "<Figure size 640x480 with 1 Axes>"
            ]
          },
          "metadata": {},
          "output_type": "display_data"
        }
      ],
      "source": [
        "loss, val_loss = history.history['loss'], history.history['val_loss']\n",
        "\n",
        "plt.plot(loss, label='loss')\n",
        "plt.plot(val_loss, label='val_loss')\n",
        "plt.legend()\n",
        "plt.show()"
      ]
    },
    {
      "cell_type": "markdown",
      "metadata": {
        "id": "6L4MTH1Bw9xh"
      },
      "source": [
        "Test the model on test dataset"
      ]
    },
    {
      "cell_type": "code",
      "execution_count": null,
      "metadata": {
        "colab": {
          "base_uri": "https://localhost:8080/"
        },
        "id": "31UYBJnWw9xi",
        "outputId": "12d30afc-e269-460e-fb3f-93f803de1427"
      },
      "outputs": [
        {
          "name": "stdout",
          "output_type": "stream",
          "text": [
            "63/63 [==============================] - 0s 2ms/step\n",
            "              precision    recall  f1-score   support\n",
            "\n",
            "           0       0.85      0.83      0.84       275\n",
            "           1       0.79      0.82      0.80       224\n",
            "           2       0.86      0.89      0.88       695\n",
            "           3       0.63      0.76      0.69       159\n",
            "           4       0.92      0.83      0.87       581\n",
            "           5       0.66      0.61      0.63        66\n",
            "\n",
            "    accuracy                           0.84      2000\n",
            "   macro avg       0.78      0.79      0.78      2000\n",
            "weighted avg       0.84      0.84      0.84      2000\n",
            "\n",
            "[[228  12  12   4  19   0]\n",
            " [  5 183  12   0   7  17]\n",
            " [  7   6 620  51  10   1]\n",
            " [  2   0  28 121   6   2]\n",
            " [ 25  23  39  13 480   1]\n",
            " [  1   9  11   3   2  40]]\n",
            "0.836\n"
          ]
        }
      ],
      "source": [
        "predictions = model.predict(X_test_)\n",
        "prediction_labels = predictions.argmax(axis=1)\n",
        "print(classification_report(y_test, prediction_labels))\n",
        "print(confusion_matrix(y_test_, prediction_labels))\n",
        "print(accuracy_score(y_test_, prediction_labels))"
      ]
    },
    {
      "cell_type": "markdown",
      "metadata": {
        "id": "wghXruyvw9xi"
      },
      "source": [
        "I have tried several dozens of times on this model: increasing and reducing the layers, increasing and reducing the neurons in each layer, tuning the regularization parameter, changing regularization, tuning the learning rate, batch size, *etc*.\n",
        "\n",
        "I also tried to experiment on the different input, using different representation of original text for model training, such as embedding with spacy. There were several different accuracy ceiling for my model from low to high with increasing the model complexity, `34%` to `56%`, and `86%`. And finally I got this result with the tf_idf matrix representation for training the model while the scale of the model is large with nearly 34 million. And the Accuracy on test was improved from `< 40%` to now `> 80%`.\n",
        "\n",
        "With `> 80%` accuracy, I also run dozens of experimentation to improve the accuracy, however, it is very hard to get a better accuracy, in the meantime I am already overfitting with the training set. I tried to tackle the overfitting problem, but I will get lower accuracy. So I decided to keep this model setup."
      ]
    },
    {
      "cell_type": "markdown",
      "metadata": {
        "id": "6U51XoDnw9xi"
      },
      "source": [
        "Save the model, the folder of saved model is ignored for commit to github"
      ]
    },
    {
      "cell_type": "code",
      "execution_count": null,
      "metadata": {
        "id": "5A0z5wO5w9xi"
      },
      "outputs": [],
      "source": [
        "model.save('FNN_model')"
      ]
    },
    {
      "cell_type": "markdown",
      "metadata": {
        "id": "_DTknQorw9xq"
      },
      "source": [
        "# RNN, LSTM and GRU"
      ]
    },
    {
      "cell_type": "code",
      "execution_count": null,
      "metadata": {
        "id": "qROdD8yVw9xq"
      },
      "outputs": [],
      "source": [
        "def plot_results(history):\n",
        "    hist_df = pd.DataFrame(history.history)\n",
        "    hist_df.columns=[\"loss\", \"accuracy\", \"val_loss\", \"val_accuracy\"]\n",
        "    hist_df.index = np.arange(1, len(hist_df)+1)\n",
        "\n",
        "    fig, axs = plt.subplots(nrows=2, sharex=True, figsize=(16, 10))\n",
        "    axs[0].plot(hist_df.val_accuracy, lw=3, label='Validation Accuracy')\n",
        "    axs[0].plot(hist_df.accuracy, lw=3, label='Training Accuracy')\n",
        "    axs[0].set_ylabel('Accuracy')\n",
        "    axs[0].set_xlabel('Epoch')\n",
        "    axs[0].grid()\n",
        "    axs[0].legend(loc=0)\n",
        "    axs[1].plot(hist_df.val_loss, lw=3, label='Validation Loss')\n",
        "    axs[1].plot(hist_df.loss, lw=3, label='Training Loss')\n",
        "    axs[1].set_ylabel('Loss')\n",
        "    axs[1].set_xlabel('Epoch')\n",
        "    axs[1].grid()\n",
        "    axs[1].legend(loc=0)\n",
        "\n",
        "    plt.show();"
      ]
    },
    {
      "cell_type": "code",
      "execution_count": null,
      "metadata": {
        "colab": {
          "base_uri": "https://localhost:8080/",
          "height": 206
        },
        "id": "bg4Zfv9xw9xq",
        "outputId": "df325a97-ae41-4e42-816d-e714f96568bc"
      },
      "outputs": [
        {
          "data": {
            "text/html": [
              "\n",
              "\n",
              "  <div id=\"df-f4488661-d6cc-4199-8400-ee635347c9ac\">\n",
              "    <div class=\"colab-df-container\">\n",
              "      <div>\n",
              "<style scoped>\n",
              "    .dataframe tbody tr th:only-of-type {\n",
              "        vertical-align: middle;\n",
              "    }\n",
              "\n",
              "    .dataframe tbody tr th {\n",
              "        vertical-align: top;\n",
              "    }\n",
              "\n",
              "    .dataframe thead th {\n",
              "        text-align: right;\n",
              "    }\n",
              "</style>\n",
              "<table border=\"1\" class=\"dataframe\">\n",
              "  <thead>\n",
              "    <tr style=\"text-align: right;\">\n",
              "      <th></th>\n",
              "      <th>tweet</th>\n",
              "      <th>sentiment</th>\n",
              "      <th>processed</th>\n",
              "    </tr>\n",
              "  </thead>\n",
              "  <tbody>\n",
              "    <tr>\n",
              "      <th>0</th>\n",
              "      <td>i didnt feel humiliated</td>\n",
              "      <td>sadness</td>\n",
              "      <td>not feel humiliate</td>\n",
              "    </tr>\n",
              "    <tr>\n",
              "      <th>1</th>\n",
              "      <td>i can go from feeling so hopeless to so damned...</td>\n",
              "      <td>sadness</td>\n",
              "      <td>feel hopeless damn hopeful care awake</td>\n",
              "    </tr>\n",
              "    <tr>\n",
              "      <th>2</th>\n",
              "      <td>im grabbing a minute to post i feel greedy wrong</td>\n",
              "      <td>anger</td>\n",
              "      <td>m grab minute post feel greedy wrong</td>\n",
              "    </tr>\n",
              "    <tr>\n",
              "      <th>3</th>\n",
              "      <td>i am ever feeling nostalgic about the fireplac...</td>\n",
              "      <td>love</td>\n",
              "      <td>feel nostalgic fireplace know property</td>\n",
              "    </tr>\n",
              "    <tr>\n",
              "      <th>4</th>\n",
              "      <td>i am feeling grouchy</td>\n",
              "      <td>anger</td>\n",
              "      <td>feel grouchy</td>\n",
              "    </tr>\n",
              "  </tbody>\n",
              "</table>\n",
              "</div>\n",
              "      <button class=\"colab-df-convert\" onclick=\"convertToInteractive('df-f4488661-d6cc-4199-8400-ee635347c9ac')\"\n",
              "              title=\"Convert this dataframe to an interactive table.\"\n",
              "              style=\"display:none;\">\n",
              "\n",
              "  <svg xmlns=\"http://www.w3.org/2000/svg\" height=\"24px\"viewBox=\"0 0 24 24\"\n",
              "       width=\"24px\">\n",
              "    <path d=\"M0 0h24v24H0V0z\" fill=\"none\"/>\n",
              "    <path d=\"M18.56 5.44l.94 2.06.94-2.06 2.06-.94-2.06-.94-.94-2.06-.94 2.06-2.06.94zm-11 1L8.5 8.5l.94-2.06 2.06-.94-2.06-.94L8.5 2.5l-.94 2.06-2.06.94zm10 10l.94 2.06.94-2.06 2.06-.94-2.06-.94-.94-2.06-.94 2.06-2.06.94z\"/><path d=\"M17.41 7.96l-1.37-1.37c-.4-.4-.92-.59-1.43-.59-.52 0-1.04.2-1.43.59L10.3 9.45l-7.72 7.72c-.78.78-.78 2.05 0 2.83L4 21.41c.39.39.9.59 1.41.59.51 0 1.02-.2 1.41-.59l7.78-7.78 2.81-2.81c.8-.78.8-2.07 0-2.86zM5.41 20L4 18.59l7.72-7.72 1.47 1.35L5.41 20z\"/>\n",
              "  </svg>\n",
              "      </button>\n",
              "\n",
              "\n",
              "\n",
              "    <div id=\"df-32945e0c-0877-450f-9e3e-7b47fe48e16d\">\n",
              "      <button class=\"colab-df-quickchart\" onclick=\"quickchart('df-32945e0c-0877-450f-9e3e-7b47fe48e16d')\"\n",
              "              title=\"Suggest charts.\"\n",
              "              style=\"display:none;\">\n",
              "\n",
              "<svg xmlns=\"http://www.w3.org/2000/svg\" height=\"24px\"viewBox=\"0 0 24 24\"\n",
              "     width=\"24px\">\n",
              "    <g>\n",
              "        <path d=\"M19 3H5c-1.1 0-2 .9-2 2v14c0 1.1.9 2 2 2h14c1.1 0 2-.9 2-2V5c0-1.1-.9-2-2-2zM9 17H7v-7h2v7zm4 0h-2V7h2v10zm4 0h-2v-4h2v4z\"/>\n",
              "    </g>\n",
              "</svg>\n",
              "      </button>\n",
              "    </div>\n",
              "\n",
              "<style>\n",
              "  .colab-df-quickchart {\n",
              "    background-color: #E8F0FE;\n",
              "    border: none;\n",
              "    border-radius: 50%;\n",
              "    cursor: pointer;\n",
              "    display: none;\n",
              "    fill: #1967D2;\n",
              "    height: 32px;\n",
              "    padding: 0 0 0 0;\n",
              "    width: 32px;\n",
              "  }\n",
              "\n",
              "  .colab-df-quickchart:hover {\n",
              "    background-color: #E2EBFA;\n",
              "    box-shadow: 0px 1px 2px rgba(60, 64, 67, 0.3), 0px 1px 3px 1px rgba(60, 64, 67, 0.15);\n",
              "    fill: #174EA6;\n",
              "  }\n",
              "\n",
              "  [theme=dark] .colab-df-quickchart {\n",
              "    background-color: #3B4455;\n",
              "    fill: #D2E3FC;\n",
              "  }\n",
              "\n",
              "  [theme=dark] .colab-df-quickchart:hover {\n",
              "    background-color: #434B5C;\n",
              "    box-shadow: 0px 1px 3px 1px rgba(0, 0, 0, 0.15);\n",
              "    filter: drop-shadow(0px 1px 2px rgba(0, 0, 0, 0.3));\n",
              "    fill: #FFFFFF;\n",
              "  }\n",
              "</style>\n",
              "\n",
              "    <script>\n",
              "      async function quickchart(key) {\n",
              "        const containerElement = document.querySelector('#' + key);\n",
              "        const charts = await google.colab.kernel.invokeFunction(\n",
              "            'suggestCharts', [key], {});\n",
              "      }\n",
              "    </script>\n",
              "\n",
              "      <script>\n",
              "\n",
              "function displayQuickchartButton(domScope) {\n",
              "  let quickchartButtonEl =\n",
              "    domScope.querySelector('#df-32945e0c-0877-450f-9e3e-7b47fe48e16d button.colab-df-quickchart');\n",
              "  quickchartButtonEl.style.display =\n",
              "    google.colab.kernel.accessAllowed ? 'block' : 'none';\n",
              "}\n",
              "\n",
              "        displayQuickchartButton(document);\n",
              "      </script>\n",
              "      <style>\n",
              "    .colab-df-container {\n",
              "      display:flex;\n",
              "      flex-wrap:wrap;\n",
              "      gap: 12px;\n",
              "    }\n",
              "\n",
              "    .colab-df-convert {\n",
              "      background-color: #E8F0FE;\n",
              "      border: none;\n",
              "      border-radius: 50%;\n",
              "      cursor: pointer;\n",
              "      display: none;\n",
              "      fill: #1967D2;\n",
              "      height: 32px;\n",
              "      padding: 0 0 0 0;\n",
              "      width: 32px;\n",
              "    }\n",
              "\n",
              "    .colab-df-convert:hover {\n",
              "      background-color: #E2EBFA;\n",
              "      box-shadow: 0px 1px 2px rgba(60, 64, 67, 0.3), 0px 1px 3px 1px rgba(60, 64, 67, 0.15);\n",
              "      fill: #174EA6;\n",
              "    }\n",
              "\n",
              "    [theme=dark] .colab-df-convert {\n",
              "      background-color: #3B4455;\n",
              "      fill: #D2E3FC;\n",
              "    }\n",
              "\n",
              "    [theme=dark] .colab-df-convert:hover {\n",
              "      background-color: #434B5C;\n",
              "      box-shadow: 0px 1px 3px 1px rgba(0, 0, 0, 0.15);\n",
              "      filter: drop-shadow(0px 1px 2px rgba(0, 0, 0, 0.3));\n",
              "      fill: #FFFFFF;\n",
              "    }\n",
              "  </style>\n",
              "\n",
              "      <script>\n",
              "        const buttonEl =\n",
              "          document.querySelector('#df-f4488661-d6cc-4199-8400-ee635347c9ac button.colab-df-convert');\n",
              "        buttonEl.style.display =\n",
              "          google.colab.kernel.accessAllowed ? 'block' : 'none';\n",
              "\n",
              "        async function convertToInteractive(key) {\n",
              "          const element = document.querySelector('#df-f4488661-d6cc-4199-8400-ee635347c9ac');\n",
              "          const dataTable =\n",
              "            await google.colab.kernel.invokeFunction('convertToInteractive',\n",
              "                                                     [key], {});\n",
              "          if (!dataTable) return;\n",
              "\n",
              "          const docLinkHtml = 'Like what you see? Visit the ' +\n",
              "            '<a target=\"_blank\" href=https://colab.research.google.com/notebooks/data_table.ipynb>data table notebook</a>'\n",
              "            + ' to learn more about interactive tables.';\n",
              "          element.innerHTML = '';\n",
              "          dataTable['output_type'] = 'display_data';\n",
              "          await google.colab.output.renderOutput(dataTable, element);\n",
              "          const docLink = document.createElement('div');\n",
              "          docLink.innerHTML = docLinkHtml;\n",
              "          element.appendChild(docLink);\n",
              "        }\n",
              "      </script>\n",
              "    </div>\n",
              "  </div>\n"
            ],
            "text/plain": [
              "                                               tweet sentiment  \\\n",
              "0                            i didnt feel humiliated   sadness   \n",
              "1  i can go from feeling so hopeless to so damned...   sadness   \n",
              "2   im grabbing a minute to post i feel greedy wrong     anger   \n",
              "3  i am ever feeling nostalgic about the fireplac...      love   \n",
              "4                               i am feeling grouchy     anger   \n",
              "\n",
              "                                processed  \n",
              "0                      not feel humiliate  \n",
              "1   feel hopeless damn hopeful care awake  \n",
              "2    m grab minute post feel greedy wrong  \n",
              "3  feel nostalgic fireplace know property  \n",
              "4                            feel grouchy  "
            ]
          },
          "execution_count": 49,
          "metadata": {},
          "output_type": "execute_result"
        }
      ],
      "source": [
        "df_train.head()"
      ]
    },
    {
      "cell_type": "code",
      "execution_count": null,
      "metadata": {
        "id": "EjAAzhOHw9xq"
      },
      "outputs": [],
      "source": [
        "max_length = 100\n",
        "trunc_type='post'\n",
        "\n",
        "\n",
        "tokenizer = Tokenizer() #(num_words = vocab_size, oov_token=oov_tok)\n",
        "tokenizer.fit_on_texts(df_train['tweet'])\n",
        "word_index = tokenizer.word_index\n",
        "sequences = tokenizer.texts_to_sequences(df_train['tweet'])\n",
        "padded = pad_sequences(sequences, maxlen=max_length, truncating=trunc_type)\n",
        "\n",
        "testing_sequences = tokenizer.texts_to_sequences(df_test['tweet'])\n",
        "testing_padded = pad_sequences(testing_sequences,maxlen=max_length)"
      ]
    },
    {
      "cell_type": "code",
      "execution_count": null,
      "metadata": {
        "id": "49NbdK_pw9xq"
      },
      "outputs": [],
      "source": [
        "le = LabelEncoder()\n",
        "y_train = le.fit_transform(df_train['sentiment'])\n",
        "y_test = le.transform(df_test['sentiment'])\n",
        "y_train_encoded = to_categorical(y_train)\n",
        "y_test_encoded = to_categorical(y_test)"
      ]
    },
    {
      "cell_type": "code",
      "execution_count": null,
      "metadata": {
        "colab": {
          "base_uri": "https://localhost:8080/"
        },
        "id": "a73pO3WHw9xr",
        "outputId": "fc3cc65c-132d-4024-90d9-026647be111a"
      },
      "outputs": [
        {
          "name": "stdout",
          "output_type": "stream",
          "text": [
            "Model: \"sequential_2\"\n",
            "_________________________________________________________________\n",
            " Layer (type)                Output Shape              Param #   \n",
            "=================================================================\n",
            " embedding (Embedding)       (None, 100, 100)          1521300   \n",
            "                                                                 \n",
            " bidirectional (Bidirectiona  (None, 128)              84480     \n",
            " l)                                                              \n",
            "                                                                 \n",
            " dropout (Dropout)           (None, 128)               0         \n",
            "                                                                 \n",
            " dense_10 (Dense)            (None, 32)                4128      \n",
            "                                                                 \n",
            " dropout_1 (Dropout)         (None, 32)                0         \n",
            "                                                                 \n",
            " dense_11 (Dense)            (None, 6)                 198       \n",
            "                                                                 \n",
            "=================================================================\n",
            "Total params: 1,610,106\n",
            "Trainable params: 1,610,106\n",
            "Non-trainable params: 0\n",
            "_________________________________________________________________\n",
            "None\n"
          ]
        }
      ],
      "source": [
        "vocab_size = len(tokenizer.word_index) + 1\n",
        "embedding_dim = max_length\n",
        "\n",
        "\n",
        "model = tf.keras.Sequential([\n",
        "    Embedding(vocab_size, embedding_dim, input_length=max_length),\n",
        "    Bidirectional(LSTM(64)), #32\n",
        "    Dropout(0.4),\n",
        "    Dense(32, activation='leaky_relu', kernel_regularizer='l1_l2'),\n",
        "    Dropout(0.4),\n",
        "    Dense(6, activation='softmax')\n",
        "])\n",
        "\n",
        "\n",
        "loss_function = 'categorical_crossentropy'\n",
        "optimizer = 'adam'\n",
        "\n",
        "model.compile(loss=loss_function, optimizer=optimizer, metrics=['accuracy', Precision(), Recall(), AUC()])\n",
        "\n",
        "print(model.summary())"
      ]
    },
    {
      "cell_type": "code",
      "execution_count": null,
      "metadata": {
        "colab": {
          "base_uri": "https://localhost:8080/"
        },
        "id": "HmxDgZbKw9xr",
        "outputId": "b6aa3323-0ab7-42f7-bad2-f6fcca5e6df3"
      },
      "outputs": [
        {
          "name": "stdout",
          "output_type": "stream",
          "text": [
            "Epoch 1/50\n",
            "400/400 [==============================] - 41s 89ms/step - loss: 2.4036 - accuracy: 0.3648 - precision: 0.6458 - recall: 0.0330 - auc: 0.7186 - val_loss: 1.5023 - val_accuracy: 0.5266 - val_precision: 0.7307 - val_recall: 0.1950 - val_auc: 0.7828\n",
            "Epoch 2/50\n",
            "400/400 [==============================] - 10s 25ms/step - loss: 1.3698 - accuracy: 0.5701 - precision: 0.8441 - recall: 0.2631 - auc: 0.8312 - val_loss: 1.2686 - val_accuracy: 0.5909 - val_precision: 0.8893 - val_recall: 0.2812 - val_auc: 0.8621\n",
            "Epoch 3/50\n",
            "400/400 [==============================] - 7s 18ms/step - loss: 1.2138 - accuracy: 0.6031 - precision: 0.8394 - recall: 0.3397 - auc: 0.8721 - val_loss: 1.2043 - val_accuracy: 0.5944 - val_precision: 0.8868 - val_recall: 0.2766 - val_auc: 0.8778\n",
            "Epoch 4/50\n",
            "400/400 [==============================] - 8s 19ms/step - loss: 1.0482 - accuracy: 0.6361 - precision: 0.8305 - recall: 0.5164 - auc: 0.9163 - val_loss: 0.9813 - val_accuracy: 0.7006 - val_precision: 0.8303 - val_recall: 0.5872 - val_auc: 0.9357\n",
            "Epoch 5/50\n",
            "400/400 [==============================] - 7s 18ms/step - loss: 0.8405 - accuracy: 0.7531 - precision: 0.9182 - recall: 0.5998 - auc: 0.9580 - val_loss: 0.7950 - val_accuracy: 0.8163 - val_precision: 0.9071 - val_recall: 0.6681 - val_auc: 0.9615\n",
            "Epoch 6/50\n",
            "400/400 [==============================] - 7s 18ms/step - loss: 0.6492 - accuracy: 0.8480 - precision: 0.9239 - recall: 0.7448 - auc: 0.9792 - val_loss: 0.6397 - val_accuracy: 0.8700 - val_precision: 0.9058 - val_recall: 0.8388 - val_auc: 0.9748\n",
            "Epoch 7/50\n",
            "400/400 [==============================] - 6s 14ms/step - loss: 0.5241 - accuracy: 0.8946 - precision: 0.9358 - recall: 0.8451 - auc: 0.9879 - val_loss: 0.5635 - val_accuracy: 0.8759 - val_precision: 0.9111 - val_recall: 0.8650 - val_auc: 0.9812\n",
            "Epoch 8/50\n",
            "400/400 [==============================] - 6s 15ms/step - loss: 0.4414 - accuracy: 0.9126 - precision: 0.9461 - recall: 0.8845 - auc: 0.9923 - val_loss: 0.5622 - val_accuracy: 0.8831 - val_precision: 0.9144 - val_recall: 0.8675 - val_auc: 0.9795\n",
            "Epoch 9/50\n",
            "400/400 [==============================] - 6s 14ms/step - loss: 0.4110 - accuracy: 0.9197 - precision: 0.9524 - recall: 0.8973 - auc: 0.9934 - val_loss: 0.5265 - val_accuracy: 0.8909 - val_precision: 0.9189 - val_recall: 0.8816 - val_auc: 0.9812\n",
            "Epoch 10/50\n",
            "400/400 [==============================] - 6s 16ms/step - loss: 0.3607 - accuracy: 0.9339 - precision: 0.9626 - recall: 0.9123 - auc: 0.9955 - val_loss: 0.5106 - val_accuracy: 0.8969 - val_precision: 0.9202 - val_recall: 0.8756 - val_auc: 0.9831\n",
            "Epoch 11/50\n",
            "400/400 [==============================] - 6s 15ms/step - loss: 0.3374 - accuracy: 0.9441 - precision: 0.9644 - recall: 0.9219 - auc: 0.9964 - val_loss: 0.5604 - val_accuracy: 0.8844 - val_precision: 0.9107 - val_recall: 0.8669 - val_auc: 0.9798\n",
            "Epoch 12/50\n",
            "400/400 [==============================] - 7s 17ms/step - loss: 0.3142 - accuracy: 0.9541 - precision: 0.9708 - recall: 0.9317 - auc: 0.9971 - val_loss: 0.5328 - val_accuracy: 0.8994 - val_precision: 0.9160 - val_recall: 0.8863 - val_auc: 0.9793\n",
            "Epoch 13/50\n",
            "400/400 [==============================] - 6s 15ms/step - loss: 0.2931 - accuracy: 0.9597 - precision: 0.9721 - recall: 0.9402 - auc: 0.9976 - val_loss: 0.5165 - val_accuracy: 0.9062 - val_precision: 0.9199 - val_recall: 0.8972 - val_auc: 0.9801\n"
          ]
        }
      ],
      "source": [
        "predictors = np.array(padded)\n",
        "label = np.array(y_train_encoded)\n",
        "epochs_value = 50\n",
        "validation_split_value = 0.2\n",
        "early_stopping = tf.keras.callbacks.EarlyStopping(patience=3)\n",
        "\n",
        "history = model.fit(predictors, label, epochs=epochs_value, verbose=1, validation_split=validation_split_value, callbacks=[early_stopping])"
      ]
    },
    {
      "cell_type": "code",
      "execution_count": null,
      "metadata": {
        "colab": {
          "base_uri": "https://localhost:8080/",
          "height": 434
        },
        "id": "4BwoVgP9w9xr",
        "outputId": "ffe29c42-94a1-4b6b-b297-1f270ec6a496"
      },
      "outputs": [
        {
          "data": {
            "image/png": "[encoded data removed]",
            "text/plain": [
              "<Figure size 640x480 with 1 Axes>"
            ]
          },
          "metadata": {},
          "output_type": "display_data"
        }
      ],
      "source": [
        "loss, val_loss = history.history['loss'], history.history['val_loss']\n",
        "plt.plot(loss, label='loss')\n",
        "plt.plot(val_loss, label='val_loss')\n",
        "plt.legend()\n",
        "plt.show()"
      ]
    },
    {
      "cell_type": "code",
      "execution_count": null,
      "metadata": {
        "colab": {
          "base_uri": "https://localhost:8080/"
        },
        "id": "Q5FjHU53w9xr",
        "outputId": "fcf6a64c-72e3-444a-fb72-b4b581fa81e8"
      },
      "outputs": [
        {
          "name": "stdout",
          "output_type": "stream",
          "text": [
            "63/63 [==============================] - 1s 7ms/step\n",
            "              precision    recall  f1-score   support\n",
            "\n",
            "           0       0.94      0.87      0.90       275\n",
            "           1       0.85      0.93      0.89       224\n",
            "           2       0.93      0.92      0.93       695\n",
            "           3       0.76      0.84      0.80       159\n",
            "           4       0.96      0.96      0.96       581\n",
            "           5       0.63      0.55      0.59        66\n",
            "\n",
            "    accuracy                           0.91      2000\n",
            "   macro avg       0.85      0.84      0.84      2000\n",
            "weighted avg       0.91      0.91      0.91      2000\n",
            "\n",
            "[[239  14   3   1  16   2]\n",
            " [  4 208   1   1   4   6]\n",
            " [  3   1 642  36   3  10]\n",
            " [  1   0  21 134   1   2]\n",
            " [  6   4  11   2 557   1]\n",
            " [  2  17   9   2   0  36]]\n",
            "0.908\n"
          ]
        }
      ],
      "source": [
        "predictions = model.predict(testing_padded)\n",
        "prediction_labels = predictions.argmax(axis=1)\n",
        "print(classification_report(y_test, prediction_labels))\n",
        "print(confusion_matrix(y_test, prediction_labels))\n",
        "print(accuracy_score(y_test, prediction_labels))"
      ]
    },
    {
      "cell_type": "markdown",
      "metadata": {
        "id": "Kn4-Pcc5w9xr"
      },
      "source": [
        "# Transformer based Pretrained model"
      ]
    },
    {
      "cell_type": "code",
      "execution_count": null,
      "metadata": {
        "colab": {
          "base_uri": "https://localhost:8080/",
          "height": 206
        },
        "id": "6amiAoIjw9xr",
        "outputId": "2a772584-3579-4f74-b359-b12dce055fa6"
      },
      "outputs": [
        {
          "data": {
            "text/html": [
              "\n",
              "\n",
              "  <div id=\"df-c9fefe7e-f6a4-4089-8850-006eab7cc84b\">\n",
              "    <div class=\"colab-df-container\">\n",
              "      <div>\n",
              "<style scoped>\n",
              "    .dataframe tbody tr th:only-of-type {\n",
              "        vertical-align: middle;\n",
              "    }\n",
              "\n",
              "    .dataframe tbody tr th {\n",
              "        vertical-align: top;\n",
              "    }\n",
              "\n",
              "    .dataframe thead th {\n",
              "        text-align: right;\n",
              "    }\n",
              "</style>\n",
              "<table border=\"1\" class=\"dataframe\">\n",
              "  <thead>\n",
              "    <tr style=\"text-align: right;\">\n",
              "      <th></th>\n",
              "      <th>tweet</th>\n",
              "      <th>sentiment</th>\n",
              "      <th>processed</th>\n",
              "    </tr>\n",
              "  </thead>\n",
              "  <tbody>\n",
              "    <tr>\n",
              "      <th>0</th>\n",
              "      <td>i didnt feel humiliated</td>\n",
              "      <td>sadness</td>\n",
              "      <td>not feel humiliate</td>\n",
              "    </tr>\n",
              "    <tr>\n",
              "      <th>1</th>\n",
              "      <td>i can go from feeling so hopeless to so damned...</td>\n",
              "      <td>sadness</td>\n",
              "      <td>feel hopeless damn hopeful care awake</td>\n",
              "    </tr>\n",
              "    <tr>\n",
              "      <th>2</th>\n",
              "      <td>im grabbing a minute to post i feel greedy wrong</td>\n",
              "      <td>anger</td>\n",
              "      <td>m grab minute post feel greedy wrong</td>\n",
              "    </tr>\n",
              "    <tr>\n",
              "      <th>3</th>\n",
              "      <td>i am ever feeling nostalgic about the fireplac...</td>\n",
              "      <td>love</td>\n",
              "      <td>feel nostalgic fireplace know property</td>\n",
              "    </tr>\n",
              "    <tr>\n",
              "      <th>4</th>\n",
              "      <td>i am feeling grouchy</td>\n",
              "      <td>anger</td>\n",
              "      <td>feel grouchy</td>\n",
              "    </tr>\n",
              "  </tbody>\n",
              "</table>\n",
              "</div>\n",
              "      <button class=\"colab-df-convert\" onclick=\"convertToInteractive('df-c9fefe7e-f6a4-4089-8850-006eab7cc84b')\"\n",
              "              title=\"Convert this dataframe to an interactive table.\"\n",
              "              style=\"display:none;\">\n",
              "\n",
              "  <svg xmlns=\"http://www.w3.org/2000/svg\" height=\"24px\"viewBox=\"0 0 24 24\"\n",
              "       width=\"24px\">\n",
              "    <path d=\"M0 0h24v24H0V0z\" fill=\"none\"/>\n",
              "    <path d=\"M18.56 5.44l.94 2.06.94-2.06 2.06-.94-2.06-.94-.94-2.06-.94 2.06-2.06.94zm-11 1L8.5 8.5l.94-2.06 2.06-.94-2.06-.94L8.5 2.5l-.94 2.06-2.06.94zm10 10l.94 2.06.94-2.06 2.06-.94-2.06-.94-.94-2.06-.94 2.06-2.06.94z\"/><path d=\"M17.41 7.96l-1.37-1.37c-.4-.4-.92-.59-1.43-.59-.52 0-1.04.2-1.43.59L10.3 9.45l-7.72 7.72c-.78.78-.78 2.05 0 2.83L4 21.41c.39.39.9.59 1.41.59.51 0 1.02-.2 1.41-.59l7.78-7.78 2.81-2.81c.8-.78.8-2.07 0-2.86zM5.41 20L4 18.59l7.72-7.72 1.47 1.35L5.41 20z\"/>\n",
              "  </svg>\n",
              "      </button>\n",
              "\n",
              "\n",
              "\n",
              "    <div id=\"df-03053ac0-fed0-45b6-8528-85dc61f7b841\">\n",
              "      <button class=\"colab-df-quickchart\" onclick=\"quickchart('df-03053ac0-fed0-45b6-8528-85dc61f7b841')\"\n",
              "              title=\"Suggest charts.\"\n",
              "              style=\"display:none;\">\n",
              "\n",
              "<svg xmlns=\"http://www.w3.org/2000/svg\" height=\"24px\"viewBox=\"0 0 24 24\"\n",
              "     width=\"24px\">\n",
              "    <g>\n",
              "        <path d=\"M19 3H5c-1.1 0-2 .9-2 2v14c0 1.1.9 2 2 2h14c1.1 0 2-.9 2-2V5c0-1.1-.9-2-2-2zM9 17H7v-7h2v7zm4 0h-2V7h2v10zm4 0h-2v-4h2v4z\"/>\n",
              "    </g>\n",
              "</svg>\n",
              "      </button>\n",
              "    </div>\n",
              "\n",
              "<style>\n",
              "  .colab-df-quickchart {\n",
              "    background-color: #E8F0FE;\n",
              "    border: none;\n",
              "    border-radius: 50%;\n",
              "    cursor: pointer;\n",
              "    display: none;\n",
              "    fill: #1967D2;\n",
              "    height: 32px;\n",
              "    padding: 0 0 0 0;\n",
              "    width: 32px;\n",
              "  }\n",
              "\n",
              "  .colab-df-quickchart:hover {\n",
              "    background-color: #E2EBFA;\n",
              "    box-shadow: 0px 1px 2px rgba(60, 64, 67, 0.3), 0px 1px 3px 1px rgba(60, 64, 67, 0.15);\n",
              "    fill: #174EA6;\n",
              "  }\n",
              "\n",
              "  [theme=dark] .colab-df-quickchart {\n",
              "    background-color: #3B4455;\n",
              "    fill: #D2E3FC;\n",
              "  }\n",
              "\n",
              "  [theme=dark] .colab-df-quickchart:hover {\n",
              "    background-color: #434B5C;\n",
              "    box-shadow: 0px 1px 3px 1px rgba(0, 0, 0, 0.15);\n",
              "    filter: drop-shadow(0px 1px 2px rgba(0, 0, 0, 0.3));\n",
              "    fill: #FFFFFF;\n",
              "  }\n",
              "</style>\n",
              "\n",
              "    <script>\n",
              "      async function quickchart(key) {\n",
              "        const containerElement = document.querySelector('#' + key);\n",
              "        const charts = await google.colab.kernel.invokeFunction(\n",
              "            'suggestCharts', [key], {});\n",
              "      }\n",
              "    </script>\n",
              "\n",
              "      <script>\n",
              "\n",
              "function displayQuickchartButton(domScope) {\n",
              "  let quickchartButtonEl =\n",
              "    domScope.querySelector('#df-03053ac0-fed0-45b6-8528-85dc61f7b841 button.colab-df-quickchart');\n",
              "  quickchartButtonEl.style.display =\n",
              "    google.colab.kernel.accessAllowed ? 'block' : 'none';\n",
              "}\n",
              "\n",
              "        displayQuickchartButton(document);\n",
              "      </script>\n",
              "      <style>\n",
              "    .colab-df-container {\n",
              "      display:flex;\n",
              "      flex-wrap:wrap;\n",
              "      gap: 12px;\n",
              "    }\n",
              "\n",
              "    .colab-df-convert {\n",
              "      background-color: #E8F0FE;\n",
              "      border: none;\n",
              "      border-radius: 50%;\n",
              "      cursor: pointer;\n",
              "      display: none;\n",
              "      fill: #1967D2;\n",
              "      height: 32px;\n",
              "      padding: 0 0 0 0;\n",
              "      width: 32px;\n",
              "    }\n",
              "\n",
              "    .colab-df-convert:hover {\n",
              "      background-color: #E2EBFA;\n",
              "      box-shadow: 0px 1px 2px rgba(60, 64, 67, 0.3), 0px 1px 3px 1px rgba(60, 64, 67, 0.15);\n",
              "      fill: #174EA6;\n",
              "    }\n",
              "\n",
              "    [theme=dark] .colab-df-convert {\n",
              "      background-color: #3B4455;\n",
              "      fill: #D2E3FC;\n",
              "    }\n",
              "\n",
              "    [theme=dark] .colab-df-convert:hover {\n",
              "      background-color: #434B5C;\n",
              "      box-shadow: 0px 1px 3px 1px rgba(0, 0, 0, 0.15);\n",
              "      filter: drop-shadow(0px 1px 2px rgba(0, 0, 0, 0.3));\n",
              "      fill: #FFFFFF;\n",
              "    }\n",
              "  </style>\n",
              "\n",
              "      <script>\n",
              "        const buttonEl =\n",
              "          document.querySelector('#df-c9fefe7e-f6a4-4089-8850-006eab7cc84b button.colab-df-convert');\n",
              "        buttonEl.style.display =\n",
              "          google.colab.kernel.accessAllowed ? 'block' : 'none';\n",
              "\n",
              "        async function convertToInteractive(key) {\n",
              "          const element = document.querySelector('#df-c9fefe7e-f6a4-4089-8850-006eab7cc84b');\n",
              "          const dataTable =\n",
              "            await google.colab.kernel.invokeFunction('convertToInteractive',\n",
              "                                                     [key], {});\n",
              "          if (!dataTable) return;\n",
              "\n",
              "          const docLinkHtml = 'Like what you see? Visit the ' +\n",
              "            '<a target=\"_blank\" href=https://colab.research.google.com/notebooks/data_table.ipynb>data table notebook</a>'\n",
              "            + ' to learn more about interactive tables.';\n",
              "          element.innerHTML = '';\n",
              "          dataTable['output_type'] = 'display_data';\n",
              "          await google.colab.output.renderOutput(dataTable, element);\n",
              "          const docLink = document.createElement('div');\n",
              "          docLink.innerHTML = docLinkHtml;\n",
              "          element.appendChild(docLink);\n",
              "        }\n",
              "      </script>\n",
              "    </div>\n",
              "  </div>\n"
            ],
            "text/plain": [
              "                                               tweet sentiment  \\\n",
              "0                            i didnt feel humiliated   sadness   \n",
              "1  i can go from feeling so hopeless to so damned...   sadness   \n",
              "2   im grabbing a minute to post i feel greedy wrong     anger   \n",
              "3  i am ever feeling nostalgic about the fireplac...      love   \n",
              "4                               i am feeling grouchy     anger   \n",
              "\n",
              "                                processed  \n",
              "0                      not feel humiliate  \n",
              "1   feel hopeless damn hopeful care awake  \n",
              "2    m grab minute post feel greedy wrong  \n",
              "3  feel nostalgic fireplace know property  \n",
              "4                            feel grouchy  "
            ]
          },
          "execution_count": 56,
          "metadata": {},
          "output_type": "execute_result"
        }
      ],
      "source": [
        "texts_train = df_train['tweet']\n",
        "texts_test = df_test['tweet']\n",
        "\n",
        "df_train.head()"
      ]
    },
    {
      "cell_type": "markdown",
      "metadata": {
        "id": "7kkLPzGPw9xr"
      },
      "source": [
        "- Importing Transformers"
      ]
    },
    {
      "cell_type": "markdown",
      "metadata": {
        "id": "Ioc_Jw_lw9xr"
      },
      "source": [
        "Fast Encode Function Retrieved From the internet."
      ]
    },
    {
      "cell_type": "code",
      "execution_count": null,
      "metadata": {
        "id": "MBt8deQww9xr"
      },
      "outputs": [],
      "source": [
        "from tqdm import tqdm\n",
        "\n",
        "def fast_encode(texts, tokenizer, chunk_size=256, maxlen=512):\n",
        "    \"\"\"\n",
        "    Encoder for encoding the text into sequence of integers for BERT Input\n",
        "    \"\"\"\n",
        "    tokenizer.enable_truncation(max_length=maxlen)\n",
        "    tokenizer.enable_padding(length=maxlen)\n",
        "    all_ids = []\n",
        "\n",
        "    for i in tqdm(range(0, len(texts), chunk_size)):\n",
        "        text_chunk = texts[i:i+chunk_size].tolist()\n",
        "        encs = tokenizer.encode_batch(text_chunk)\n",
        "        all_ids.extend([enc.ids for enc in encs])\n",
        "\n",
        "    return np.array(all_ids)"
      ]
    },
    {
      "cell_type": "code",
      "execution_count": null,
      "metadata": {
        "colab": {
          "base_uri": "https://localhost:8080/"
        },
        "id": "oBNNOj540_4q",
        "outputId": "b84bea64-269b-42b0-c2d1-809e220bf197"
      },
      "outputs": [
        {
          "name": "stdout",
          "output_type": "stream",
          "text": [
            "Collecting transformers\n",
            "  Downloading transformers-4.31.0-py3-none-any.whl (7.4 MB)\n",
            "\u001b[2K     \u001b[90m━━━━━━━━━━━━━━━━━━━━━━━━━━━━━━━━━━━━━━━━\u001b[0m \u001b[32m7.4/7.4 MB\u001b[0m \u001b[31m20.2 MB/s\u001b[0m eta \u001b[36m0:00:00\u001b[0m\n",
            "\u001b[?25hRequirement already satisfied: filelock in /usr/local/lib/python3.10/dist-packages (from transformers) (3.12.2)\n",
            "Collecting huggingface-hub<1.0,>=0.14.1 (from transformers)\n",
            "  Downloading huggingface_hub-0.16.4-py3-none-any.whl (268 kB)\n",
            "\u001b[2K     \u001b[90m━━━━━━━━━━━━━━━━━━━━━━━━━━━━━━━━━━━━━━\u001b[0m \u001b[32m268.8/268.8 kB\u001b[0m \u001b[31m24.2 MB/s\u001b[0m eta \u001b[36m0:00:00\u001b[0m\n",
            "\u001b[?25hRequirement already satisfied: numpy>=1.17 in /usr/local/lib/python3.10/dist-packages (from transformers) (1.22.4)\n",
            "Requirement already satisfied: packaging>=20.0 in /usr/local/lib/python3.10/dist-packages (from transformers) (23.1)\n",
            "Requirement already satisfied: pyyaml>=5.1 in /usr/local/lib/python3.10/dist-packages (from transformers) (6.0)\n",
            "Requirement already satisfied: regex!=2019.12.17 in /usr/local/lib/python3.10/dist-packages (from transformers) (2022.10.31)\n",
            "Requirement already satisfied: requests in /usr/local/lib/python3.10/dist-packages (from transformers) (2.27.1)\n",
            "Collecting tokenizers!=0.11.3,<0.14,>=0.11.1 (from transformers)\n",
            "  Downloading tokenizers-0.13.3-cp310-cp310-manylinux_2_17_x86_64.manylinux2014_x86_64.whl (7.8 MB)\n",
            "\u001b[2K     \u001b[90m━━━━━━━━━━━━━━━━━━━━━━━━━━━━━━━━━━━━━━━━\u001b[0m \u001b[32m7.8/7.8 MB\u001b[0m \u001b[31m76.5 MB/s\u001b[0m eta \u001b[36m0:00:00\u001b[0m\n",
            "\u001b[?25hCollecting safetensors>=0.3.1 (from transformers)\n",
            "  Downloading safetensors-0.3.1-cp310-cp310-manylinux_2_17_x86_64.manylinux2014_x86_64.whl (1.3 MB)\n",
            "\u001b[2K     \u001b[90m━━━━━━━━━━━━━━━━━━━━━━━━━━━━━━━━━━━━━━━━\u001b[0m \u001b[32m1.3/1.3 MB\u001b[0m \u001b[31m76.6 MB/s\u001b[0m eta \u001b[36m0:00:00\u001b[0m\n",
            "\u001b[?25hRequirement already satisfied: tqdm>=4.27 in /usr/local/lib/python3.10/dist-packages (from transformers) (4.65.0)\n",
            "Requirement already satisfied: fsspec in /usr/local/lib/python3.10/dist-packages (from huggingface-hub<1.0,>=0.14.1->transformers) (2023.6.0)\n",
            "Requirement already satisfied: typing-extensions>=3.7.4.3 in /usr/local/lib/python3.10/dist-packages (from huggingface-hub<1.0,>=0.14.1->transformers) (4.7.1)\n",
            "Requirement already satisfied: urllib3<1.27,>=1.21.1 in /usr/local/lib/python3.10/dist-packages (from requests->transformers) (1.26.16)\n",
            "Requirement already satisfied: certifi>=2017.4.17 in /usr/local/lib/python3.10/dist-packages (from requests->transformers) (2023.5.7)\n",
            "Requirement already satisfied: charset-normalizer~=2.0.0 in /usr/local/lib/python3.10/dist-packages (from requests->transformers) (2.0.12)\n",
            "Requirement already satisfied: idna<4,>=2.5 in /usr/local/lib/python3.10/dist-packages (from requests->transformers) (3.4)\n",
            "Installing collected packages: tokenizers, safetensors, huggingface-hub, transformers\n",
            "Successfully installed huggingface-hub-0.16.4 safetensors-0.3.1 tokenizers-0.13.3 transformers-4.31.0\n"
          ]
        }
      ],
      "source": [
        "!pip install transformers"
      ]
    },
    {
      "cell_type": "code",
      "execution_count": null,
      "metadata": {
        "colab": {
          "base_uri": "https://localhost:8080/",
          "height": 148,
          "referenced_widgets": [
            "694330cda08b453c8ed46d22c463b93c",
            "5337a253cb86488ebe32eb598556413f",
            "dd19cd086a9647a9b5e11c737dae9778",
            "0869185102034822b086f01a7f82c698",
            "9e5b62996fef4c9f858d3137f1f7ddcd",
            "80a1d649f235493092c4222b0483d38b",
            "00f8fee3a784465980e6874ce6c184a6",
            "1cb25ddeb15142d7b15476897f30783f",
            "bd98daaf6f934b23abff82c2fecb3fc1",
            "36fc5ac7e3ee4acaac95266078d0201e",
            "c625e94451a84cdcaa7f17e3346dc0a2",
            "8958269a6e984badad837614e2bc9f12",
            "4868bab11dd14a8abac93b647e723435",
            "af72e62cebb7458e897fd2e76595012b",
            "f13bc3c2724b4b8d8d1ff5c82308f002",
            "b764ed364d9444c89ac118389c8c8e48",
            "92b6625bc97a4d6aa57a8bcb4e85bf70",
            "c443289e3af94bc191d0abf32a2b1147",
            "a5e829830d014b32b6fe08f3b1da0477",
            "42343b32671b4f1193656b01b7efa816",
            "ed24da5ac71c4999a3609e32b809314e",
            "20c1cdce5b4e497a879e1d19880afe6e",
            "3cb2ac723c354105a1326ed751c16dc3",
            "488651f1c2c94891958f936842db07fa",
            "8d33b4b1932f4f64a82c7390e3aeb696",
            "43c9ecffb2264a62a5c56a5670b345b0",
            "ab5c57f5bde2430399ab49a7d7eb4a15",
            "cca7527080ff4144ad92f3b7a9396f83",
            "753ee821bd0844c5abc11575df9ef275",
            "ed4d36090a9a4d6ea01d912edad8dcc8",
            "8393277a5a384980a72222ea03700758",
            "d2d83f468bd24cd68cc38e095f75e04f",
            "59b46d93eeec4d32a70d3432b9a10165"
          ]
        },
        "id": "VTuB7IxFw9xr",
        "outputId": "13dd8157-70ac-401d-cba7-5a2742da7b5c"
      },
      "outputs": [
        {
          "data": {
            "application/vnd.jupyter.widget-view+json": {
              "model_id": "694330cda08b453c8ed46d22c463b93c",
              "version_major": 2,
              "version_minor": 0
            },
            "text/plain": [
              "Downloading (…)solve/main/vocab.txt:   0%|          | 0.00/996k [00:00<?, ?B/s]"
            ]
          },
          "metadata": {},
          "output_type": "display_data"
        },
        {
          "data": {
            "application/vnd.jupyter.widget-view+json": {
              "model_id": "8958269a6e984badad837614e2bc9f12",
              "version_major": 2,
              "version_minor": 0
            },
            "text/plain": [
              "Downloading (…)okenizer_config.json:   0%|          | 0.00/29.0 [00:00<?, ?B/s]"
            ]
          },
          "metadata": {},
          "output_type": "display_data"
        },
        {
          "data": {
            "application/vnd.jupyter.widget-view+json": {
              "model_id": "3cb2ac723c354105a1326ed751c16dc3",
              "version_major": 2,
              "version_minor": 0
            },
            "text/plain": [
              "Downloading (…)lve/main/config.json:   0%|          | 0.00/466 [00:00<?, ?B/s]"
            ]
          },
          "metadata": {},
          "output_type": "display_data"
        },
        {
          "data": {
            "text/plain": [
              "Tokenizer(vocabulary_size=119547, model=BertWordPiece, unk_token=[UNK], sep_token=[SEP], cls_token=[CLS], pad_token=[PAD], mask_token=[MASK], clean_text=True, handle_chinese_chars=True, strip_accents=None, lowercase=False, wordpieces_prefix=##)"
            ]
          },
          "execution_count": 59,
          "metadata": {},
          "output_type": "execute_result"
        }
      ],
      "source": [
        "import transformers\n",
        "from tokenizers import BertWordPieceTokenizer\n",
        "\n",
        "#Loading bert tokenizer\n",
        "bert_tokenizer = transformers.DistilBertTokenizer.from_pretrained('distilbert-base-multilingual-cased')\n",
        "\n",
        "#Saving it on our local folder\n",
        "bert_tokenizer.save_pretrained('.')\n",
        "\n",
        "\n",
        "#Loading a fast tokenizer\n",
        "fast_tokenizer = BertWordPieceTokenizer('vocab.txt', lowercase=False)\n",
        "fast_tokenizer"
      ]
    },
    {
      "cell_type": "markdown",
      "metadata": {
        "id": "Is2Vn53ew9xs"
      },
      "source": [
        "Creation of validation set"
      ]
    },
    {
      "cell_type": "code",
      "execution_count": null,
      "metadata": {
        "id": "KNV7RZutw9xs"
      },
      "outputs": [],
      "source": [
        "bert_X_train, bert_X_valid, bert_Y_train, bert_Y_valid = train_test_split(df_train['tweet'].values, df_train['sentiment'].values,test_size=0.2,random_state=42,stratify=df_train['sentiment'])"
      ]
    },
    {
      "cell_type": "markdown",
      "metadata": {
        "id": "Fa6mnk6jw9xs"
      },
      "source": [
        "Encoding raw test for training validation and test."
      ]
    },
    {
      "cell_type": "code",
      "execution_count": null,
      "metadata": {
        "colab": {
          "base_uri": "https://localhost:8080/"
        },
        "id": "yvgpDXD4w9xs",
        "outputId": "5bfcad80-15f0-4646-f6fd-6f71f039123f"
      },
      "outputs": [
        {
          "name": "stderr",
          "output_type": "stream",
          "text": [
            "100%|██████████| 50/50 [00:02<00:00, 21.83it/s]\n",
            "100%|██████████| 13/13 [00:00<00:00, 18.28it/s]\n",
            "100%|██████████| 8/8 [00:00<00:00, 17.79it/s]\n"
          ]
        }
      ],
      "source": [
        "X_train = fast_encode(bert_X_train, fast_tokenizer, maxlen=max_length)\n",
        "X_valid = fast_encode(bert_X_valid, fast_tokenizer, maxlen=max_length)\n",
        "X_test = fast_encode(df_test['tweet'].to_numpy(), fast_tokenizer, maxlen=max_length)"
      ]
    },
    {
      "cell_type": "code",
      "execution_count": null,
      "metadata": {
        "colab": {
          "base_uri": "https://localhost:8080/"
        },
        "id": "5UchjnhWw9xs",
        "outputId": "2880911c-2a1a-47f3-dd13-de105e915e67"
      },
      "outputs": [
        {
          "data": {
            "text/plain": [
              "(12800, 100)"
            ]
          },
          "execution_count": 62,
          "metadata": {},
          "output_type": "execute_result"
        }
      ],
      "source": [
        "X_train.shape"
      ]
    },
    {
      "cell_type": "markdown",
      "metadata": {
        "id": "HPsiMJpTw9xs"
      },
      "source": [
        "Encoding the labels."
      ]
    },
    {
      "cell_type": "code",
      "execution_count": null,
      "metadata": {
        "id": "rBAPwyW0w9xs"
      },
      "outputs": [],
      "source": [
        "le = LabelEncoder()\n",
        "y_train = le.fit_transform(bert_Y_train)\n",
        "y_valid = le.transform(bert_Y_valid)\n",
        "y_test = le.transform(df_test['sentiment'])\n",
        "y_train_encoded = to_categorical(y_train)\n",
        "y_valid_encoded = to_categorical(y_valid)\n",
        "y_test_encoded = to_categorical(y_test)\n",
        "\n",
        "\n",
        "\n",
        "BATCH_SIZE = 16\n",
        "\n",
        "train_dataset = (\n",
        "    tf.data.Dataset\n",
        "    .from_tensor_slices((X_train, y_train_encoded))\n",
        "    .repeat()\n",
        "    .shuffle(2048)\n",
        "    .batch(BATCH_SIZE)\n",
        "\n",
        ")\n",
        "\n",
        "valid_dataset = (\n",
        "    tf.data.Dataset\n",
        "    .from_tensor_slices((X_valid, y_valid_encoded))\n",
        "    .batch(BATCH_SIZE)\n",
        "    .cache()\n",
        "\n",
        ")\n",
        "\n",
        "test_dataset = (\n",
        "    tf.data.Dataset\n",
        "    .from_tensor_slices((X_test,y_test_encoded))\n",
        "    .batch(BATCH_SIZE)\n",
        ")"
      ]
    },
    {
      "cell_type": "markdown",
      "metadata": {
        "id": "Mf83XyI0w9xs"
      },
      "source": [
        "Creating TensorFlow Datasets with our data."
      ]
    },
    {
      "cell_type": "code",
      "execution_count": null,
      "metadata": {
        "id": "6tx3IteYw9xs"
      },
      "outputs": [],
      "source": [
        "BATCH_SIZE = 16\n",
        "\n",
        "train_dataset = (\n",
        "    tf.data.Dataset\n",
        "    .from_tensor_slices((X_train, y_train_encoded))\n",
        "    .repeat()\n",
        "    .shuffle(2048)\n",
        "    .batch(BATCH_SIZE)\n",
        "\n",
        ")\n",
        "\n",
        "valid_dataset = (\n",
        "    tf.data.Dataset\n",
        "    .from_tensor_slices((X_valid, y_valid_encoded))\n",
        "    .batch(BATCH_SIZE)\n",
        "    .cache()\n",
        "\n",
        ")\n",
        "\n",
        "test_dataset = (\n",
        "    tf.data.Dataset\n",
        "    .from_tensor_slices((X_test,y_test_encoded))\n",
        "    .batch(BATCH_SIZE)\n",
        ")"
      ]
    },
    {
      "cell_type": "markdown",
      "metadata": {
        "id": "WE_iRtnIw9xt"
      },
      "source": [
        "Building the model."
      ]
    },
    {
      "cell_type": "code",
      "execution_count": null,
      "metadata": {
        "id": "J0lLpLLKw9xt"
      },
      "outputs": [],
      "source": [
        "from tensorflow.keras.optimizers.experimental import Adam\n",
        "\n",
        "def build_model(transformer, max_len=512):\n",
        "    \"\"\"\n",
        "    function for training the BERT model\n",
        "    \"\"\"\n",
        "    input_word_ids = tf.keras.layers.Input(shape=(max_len,), dtype=tf.int32, name=\"input_word_ids\")\n",
        "    sequence_output = transformer(input_word_ids)[0]\n",
        "    cls_token = sequence_output[:, 0, :]\n",
        "    out = Dense(6, activation='softmax')(cls_token)\n",
        "\n",
        "    model = tf.keras.Model(inputs=input_word_ids, outputs=out)\n",
        "    model.compile(Adam(learning_rate=1e-5), loss='categorical_crossentropy', metrics=['accuracy', Precision(), Recall(), AUC()])\n",
        "\n",
        "    return model"
      ]
    },
    {
      "cell_type": "code",
      "execution_count": null,
      "metadata": {
        "colab": {
          "base_uri": "https://localhost:8080/"
        },
        "id": "js20JCrxw9xt",
        "outputId": "1d5ec961-8474-4b6f-ecfc-e775f0c56a2e"
      },
      "outputs": [
        {
          "name": "stderr",
          "output_type": "stream",
          "text": [
            "Some weights of the PyTorch model were not used when initializing the TF 2.0 model TFDistilBertModel: ['vocab_layer_norm.bias', 'vocab_layer_norm.weight', 'vocab_transform.bias', 'vocab_transform.weight', 'vocab_projector.bias']\n",
            "- This IS expected if you are initializing TFDistilBertModel from a PyTorch model trained on another task or with another architecture (e.g. initializing a TFBertForSequenceClassification model from a BertForPreTraining model).\n",
            "- This IS NOT expected if you are initializing TFDistilBertModel from a PyTorch model that you expect to be exactly identical (e.g. initializing a TFBertForSequenceClassification model from a BertForSequenceClassification model).\n",
            "All the weights of TFDistilBertModel were initialized from the PyTorch model.\n",
            "If your task is similar to the task the model of the checkpoint was trained on, you can already use TFDistilBertModel for predictions without further training.\n"
          ]
        }
      ],
      "source": [
        "transformer_layer = (\n",
        "    transformers.TFDistilBertModel.from_pretrained('distilbert-base-multilingual-cased')\n",
        ")\n",
        "\n",
        "\n",
        "bert_model = build_model(transformer_layer, max_len=max_length)\n"
      ]
    },
    {
      "cell_type": "code",
      "execution_count": null,
      "metadata": {
        "colab": {
          "base_uri": "https://localhost:8080/"
        },
        "id": "sN31mI43w9xt",
        "outputId": "889b54fa-7f20-4d5f-c520-794efd9ef756"
      },
      "outputs": [
        {
          "name": "stdout",
          "output_type": "stream",
          "text": [
            "Model: \"model_1\"\n",
            "_________________________________________________________________\n",
            " Layer (type)                Output Shape              Param #   \n",
            "=================================================================\n",
            " input_word_ids (InputLayer)  [(None, 100)]            0         \n",
            "                                                                 \n",
            " tf_distil_bert_model_1 (TFD  TFBaseModelOutput(last_h  134734080\n",
            " istilBertModel)             idden_state=(None, 100,             \n",
            "                             768),                               \n",
            "                              hidden_states=None, att            \n",
            "                             entions=None)                       \n",
            "                                                                 \n",
            " tf.__operators__.getitem_1   (None, 768)              0         \n",
            " (SlicingOpLambda)                                               \n",
            "                                                                 \n",
            " dense_13 (Dense)            (None, 6)                 4614      \n",
            "                                                                 \n",
            "=================================================================\n",
            "Total params: 134,738,694\n",
            "Trainable params: 134,738,694\n",
            "Non-trainable params: 0\n",
            "_________________________________________________________________\n"
          ]
        }
      ],
      "source": [
        "bert_model.summary()"
      ]
    },
    {
      "cell_type": "markdown",
      "metadata": {
        "id": "83hKNZqhw9xt"
      },
      "source": [
        "Freezing all other layers"
      ]
    },
    {
      "cell_type": "code",
      "execution_count": null,
      "metadata": {
        "id": "pYqfjqrHw9xt"
      },
      "outputs": [],
      "source": [
        "bert_model.layers[0].trainable = False\n",
        "bert_model.layers[1].trainable = False\n",
        "bert_model.layers[2].trainable = False"
      ]
    },
    {
      "cell_type": "markdown",
      "metadata": {
        "id": "2pkrGbU75Sn2"
      },
      "source": [
        "Now that we have frozen the layers, we can see that the trainable params (thankfully) have reduced significantly."
      ]
    },
    {
      "cell_type": "code",
      "execution_count": null,
      "metadata": {
        "colab": {
          "base_uri": "https://localhost:8080/"
        },
        "id": "1PuHL8T0w9xt",
        "outputId": "b7bbb387-afe3-4d02-9662-04b6ee71b52d"
      },
      "outputs": [
        {
          "name": "stdout",
          "output_type": "stream",
          "text": [
            "Model: \"model_1\"\n",
            "_________________________________________________________________\n",
            " Layer (type)                Output Shape              Param #   \n",
            "=================================================================\n",
            " input_word_ids (InputLayer)  [(None, 100)]            0         \n",
            "                                                                 \n",
            " tf_distil_bert_model_1 (TFD  TFBaseModelOutput(last_h  134734080\n",
            " istilBertModel)             idden_state=(None, 100,             \n",
            "                             768),                               \n",
            "                              hidden_states=None, att            \n",
            "                             entions=None)                       \n",
            "                                                                 \n",
            " tf.__operators__.getitem_1   (None, 768)              0         \n",
            " (SlicingOpLambda)                                               \n",
            "                                                                 \n",
            " dense_13 (Dense)            (None, 6)                 4614      \n",
            "                                                                 \n",
            "=================================================================\n",
            "Total params: 134,738,694\n",
            "Trainable params: 4,614\n",
            "Non-trainable params: 134,734,080\n",
            "_________________________________________________________________\n"
          ]
        }
      ],
      "source": [
        "bert_model.summary()"
      ]
    },
    {
      "cell_type": "markdown",
      "metadata": {
        "id": "MFimjXsL51DI"
      },
      "source": [
        "Now we can train the data."
      ]
    },
    {
      "cell_type": "code",
      "execution_count": null,
      "metadata": {
        "colab": {
          "base_uri": "https://localhost:8080/"
        },
        "id": "91sXh61kw9xt",
        "outputId": "9fbee141-0aef-4995-8c3e-c37d14b4d857"
      },
      "outputs": [
        {
          "name": "stdout",
          "output_type": "stream",
          "text": [
            "Epoch 1/3\n",
            "800/800 [==============================] - 215s 236ms/step - loss: 0.9586 - accuracy: 0.6375 - precision_2: 0.8114 - recall_2: 0.4913 - auc_2: 0.9060 - val_loss: 0.3435 - val_accuracy: 0.8803 - val_precision_2: 0.8971 - val_recall_2: 0.8662 - val_auc_2: 0.9856\n",
            "Epoch 2/3\n",
            "800/800 [==============================] - 161s 201ms/step - loss: 0.2651 - accuracy: 0.9032 - precision_2: 0.9162 - recall_2: 0.8921 - auc_2: 0.9917 - val_loss: 0.2081 - val_accuracy: 0.9134 - val_precision_2: 0.9216 - val_recall_2: 0.9075 - val_auc_2: 0.9938\n",
            "Epoch 3/3\n",
            "800/800 [==============================] - 157s 196ms/step - loss: 0.1683 - accuracy: 0.9298 - precision_2: 0.9375 - recall_2: 0.9241 - auc_2: 0.9965 - val_loss: 0.2057 - val_accuracy: 0.9153 - val_precision_2: 0.9197 - val_recall_2: 0.9122 - val_auc_2: 0.9941\n"
          ]
        }
      ],
      "source": [
        "n_steps = X_train.shape[0] // BATCH_SIZE\n",
        "train_history = bert_model.fit(\n",
        "    train_dataset,\n",
        "    steps_per_epoch=n_steps,\n",
        "    validation_data=valid_dataset,\n",
        "    epochs=3\n",
        ")"
      ]
    },
    {
      "cell_type": "markdown",
      "metadata": {
        "id": "i-XEgWQF59uz"
      },
      "source": [
        "Plotting losses."
      ]
    },
    {
      "cell_type": "code",
      "execution_count": null,
      "metadata": {
        "colab": {
          "base_uri": "https://localhost:8080/",
          "height": 430
        },
        "id": "4JM8P3Eu4Ct8",
        "outputId": "b10ced50-7a35-41ef-e1a3-9a88ef2a8adf"
      },
      "outputs": [
        {
          "data": {
            "image/png": "[encoded data removed]",
            "text/plain": [
              "<Figure size 640x480 with 1 Axes>"
            ]
          },
          "metadata": {},
          "output_type": "display_data"
        }
      ],
      "source": [
        "loss, val_loss = train_history.history['loss'], train_history.history['val_loss']\n",
        "plt.plot(loss, label='loss')\n",
        "plt.plot(val_loss, label='val_loss')\n",
        "plt.legend()\n",
        "plt.show()"
      ]
    },
    {
      "cell_type": "markdown",
      "metadata": {
        "id": "q19__xs36CGl"
      },
      "source": [
        "Validation on the Test Set."
      ]
    },
    {
      "cell_type": "code",
      "execution_count": null,
      "metadata": {
        "colab": {
          "base_uri": "https://localhost:8080/"
        },
        "id": "Al3uVdt934DQ",
        "outputId": "56e309ef-35ce-4f8f-ad68-46b46185c250"
      },
      "outputs": [
        {
          "name": "stdout",
          "output_type": "stream",
          "text": [
            "63/63 [==============================] - 7s 110ms/step\n",
            "              precision    recall  f1-score   support\n",
            "\n",
            "           0       0.89      0.94      0.91       275\n",
            "           1       0.85      0.92      0.88       224\n",
            "           2       0.92      0.95      0.94       695\n",
            "           3       0.87      0.71      0.78       159\n",
            "           4       0.96      0.94      0.95       581\n",
            "           5       0.81      0.70      0.75        66\n",
            "\n",
            "    accuracy                           0.92      2000\n",
            "   macro avg       0.89      0.86      0.87      2000\n",
            "weighted avg       0.92      0.92      0.91      2000\n",
            "\n",
            "[[258   4   3   1   9   0]\n",
            " [ 10 205   0   0   6   3]\n",
            " [  3   5 662  14   4   7]\n",
            " [  1   0  45 113   0   0]\n",
            " [ 17   7   7   2 547   1]\n",
            " [  0  19   0   0   1  46]]\n",
            "0.9155\n"
          ]
        }
      ],
      "source": [
        "predictions = bert_model.predict(X_test)\n",
        "prediction_labels = predictions.argmax(axis=1)\n",
        "print(classification_report(y_test, prediction_labels))\n",
        "print(confusion_matrix(y_test, prediction_labels))\n",
        "print(accuracy_score(y_test, prediction_labels))"
      ]
    },
    {
      "cell_type": "markdown",
      "metadata": {
        "id": "jbuQC0RMw9xt"
      },
      "source": [
        "# PART 4: Comparison with Real Life Data"
      ]
    },
    {
      "cell_type": "markdown",
      "metadata": {
        "id": "uvYhN5h1w9xt"
      },
      "source": [
        "## First Model: Fully connected NNN"
      ]
    },
    {
      "cell_type": "markdown",
      "metadata": {
        "id": "yZpc7S0uw9xu"
      },
      "source": [
        "Load the real case data"
      ]
    },
    {
      "cell_type": "code",
      "execution_count": null,
      "metadata": {
        "id": "5kRPTdCSw9xu"
      },
      "outputs": [],
      "source": [
        "df_r_train = pd.read_csv('./train.csv')\n",
        "df_r_test = pd.read_csv('./test.csv')"
      ]
    },
    {
      "cell_type": "code",
      "execution_count": null,
      "metadata": {
        "colab": {
          "base_uri": "https://localhost:8080/",
          "height": 206
        },
        "id": "qy_v5aDd71cu",
        "outputId": "1a2e73a1-2468-4c7d-a975-3e68999ab0dd"
      },
      "outputs": [
        {
          "data": {
            "text/html": [
              "\n",
              "\n",
              "  <div id=\"df-05d723aa-de3f-4db1-9d18-5b01596ada6f\">\n",
              "    <div class=\"colab-df-container\">\n",
              "      <div>\n",
              "<style scoped>\n",
              "    .dataframe tbody tr th:only-of-type {\n",
              "        vertical-align: middle;\n",
              "    }\n",
              "\n",
              "    .dataframe tbody tr th {\n",
              "        vertical-align: top;\n",
              "    }\n",
              "\n",
              "    .dataframe thead th {\n",
              "        text-align: right;\n",
              "    }\n",
              "</style>\n",
              "<table border=\"1\" class=\"dataframe\">\n",
              "  <thead>\n",
              "    <tr style=\"text-align: right;\">\n",
              "      <th></th>\n",
              "      <th>Unnamed: 0</th>\n",
              "      <th>article_title</th>\n",
              "      <th>is_ecology</th>\n",
              "      <th>processed</th>\n",
              "    </tr>\n",
              "  </thead>\n",
              "  <tbody>\n",
              "    <tr>\n",
              "      <th>0</th>\n",
              "      <td>1079</td>\n",
              "      <td>Stations essence à Rochefort-en-Terre : les me...</td>\n",
              "      <td>0</td>\n",
              "      <td>station essence à rochefort - en - terre : les...</td>\n",
              "    </tr>\n",
              "    <tr>\n",
              "      <th>1</th>\n",
              "      <td>1515</td>\n",
              "      <td>À Brest, le chantier de La Boussole se fait at...</td>\n",
              "      <td>0</td>\n",
              "      <td>à brest , le chantier de la boussole se fait a...</td>\n",
              "    </tr>\n",
              "    <tr>\n",
              "      <th>2</th>\n",
              "      <td>51</td>\n",
              "      <td>Météorite en Normandie : à la recherche de pré...</td>\n",
              "      <td>0</td>\n",
              "      <td>météorite en normandie : à la recherche de pré...</td>\n",
              "    </tr>\n",
              "    <tr>\n",
              "      <th>3</th>\n",
              "      <td>1419</td>\n",
              "      <td>Résultats trimestriels mitigés pour les géants...</td>\n",
              "      <td>0</td>\n",
              "      <td>résultats trimestriels mitigés pour les géants...</td>\n",
              "    </tr>\n",
              "    <tr>\n",
              "      <th>4</th>\n",
              "      <td>2181</td>\n",
              "      <td>Opinion | Sobriété énergétique : les solutions...</td>\n",
              "      <td>1</td>\n",
              "      <td>opinion | sobriété énergétique : les solution ...</td>\n",
              "    </tr>\n",
              "  </tbody>\n",
              "</table>\n",
              "</div>\n",
              "      <button class=\"colab-df-convert\" onclick=\"convertToInteractive('df-05d723aa-de3f-4db1-9d18-5b01596ada6f')\"\n",
              "              title=\"Convert this dataframe to an interactive table.\"\n",
              "              style=\"display:none;\">\n",
              "\n",
              "  <svg xmlns=\"http://www.w3.org/2000/svg\" height=\"24px\"viewBox=\"0 0 24 24\"\n",
              "       width=\"24px\">\n",
              "    <path d=\"M0 0h24v24H0V0z\" fill=\"none\"/>\n",
              "    <path d=\"M18.56 5.44l.94 2.06.94-2.06 2.06-.94-2.06-.94-.94-2.06-.94 2.06-2.06.94zm-11 1L8.5 8.5l.94-2.06 2.06-.94-2.06-.94L8.5 2.5l-.94 2.06-2.06.94zm10 10l.94 2.06.94-2.06 2.06-.94-2.06-.94-.94-2.06-.94 2.06-2.06.94z\"/><path d=\"M17.41 7.96l-1.37-1.37c-.4-.4-.92-.59-1.43-.59-.52 0-1.04.2-1.43.59L10.3 9.45l-7.72 7.72c-.78.78-.78 2.05 0 2.83L4 21.41c.39.39.9.59 1.41.59.51 0 1.02-.2 1.41-.59l7.78-7.78 2.81-2.81c.8-.78.8-2.07 0-2.86zM5.41 20L4 18.59l7.72-7.72 1.47 1.35L5.41 20z\"/>\n",
              "  </svg>\n",
              "      </button>\n",
              "\n",
              "\n",
              "\n",
              "    <div id=\"df-2299ae16-62c0-4d88-93fa-a7a3601846ac\">\n",
              "      <button class=\"colab-df-quickchart\" onclick=\"quickchart('df-2299ae16-62c0-4d88-93fa-a7a3601846ac')\"\n",
              "              title=\"Suggest charts.\"\n",
              "              style=\"display:none;\">\n",
              "\n",
              "<svg xmlns=\"http://www.w3.org/2000/svg\" height=\"24px\"viewBox=\"0 0 24 24\"\n",
              "     width=\"24px\">\n",
              "    <g>\n",
              "        <path d=\"M19 3H5c-1.1 0-2 .9-2 2v14c0 1.1.9 2 2 2h14c1.1 0 2-.9 2-2V5c0-1.1-.9-2-2-2zM9 17H7v-7h2v7zm4 0h-2V7h2v10zm4 0h-2v-4h2v4z\"/>\n",
              "    </g>\n",
              "</svg>\n",
              "      </button>\n",
              "    </div>\n",
              "\n",
              "<style>\n",
              "  .colab-df-quickchart {\n",
              "    background-color: #E8F0FE;\n",
              "    border: none;\n",
              "    border-radius: 50%;\n",
              "    cursor: pointer;\n",
              "    display: none;\n",
              "    fill: #1967D2;\n",
              "    height: 32px;\n",
              "    padding: 0 0 0 0;\n",
              "    width: 32px;\n",
              "  }\n",
              "\n",
              "  .colab-df-quickchart:hover {\n",
              "    background-color: #E2EBFA;\n",
              "    box-shadow: 0px 1px 2px rgba(60, 64, 67, 0.3), 0px 1px 3px 1px rgba(60, 64, 67, 0.15);\n",
              "    fill: #174EA6;\n",
              "  }\n",
              "\n",
              "  [theme=dark] .colab-df-quickchart {\n",
              "    background-color: #3B4455;\n",
              "    fill: #D2E3FC;\n",
              "  }\n",
              "\n",
              "  [theme=dark] .colab-df-quickchart:hover {\n",
              "    background-color: #434B5C;\n",
              "    box-shadow: 0px 1px 3px 1px rgba(0, 0, 0, 0.15);\n",
              "    filter: drop-shadow(0px 1px 2px rgba(0, 0, 0, 0.3));\n",
              "    fill: #FFFFFF;\n",
              "  }\n",
              "</style>\n",
              "\n",
              "    <script>\n",
              "      async function quickchart(key) {\n",
              "        const containerElement = document.querySelector('#' + key);\n",
              "        const charts = await google.colab.kernel.invokeFunction(\n",
              "            'suggestCharts', [key], {});\n",
              "      }\n",
              "    </script>\n",
              "\n",
              "      <script>\n",
              "\n",
              "function displayQuickchartButton(domScope) {\n",
              "  let quickchartButtonEl =\n",
              "    domScope.querySelector('#df-2299ae16-62c0-4d88-93fa-a7a3601846ac button.colab-df-quickchart');\n",
              "  quickchartButtonEl.style.display =\n",
              "    google.colab.kernel.accessAllowed ? 'block' : 'none';\n",
              "}\n",
              "\n",
              "        displayQuickchartButton(document);\n",
              "      </script>\n",
              "      <style>\n",
              "    .colab-df-container {\n",
              "      display:flex;\n",
              "      flex-wrap:wrap;\n",
              "      gap: 12px;\n",
              "    }\n",
              "\n",
              "    .colab-df-convert {\n",
              "      background-color: #E8F0FE;\n",
              "      border: none;\n",
              "      border-radius: 50%;\n",
              "      cursor: pointer;\n",
              "      display: none;\n",
              "      fill: #1967D2;\n",
              "      height: 32px;\n",
              "      padding: 0 0 0 0;\n",
              "      width: 32px;\n",
              "    }\n",
              "\n",
              "    .colab-df-convert:hover {\n",
              "      background-color: #E2EBFA;\n",
              "      box-shadow: 0px 1px 2px rgba(60, 64, 67, 0.3), 0px 1px 3px 1px rgba(60, 64, 67, 0.15);\n",
              "      fill: #174EA6;\n",
              "    }\n",
              "\n",
              "    [theme=dark] .colab-df-convert {\n",
              "      background-color: #3B4455;\n",
              "      fill: #D2E3FC;\n",
              "    }\n",
              "\n",
              "    [theme=dark] .colab-df-convert:hover {\n",
              "      background-color: #434B5C;\n",
              "      box-shadow: 0px 1px 3px 1px rgba(0, 0, 0, 0.15);\n",
              "      filter: drop-shadow(0px 1px 2px rgba(0, 0, 0, 0.3));\n",
              "      fill: #FFFFFF;\n",
              "    }\n",
              "  </style>\n",
              "\n",
              "      <script>\n",
              "        const buttonEl =\n",
              "          document.querySelector('#df-05d723aa-de3f-4db1-9d18-5b01596ada6f button.colab-df-convert');\n",
              "        buttonEl.style.display =\n",
              "          google.colab.kernel.accessAllowed ? 'block' : 'none';\n",
              "\n",
              "        async function convertToInteractive(key) {\n",
              "          const element = document.querySelector('#df-05d723aa-de3f-4db1-9d18-5b01596ada6f');\n",
              "          const dataTable =\n",
              "            await google.colab.kernel.invokeFunction('convertToInteractive',\n",
              "                                                     [key], {});\n",
              "          if (!dataTable) return;\n",
              "\n",
              "          const docLinkHtml = 'Like what you see? Visit the ' +\n",
              "            '<a target=\"_blank\" href=https://colab.research.google.com/notebooks/data_table.ipynb>data table notebook</a>'\n",
              "            + ' to learn more about interactive tables.';\n",
              "          element.innerHTML = '';\n",
              "          dataTable['output_type'] = 'display_data';\n",
              "          await google.colab.output.renderOutput(dataTable, element);\n",
              "          const docLink = document.createElement('div');\n",
              "          docLink.innerHTML = docLinkHtml;\n",
              "          element.appendChild(docLink);\n",
              "        }\n",
              "      </script>\n",
              "    </div>\n",
              "  </div>\n"
            ],
            "text/plain": [
              "   Unnamed: 0                                      article_title  is_ecology  \\\n",
              "0        1079  Stations essence à Rochefort-en-Terre : les me...           0   \n",
              "1        1515  À Brest, le chantier de La Boussole se fait at...           0   \n",
              "2          51  Météorite en Normandie : à la recherche de pré...           0   \n",
              "3        1419  Résultats trimestriels mitigés pour les géants...           0   \n",
              "4        2181  Opinion | Sobriété énergétique : les solutions...           1   \n",
              "\n",
              "                                           processed  \n",
              "0  station essence à rochefort - en - terre : les...  \n",
              "1  à brest , le chantier de la boussole se fait a...  \n",
              "2  météorite en normandie : à la recherche de pré...  \n",
              "3  résultats trimestriels mitigés pour les géants...  \n",
              "4  opinion | sobriété énergétique : les solution ...  "
            ]
          },
          "execution_count": 94,
          "metadata": {},
          "output_type": "execute_result"
        }
      ],
      "source": [
        "df_r_train.head()"
      ]
    },
    {
      "cell_type": "markdown",
      "metadata": {
        "id": "g8Ib6XRCw9xu"
      },
      "source": [
        "Tokenize the data"
      ]
    },
    {
      "cell_type": "code",
      "execution_count": null,
      "metadata": {
        "id": "YwvjBNh3w9xu"
      },
      "outputs": [],
      "source": [
        "df_r_train['processed'] = df_r_train['article_title'].apply(preprocess_text)\n",
        "df_r_test['processed'] = df_r_test['article_title'].apply(preprocess_text)"
      ]
    },
    {
      "cell_type": "markdown",
      "metadata": {
        "id": "vSrNOHwTw9xu"
      },
      "source": [
        "TFIDF transformation"
      ]
    },
    {
      "cell_type": "code",
      "execution_count": null,
      "metadata": {
        "colab": {
          "base_uri": "https://localhost:8080/"
        },
        "id": "5-FKkU2Ww9xu",
        "outputId": "2654c6a8-ce4b-49a6-a117-03dd31d32566"
      },
      "outputs": [
        {
          "name": "stderr",
          "output_type": "stream",
          "text": [
            "[nltk_data] Downloading package stopwords to /root/nltk_data...\n",
            "[nltk_data]   Unzipping corpora/stopwords.zip.\n"
          ]
        }
      ],
      "source": [
        "import nltk\n",
        "\n",
        "nltk.download('stopwords')\n",
        "final_stopwords_list = stopwords.words('english') + stopwords.words('french')\n",
        "\n",
        "tfidf = TfidfVectorizer(max_df=0.95, min_df=2, stop_words=final_stopwords_list)\n",
        "\n",
        "dtm_r_train = tfidf.fit_transform(df_r_train['processed'])\n",
        "dtm_r_test = tfidf.transform(df_r_test['processed'])"
      ]
    },
    {
      "cell_type": "markdown",
      "metadata": {
        "id": "UD36B78Aw9xu"
      },
      "source": [
        "Setup the training and test data set"
      ]
    },
    {
      "cell_type": "code",
      "execution_count": null,
      "metadata": {
        "id": "RWbk3Yb1w9xu"
      },
      "outputs": [],
      "source": [
        "X_r_train = dtm_r_train.toarray()\n",
        "y_r_train = df_r_train['is_ecology']\n",
        "\n",
        "X_r_test = dtm_r_test.toarray()\n",
        "y_r_test = df_r_test['is_ecology']\n"
      ]
    },
    {
      "cell_type": "markdown",
      "metadata": {
        "id": "u8z79V-mw9xu"
      },
      "source": [
        "Split the train and validation data set"
      ]
    },
    {
      "cell_type": "code",
      "execution_count": null,
      "metadata": {
        "colab": {
          "base_uri": "https://localhost:8080/"
        },
        "id": "yO1gFCdHAl1T",
        "outputId": "3887524a-0806-4bb8-cdb1-a6c329ebbf08"
      },
      "outputs": [
        {
          "data": {
            "text/plain": [
              "(1772, 2446)"
            ]
          },
          "execution_count": 117,
          "metadata": {},
          "output_type": "execute_result"
        }
      ],
      "source": [
        "X_r_train.shape"
      ]
    },
    {
      "cell_type": "code",
      "execution_count": null,
      "metadata": {
        "id": "4uonAINDw9xu"
      },
      "outputs": [],
      "source": [
        "\n",
        "X_r_train, X_r_val, y_r_train_encoded, y_r_val_encoded = train_test_split(X_r_train, y_r_train, test_size=0.2, random_state=42)"
      ]
    },
    {
      "cell_type": "markdown",
      "metadata": {
        "id": "h4LLCazhw9xv"
      },
      "source": [
        "Build the model with same architecture, but change the last output layer as we have two categories in this case"
      ]
    },
    {
      "cell_type": "code",
      "execution_count": null,
      "metadata": {
        "colab": {
          "base_uri": "https://localhost:8080/"
        },
        "id": "zs_6_NoGw9xv",
        "outputId": "8aa94e1b-7a3e-43b4-bf2a-19e3142f7441"
      },
      "outputs": [
        {
          "name": "stdout",
          "output_type": "stream",
          "text": [
            "Model: \"sequential_5\"\n",
            "_________________________________________________________________\n",
            " Layer (type)                Output Shape              Param #   \n",
            "=================================================================\n",
            " dense_26 (Dense)            (None, 2048)              5011456   \n",
            "                                                                 \n",
            " dense_27 (Dense)            (None, 1024)              2098176   \n",
            "                                                                 \n",
            " dense_28 (Dense)            (None, 512)               524800    \n",
            "                                                                 \n",
            " dense_29 (Dense)            (None, 256)               131328    \n",
            "                                                                 \n",
            " dense_30 (Dense)            (None, 64)                16448     \n",
            "                                                                 \n",
            " dense_31 (Dense)            (None, 1)                 65        \n",
            "                                                                 \n",
            "=================================================================\n",
            "Total params: 7,782,273\n",
            "Trainable params: 7,782,273\n",
            "Non-trainable params: 0\n",
            "_________________________________________________________________\n"
          ]
        }
      ],
      "source": [
        "model = Sequential()\n",
        "model.add(Dense(2048, activation='selu', kernel_initializer='lecun_normal', input_shape=(X_r_train.shape[1],), kernel_regularizer=tf.keras.regularizers.l2(0.01)))\n",
        "model.add(Dense(1024, activation='selu', kernel_initializer='lecun_normal', kernel_regularizer=tf.keras.regularizers.l2(0.01)))\n",
        "model.add(Dense(512, activation='selu', kernel_initializer='lecun_normal', kernel_regularizer=tf.keras.regularizers.l2(0.1)))\n",
        "model.add(Dense(256, activation='selu', kernel_initializer='lecun_normal', ))\n",
        "# model.add(Dense(128, activation='selu', kernel_initializer='lecun_normal', ))\n",
        "model.add(Dense(64, activation='selu', kernel_initializer='lecun_normal',))\n",
        "model.add(Dense(1, activation='sigmoid'))\n",
        "\n",
        "model.compile(optimizer='Adam', loss=tf.losses.binary_crossentropy, metrics=['accuracy'])\n",
        "model.summary()"
      ]
    },
    {
      "cell_type": "markdown",
      "metadata": {
        "id": "WLcofVxAw9xv"
      },
      "source": [
        "Set up early stopping and dynamic learning rate"
      ]
    },
    {
      "cell_type": "code",
      "execution_count": null,
      "metadata": {
        "id": "FLMxWrL2w9xv"
      },
      "outputs": [],
      "source": [
        "def step_decay(epoch):\n",
        "    initial_lrate = 0.001\n",
        "    drop = 0.5\n",
        "    epochs_drop = 10.0\n",
        "    lrate = initial_lrate * math.pow(drop, math.floor((1 + epoch) / epochs_drop))\n",
        "    return lrate\n",
        "\n",
        "lr_scheduler = LearningRateScheduler(step_decay)\n",
        "\n",
        "early_stopping = EarlyStopping(monitor='val_loss', restore_best_weights=True, patience=3) #"
      ]
    },
    {
      "cell_type": "markdown",
      "metadata": {
        "id": "9KZKL35zw9xv"
      },
      "source": [
        "Train the model on new dataset."
      ]
    },
    {
      "cell_type": "code",
      "execution_count": null,
      "metadata": {
        "colab": {
          "base_uri": "https://localhost:8080/"
        },
        "id": "e6K639XJw9xv",
        "outputId": "2d95bfe9-4506-4715-a15a-294a7b05c7e5"
      },
      "outputs": [
        {
          "name": "stdout",
          "output_type": "stream",
          "text": [
            "Epoch 1/15\n",
            "111/111 [==============================] - 1s 12ms/step - loss: 0.5566 - accuracy: 0.9707 - val_loss: 0.2197 - val_accuracy: 0.9887 - lr: 0.0010\n",
            "Epoch 2/15\n",
            "111/111 [==============================] - 1s 10ms/step - loss: 0.2163 - accuracy: 0.9797 - val_loss: 0.2129 - val_accuracy: 0.9887 - lr: 0.0010\n",
            "Epoch 3/15\n",
            "111/111 [==============================] - 1s 10ms/step - loss: 0.2057 - accuracy: 0.9853 - val_loss: 0.1972 - val_accuracy: 0.9842 - lr: 0.0010\n",
            "Epoch 4/15\n",
            "111/111 [==============================] - 1s 9ms/step - loss: 0.1654 - accuracy: 0.9876 - val_loss: 0.1961 - val_accuracy: 0.9752 - lr: 0.0010\n",
            "Epoch 5/15\n",
            "111/111 [==============================] - 1s 9ms/step - loss: 0.1319 - accuracy: 0.9915 - val_loss: 0.1370 - val_accuracy: 0.9887 - lr: 0.0010\n",
            "Epoch 6/15\n",
            "111/111 [==============================] - 1s 10ms/step - loss: 0.0925 - accuracy: 0.9949 - val_loss: 0.1338 - val_accuracy: 0.9819 - lr: 0.0010\n",
            "Epoch 7/15\n",
            "111/111 [==============================] - 1s 11ms/step - loss: 0.0708 - accuracy: 0.9972 - val_loss: 0.2138 - val_accuracy: 0.9887 - lr: 0.0010\n",
            "Epoch 8/15\n",
            "111/111 [==============================] - 1s 13ms/step - loss: 0.6251 - accuracy: 0.9769 - val_loss: 0.3292 - val_accuracy: 0.9887 - lr: 0.0010\n",
            "Epoch 9/15\n",
            "111/111 [==============================] - 1s 9ms/step - loss: 0.2431 - accuracy: 0.9865 - val_loss: 0.1905 - val_accuracy: 0.9797 - lr: 0.0010\n"
          ]
        }
      ],
      "source": [
        "history_NN = model.fit(X_r_train, y_r_train_encoded, validation_data=(X_r_val, y_r_val_encoded), epochs=15, batch_size=16, callbacks=[early_stopping, lr_scheduler])"
      ]
    },
    {
      "cell_type": "markdown",
      "metadata": {
        "id": "eBXrutCLw9xv"
      },
      "source": [
        "Evaluation"
      ]
    },
    {
      "cell_type": "code",
      "execution_count": null,
      "metadata": {
        "colab": {
          "base_uri": "https://localhost:8080/"
        },
        "id": "_0WqBGEgw9xv",
        "outputId": "b107b229-1ddf-47c6-b4b2-40b6a88e961c"
      },
      "outputs": [
        {
          "name": "stdout",
          "output_type": "stream",
          "text": [
            "10/10 [==============================] - 0s 9ms/step\n",
            "              precision    recall  f1-score   support\n",
            "\n",
            "     class 0       0.84      0.98      0.90       241\n",
            "     class 1       0.62      0.15      0.24        53\n",
            "\n",
            "    accuracy                           0.83       294\n",
            "   macro avg       0.73      0.57      0.57       294\n",
            "weighted avg       0.80      0.83      0.78       294\n",
            "\n",
            "[[236   5]\n",
            " [ 45   8]]\n",
            "0.8299319727891157\n"
          ]
        }
      ],
      "source": [
        "predictions_r = model.predict(X_r_test)\n",
        "target_names = ['class 0', 'class 1']\n",
        "\n",
        "predictions_r = (predictions_r > 0.5)*1\n",
        "print(classification_report(y_r_test, predictions_r,target_names=target_names))\n",
        "print(confusion_matrix(y_r_test, predictions_r))\n",
        "print(accuracy_score(y_r_test, predictions_r))"
      ]
    },
    {
      "cell_type": "markdown",
      "metadata": {
        "id": "WQDoZyzL7hzf"
      },
      "source": [
        "As you can see, we are having some trouble in recalling class 1, probably due to a very unbalanced dataset."
      ]
    },
    {
      "cell_type": "markdown",
      "metadata": {
        "id": "sKi08vKl-ITe"
      },
      "source": [
        "## LSTM Model"
      ]
    },
    {
      "cell_type": "code",
      "execution_count": null,
      "metadata": {
        "id": "8VJNBx0k-Jz-"
      },
      "outputs": [],
      "source": [
        "#Adapting tokenization to French Dataset\n",
        "\n",
        "tokenizer_lstm = Tokenizer() #(num_words = vocab_size, oov_token=oov_tok)\n",
        "tokenizer_lstm.fit_on_texts(X_r_train)\n",
        "word_index = tokenizer_lstm.word_index\n",
        "sequences = tokenizer_lstm.texts_to_sequences(df_r_train['article_title'])\n",
        "padded = pad_sequences(sequences, maxlen=max_length, truncating=trunc_type)\n",
        "\n",
        "testing_sequences = tokenizer_lstm.texts_to_sequences(df_r_test['article_title'])\n",
        "testing_padded = pad_sequences(testing_sequences,maxlen=max_length)"
      ]
    },
    {
      "cell_type": "markdown",
      "metadata": {
        "id": "BJfAXjlz_K7J"
      },
      "source": [
        "Building a new model for french dataset."
      ]
    },
    {
      "cell_type": "code",
      "execution_count": null,
      "metadata": {
        "colab": {
          "base_uri": "https://localhost:8080/"
        },
        "id": "Exft9CzR-vCD",
        "outputId": "e4cc191b-71dd-4f90-d1f2-f8c57b8ec6f4"
      },
      "outputs": [
        {
          "name": "stdout",
          "output_type": "stream",
          "text": [
            "Model: \"sequential_6\"\n",
            "_________________________________________________________________\n",
            " Layer (type)                Output Shape              Param #   \n",
            "=================================================================\n",
            " embedding_1 (Embedding)     (None, 100, 100)          765500    \n",
            "                                                                 \n",
            " bidirectional_1 (Bidirectio  (None, 128)              84480     \n",
            " nal)                                                            \n",
            "                                                                 \n",
            " dropout_40 (Dropout)        (None, 128)               0         \n",
            "                                                                 \n",
            " dense_32 (Dense)            (None, 32)                4128      \n",
            "                                                                 \n",
            " dropout_41 (Dropout)        (None, 32)                0         \n",
            "                                                                 \n",
            " dense_33 (Dense)            (None, 1)                 33        \n",
            "                                                                 \n",
            "=================================================================\n",
            "Total params: 854,141\n",
            "Trainable params: 854,141\n",
            "Non-trainable params: 0\n",
            "_________________________________________________________________\n",
            "None\n"
          ]
        }
      ],
      "source": [
        "vocab_size = len(tokenizer_lstm.word_index) + 1\n",
        "embedding_dim = max_length\n",
        "\n",
        "\n",
        "model = tf.keras.Sequential([\n",
        "    Embedding(vocab_size, embedding_dim, input_length=max_length),\n",
        "    Bidirectional(LSTM(64)), #32\n",
        "    Dropout(0.4),\n",
        "    Dense(32, activation='leaky_relu', kernel_regularizer='l1_l2'),\n",
        "    Dropout(0.4),\n",
        "    Dense(1, activation='sigmoid')\n",
        "])\n",
        "\n",
        "\n",
        "loss_function = 'binary_crossentropy'\n",
        "optimizer = 'adam'\n",
        "\n",
        "model.compile(loss=loss_function, optimizer=optimizer, metrics=['accuracy', Precision(), Recall(), AUC()])\n",
        "\n",
        "print(model.summary())"
      ]
    },
    {
      "cell_type": "code",
      "execution_count": null,
      "metadata": {
        "colab": {
          "base_uri": "https://localhost:8080/"
        },
        "id": "LFdUHOc8_9wx",
        "outputId": "33a9dbac-35c6-4a8c-a516-32ce85d9d5b8"
      },
      "outputs": [
        {
          "data": {
            "text/plain": [
              "((1772,), (2215, 100))"
            ]
          },
          "execution_count": 115,
          "metadata": {},
          "output_type": "execute_result"
        }
      ],
      "source": [
        "y_r_train_encoded.shape, predictors.shape"
      ]
    },
    {
      "cell_type": "code",
      "execution_count": null,
      "metadata": {
        "colab": {
          "base_uri": "https://localhost:8080/"
        },
        "id": "vq4J8ml5_WGU",
        "outputId": "adbd2eec-f17f-4511-b990-f74e6da5c874"
      },
      "outputs": [
        {
          "name": "stdout",
          "output_type": "stream",
          "text": [
            "Epoch 1/50\n",
            "56/56 [==============================] - 8s 145ms/step - loss: 1.6726 - accuracy: 0.9786 - precision_3: 0.0000e+00 - recall_3: 0.0000e+00 - auc_3: 0.4532 - val_loss: 1.0680 - val_accuracy: 0.9684 - val_precision_3: 0.0000e+00 - val_recall_3: 0.0000e+00 - val_auc_3: 0.5000\n",
            "Epoch 2/50\n",
            "56/56 [==============================] - 4s 70ms/step - loss: 0.6632 - accuracy: 0.9786 - precision_3: 0.0000e+00 - recall_3: 0.0000e+00 - auc_3: 0.6279 - val_loss: 0.3977 - val_accuracy: 0.9684 - val_precision_3: 0.0000e+00 - val_recall_3: 0.0000e+00 - val_auc_3: 0.5000\n",
            "Epoch 3/50\n",
            "56/56 [==============================] - 3s 49ms/step - loss: 0.2638 - accuracy: 0.9786 - precision_3: 0.0000e+00 - recall_3: 0.0000e+00 - auc_3: 0.5238 - val_loss: 0.2365 - val_accuracy: 0.9684 - val_precision_3: 0.0000e+00 - val_recall_3: 0.0000e+00 - val_auc_3: 0.5000\n",
            "Epoch 4/50\n",
            "56/56 [==============================] - 1s 19ms/step - loss: 0.2045 - accuracy: 0.9786 - precision_3: 0.0000e+00 - recall_3: 0.0000e+00 - auc_3: 0.4852 - val_loss: 0.2125 - val_accuracy: 0.9684 - val_precision_3: 0.0000e+00 - val_recall_3: 0.0000e+00 - val_auc_3: 0.5000\n",
            "Epoch 5/50\n",
            "56/56 [==============================] - 2s 34ms/step - loss: 0.1959 - accuracy: 0.9786 - precision_3: 0.0000e+00 - recall_3: 0.0000e+00 - auc_3: 0.4538 - val_loss: 0.2089 - val_accuracy: 0.9684 - val_precision_3: 0.0000e+00 - val_recall_3: 0.0000e+00 - val_auc_3: 0.5000\n",
            "Epoch 6/50\n",
            "56/56 [==============================] - 1s 21ms/step - loss: 0.1800 - accuracy: 0.9786 - precision_3: 0.0000e+00 - recall_3: 0.0000e+00 - auc_3: 0.5070 - val_loss: 0.1968 - val_accuracy: 0.9684 - val_precision_3: 0.0000e+00 - val_recall_3: 0.0000e+00 - val_auc_3: 0.5000\n",
            "Epoch 7/50\n",
            "56/56 [==============================] - 2s 42ms/step - loss: 0.1760 - accuracy: 0.9786 - precision_3: 0.0000e+00 - recall_3: 0.0000e+00 - auc_3: 0.4516 - val_loss: 0.1911 - val_accuracy: 0.9684 - val_precision_3: 0.0000e+00 - val_recall_3: 0.0000e+00 - val_auc_3: 0.5000\n",
            "Epoch 8/50\n",
            "56/56 [==============================] - 2s 32ms/step - loss: 0.1657 - accuracy: 0.9786 - precision_3: 0.0000e+00 - recall_3: 0.0000e+00 - auc_3: 0.4515 - val_loss: 0.1849 - val_accuracy: 0.9684 - val_precision_3: 0.0000e+00 - val_recall_3: 0.0000e+00 - val_auc_3: 0.5000\n",
            "Epoch 9/50\n",
            "56/56 [==============================] - 1s 20ms/step - loss: 0.1566 - accuracy: 0.9786 - precision_3: 0.0000e+00 - recall_3: 0.0000e+00 - auc_3: 0.5322 - val_loss: 0.1964 - val_accuracy: 0.9684 - val_precision_3: 0.0000e+00 - val_recall_3: 0.0000e+00 - val_auc_3: 0.5000\n",
            "Epoch 10/50\n",
            "56/56 [==============================] - 1s 15ms/step - loss: 0.1542 - accuracy: 0.9786 - precision_3: 0.0000e+00 - recall_3: 0.0000e+00 - auc_3: 0.4323 - val_loss: 0.1725 - val_accuracy: 0.9684 - val_precision_3: 0.0000e+00 - val_recall_3: 0.0000e+00 - val_auc_3: 0.5000\n",
            "Epoch 11/50\n",
            "56/56 [==============================] - 1s 20ms/step - loss: 0.1430 - accuracy: 0.9786 - precision_3: 0.0000e+00 - recall_3: 0.0000e+00 - auc_3: 0.5368 - val_loss: 0.1690 - val_accuracy: 0.9684 - val_precision_3: 0.0000e+00 - val_recall_3: 0.0000e+00 - val_auc_3: 0.5000\n",
            "Epoch 12/50\n",
            "56/56 [==============================] - 1s 20ms/step - loss: 0.1434 - accuracy: 0.9786 - precision_3: 0.0000e+00 - recall_3: 0.0000e+00 - auc_3: 0.5189 - val_loss: 0.1856 - val_accuracy: 0.9684 - val_precision_3: 0.0000e+00 - val_recall_3: 0.0000e+00 - val_auc_3: 0.5000\n",
            "Epoch 13/50\n",
            "56/56 [==============================] - 1s 20ms/step - loss: 0.1437 - accuracy: 0.9786 - precision_3: 0.0000e+00 - recall_3: 0.0000e+00 - auc_3: 0.4446 - val_loss: 0.1694 - val_accuracy: 0.9684 - val_precision_3: 0.0000e+00 - val_recall_3: 0.0000e+00 - val_auc_3: 0.5551\n",
            "Epoch 14/50\n",
            "56/56 [==============================] - 1s 19ms/step - loss: 0.1345 - accuracy: 0.9786 - precision_3: 0.0000e+00 - recall_3: 0.0000e+00 - auc_3: 0.5591 - val_loss: 0.1680 - val_accuracy: 0.9684 - val_precision_3: 0.0000e+00 - val_recall_3: 0.0000e+00 - val_auc_3: 0.5000\n",
            "Epoch 15/50\n",
            "56/56 [==============================] - 1s 19ms/step - loss: 0.1419 - accuracy: 0.9786 - precision_3: 0.0000e+00 - recall_3: 0.0000e+00 - auc_3: 0.4270 - val_loss: 0.1616 - val_accuracy: 0.9684 - val_precision_3: 0.0000e+00 - val_recall_3: 0.0000e+00 - val_auc_3: 0.5000\n",
            "Epoch 16/50\n",
            "56/56 [==============================] - 1s 27ms/step - loss: 0.1324 - accuracy: 0.9786 - precision_3: 0.0000e+00 - recall_3: 0.0000e+00 - auc_3: 0.4930 - val_loss: 0.1698 - val_accuracy: 0.9684 - val_precision_3: 0.0000e+00 - val_recall_3: 0.0000e+00 - val_auc_3: 0.5000\n",
            "Epoch 17/50\n",
            "56/56 [==============================] - 2s 32ms/step - loss: 0.1311 - accuracy: 0.9786 - precision_3: 0.0000e+00 - recall_3: 0.0000e+00 - auc_3: 0.5362 - val_loss: 0.1627 - val_accuracy: 0.9684 - val_precision_3: 0.0000e+00 - val_recall_3: 0.0000e+00 - val_auc_3: 0.5000\n",
            "Epoch 18/50\n",
            "56/56 [==============================] - 2s 43ms/step - loss: 0.1262 - accuracy: 0.9786 - precision_3: 0.0000e+00 - recall_3: 0.0000e+00 - auc_3: 0.5527 - val_loss: 0.1637 - val_accuracy: 0.9684 - val_precision_3: 0.0000e+00 - val_recall_3: 0.0000e+00 - val_auc_3: 0.5000\n"
          ]
        }
      ],
      "source": [
        "predictors = np.array(padded)\n",
        "epochs_value = 50\n",
        "validation_split_value = 0.2\n",
        "early_stopping = tf.keras.callbacks.EarlyStopping(patience=3)\n",
        "history = model.fit(predictors, df_r_train['is_ecology'], epochs=epochs_value, verbose=1, validation_split=validation_split_value, callbacks=[early_stopping])"
      ]
    },
    {
      "cell_type": "markdown",
      "metadata": {
        "id": "RMHK3DxMBv-4"
      },
      "source": [
        "Plotting Losses."
      ]
    },
    {
      "cell_type": "code",
      "execution_count": null,
      "metadata": {
        "colab": {
          "base_uri": "https://localhost:8080/",
          "height": 430
        },
        "id": "dLqs01rCBIMe",
        "outputId": "e9482f39-5bf5-449b-8b98-cfa01a990713"
      },
      "outputs": [
        {
          "data": {
            "image/png": "[encoded data removed]",
            "text/plain": [
              "<Figure size 640x480 with 1 Axes>"
            ]
          },
          "metadata": {},
          "output_type": "display_data"
        }
      ],
      "source": [
        "loss, val_loss = history.history['loss'], history.history['val_loss']\n",
        "plt.plot(loss, label='loss')\n",
        "plt.plot(val_loss, label='val_loss')\n",
        "plt.legend()\n",
        "plt.show()"
      ]
    },
    {
      "cell_type": "markdown",
      "metadata": {
        "id": "GjKYJOc_Byoq"
      },
      "source": [
        "Printing Classification Report and Confusion Matrix"
      ]
    },
    {
      "cell_type": "code",
      "execution_count": null,
      "metadata": {
        "colab": {
          "base_uri": "https://localhost:8080/"
        },
        "id": "Xu81uyjK_uuk",
        "outputId": "834ec835-483e-4856-955f-511f20b18076"
      },
      "outputs": [
        {
          "name": "stdout",
          "output_type": "stream",
          "text": [
            "10/10 [==============================] - 1s 8ms/step\n",
            "              precision    recall  f1-score   support\n",
            "\n",
            "           0       0.82      1.00      0.90       241\n",
            "           1       0.00      0.00      0.00        53\n",
            "\n",
            "    accuracy                           0.82       294\n",
            "   macro avg       0.41      0.50      0.45       294\n",
            "weighted avg       0.67      0.82      0.74       294\n",
            "\n",
            "[[241   0]\n",
            " [ 53   0]]\n",
            "0.8197278911564626\n"
          ]
        },
        {
          "name": "stderr",
          "output_type": "stream",
          "text": [
            "/usr/local/lib/python3.10/dist-packages/sklearn/metrics/_classification.py:1344: UndefinedMetricWarning: Precision and F-score are ill-defined and being set to 0.0 in labels with no predicted samples. Use `zero_division` parameter to control this behavior.\n",
            "  _warn_prf(average, modifier, msg_start, len(result))\n",
            "/usr/local/lib/python3.10/dist-packages/sklearn/metrics/_classification.py:1344: UndefinedMetricWarning: Precision and F-score are ill-defined and being set to 0.0 in labels with no predicted samples. Use `zero_division` parameter to control this behavior.\n",
            "  _warn_prf(average, modifier, msg_start, len(result))\n",
            "/usr/local/lib/python3.10/dist-packages/sklearn/metrics/_classification.py:1344: UndefinedMetricWarning: Precision and F-score are ill-defined and being set to 0.0 in labels with no predicted samples. Use `zero_division` parameter to control this behavior.\n",
            "  _warn_prf(average, modifier, msg_start, len(result))\n"
          ]
        }
      ],
      "source": [
        "predictions = model.predict(testing_padded)\n",
        "predictions = (predictions > 0.5)*1\n",
        "print(classification_report(df_r_test['is_ecology'].to_numpy(), predictions))\n",
        "print(confusion_matrix(df_r_test['is_ecology'].to_numpy(), predictions))\n",
        "print(accuracy_score(df_r_test['is_ecology'].to_numpy(), predictions))"
      ]
    },
    {
      "cell_type": "markdown",
      "metadata": {
        "id": "-pVvpPAUB3dU"
      },
      "source": [
        "As you can see the result is not the best, the unbalanced dataset has really affected our results."
      ]
    },
    {
      "cell_type": "markdown",
      "metadata": {
        "id": "up-2P2mcCQLR"
      },
      "source": [
        "# Bert Model"
      ]
    },
    {
      "cell_type": "code",
      "execution_count": null,
      "metadata": {
        "id": "0JroAxgtBnq_"
      },
      "outputs": [],
      "source": [
        "bert_X_train, bert_X_valid, bert_Y_train, bert_Y_valid = train_test_split(df_r_train['article_title'], df_r_train['is_ecology'],test_size=0.2,random_state=42,stratify=df_r_train['is_ecology'])"
      ]
    },
    {
      "cell_type": "markdown",
      "metadata": {
        "id": "9_9tifFFCfjl"
      },
      "source": [
        "Encoding raw test for training validation and test."
      ]
    },
    {
      "cell_type": "code",
      "execution_count": null,
      "metadata": {
        "colab": {
          "base_uri": "https://localhost:8080/"
        },
        "id": "RWxwDsAfCfjl",
        "outputId": "cd22a883-1a4f-45b0-b76d-72d825c0d2e0"
      },
      "outputs": [
        {
          "name": "stderr",
          "output_type": "stream",
          "text": [
            "100%|██████████| 7/7 [00:00<00:00, 34.57it/s]\n",
            "100%|██████████| 2/2 [00:00<00:00, 37.82it/s]\n",
            "100%|██████████| 2/2 [00:00<00:00, 56.04it/s]\n"
          ]
        }
      ],
      "source": [
        "X_train = fast_encode(bert_X_train, fast_tokenizer, maxlen=max_length)\n",
        "X_valid = fast_encode(bert_X_valid, fast_tokenizer, maxlen=max_length)\n",
        "X_test = fast_encode(df_r_test['article_title'], fast_tokenizer, maxlen=max_length)"
      ]
    },
    {
      "cell_type": "code",
      "execution_count": null,
      "metadata": {
        "colab": {
          "base_uri": "https://localhost:8080/"
        },
        "id": "CWPwh8jvCfjm",
        "outputId": "c37fd4b7-3cb5-4a39-f93c-aafbaf634c36"
      },
      "outputs": [
        {
          "data": {
            "text/plain": [
              "(1772, 100)"
            ]
          },
          "execution_count": 130,
          "metadata": {},
          "output_type": "execute_result"
        }
      ],
      "source": [
        "X_train.shape"
      ]
    },
    {
      "cell_type": "markdown",
      "metadata": {
        "id": "t1L2xN-WCfjm"
      },
      "source": [
        "Encoding the labels."
      ]
    },
    {
      "cell_type": "markdown",
      "metadata": {
        "id": "A7s3A_2TESd2"
      },
      "source": [
        "Creating TensorFlow Datasets with our data."
      ]
    },
    {
      "cell_type": "code",
      "execution_count": null,
      "metadata": {
        "id": "ib1oGkhcCfjm"
      },
      "outputs": [],
      "source": [
        "\n",
        "y_train_encoded = bert_Y_train\n",
        "y_valid_encoded = bert_Y_valid\n",
        "y_test_encoded = df_r_test['is_ecology']\n",
        "\n",
        "\n",
        "\n",
        "BATCH_SIZE = 16\n",
        "\n",
        "train_dataset = (\n",
        "    tf.data.Dataset\n",
        "    .from_tensor_slices((X_train, y_train_encoded))\n",
        "    .repeat()\n",
        "    .shuffle(2048)\n",
        "    .batch(BATCH_SIZE)\n",
        "\n",
        ")\n",
        "\n",
        "valid_dataset = (\n",
        "    tf.data.Dataset\n",
        "    .from_tensor_slices((X_valid, y_valid_encoded))\n",
        "    .batch(BATCH_SIZE)\n",
        "    .cache()\n",
        "\n",
        ")\n",
        "\n",
        "test_dataset = (\n",
        "    tf.data.Dataset\n",
        "    .from_tensor_slices((X_test,y_test_encoded))\n",
        "    .batch(BATCH_SIZE)\n",
        ")"
      ]
    },
    {
      "cell_type": "markdown",
      "metadata": {
        "id": "OeJ9tulPCfjo"
      },
      "source": [
        "Building the model."
      ]
    },
    {
      "cell_type": "code",
      "execution_count": null,
      "metadata": {
        "id": "q_vz-_cnCfjo"
      },
      "outputs": [],
      "source": [
        "from tensorflow.keras.optimizers.experimental import Adam\n",
        "\n",
        "def build_model(transformer, max_len=512):\n",
        "    \"\"\"\n",
        "    function for training the BERT model\n",
        "    \"\"\"\n",
        "    input_word_ids = tf.keras.layers.Input(shape=(max_len,), dtype=tf.int32, name=\"input_word_ids\")\n",
        "    sequence_output = transformer(input_word_ids)[0]\n",
        "    cls_token = sequence_output[:, 0, :]\n",
        "    out = Dense(1, activation='sigmoid')(cls_token)\n",
        "\n",
        "    model = tf.keras.Model(inputs=input_word_ids, outputs=out)\n",
        "    model.compile(Adam(learning_rate=1e-5), loss='binary_crossentropy', metrics=['accuracy', Precision(), Recall(), AUC()])\n",
        "\n",
        "    return model"
      ]
    },
    {
      "cell_type": "code",
      "execution_count": null,
      "metadata": {
        "colab": {
          "base_uri": "https://localhost:8080/"
        },
        "id": "ChwN0_htCfjo",
        "outputId": "1618ffa4-102a-42c7-8c78-0b1aaceb9b3d"
      },
      "outputs": [
        {
          "name": "stderr",
          "output_type": "stream",
          "text": [
            "Some weights of the PyTorch model were not used when initializing the TF 2.0 model TFDistilBertModel: ['vocab_layer_norm.bias', 'vocab_layer_norm.weight', 'vocab_transform.bias', 'vocab_transform.weight', 'vocab_projector.bias']\n",
            "- This IS expected if you are initializing TFDistilBertModel from a PyTorch model trained on another task or with another architecture (e.g. initializing a TFBertForSequenceClassification model from a BertForPreTraining model).\n",
            "- This IS NOT expected if you are initializing TFDistilBertModel from a PyTorch model that you expect to be exactly identical (e.g. initializing a TFBertForSequenceClassification model from a BertForSequenceClassification model).\n",
            "All the weights of TFDistilBertModel were initialized from the PyTorch model.\n",
            "If your task is similar to the task the model of the checkpoint was trained on, you can already use TFDistilBertModel for predictions without further training.\n"
          ]
        }
      ],
      "source": [
        "transformer_layer = (\n",
        "    transformers.TFDistilBertModel.from_pretrained('distilbert-base-multilingual-cased')\n",
        ")\n",
        "\n",
        "\n",
        "bert_model = build_model(transformer_layer, max_len=max_length)\n"
      ]
    },
    {
      "cell_type": "code",
      "execution_count": null,
      "metadata": {
        "colab": {
          "base_uri": "https://localhost:8080/"
        },
        "id": "srN7zJzgCfjp",
        "outputId": "9013df7a-3420-41d6-f0b4-f4f185f53b87"
      },
      "outputs": [
        {
          "name": "stdout",
          "output_type": "stream",
          "text": [
            "Model: \"model_3\"\n",
            "_________________________________________________________________\n",
            " Layer (type)                Output Shape              Param #   \n",
            "=================================================================\n",
            " input_word_ids (InputLayer)  [(None, 100)]            0         \n",
            "                                                                 \n",
            " tf_distil_bert_model_3 (TFD  TFBaseModelOutput(last_h  134734080\n",
            " istilBertModel)             idden_state=(None, 100,             \n",
            "                             768),                               \n",
            "                              hidden_states=None, att            \n",
            "                             entions=None)                       \n",
            "                                                                 \n",
            " tf.__operators__.getitem_3   (None, 768)              0         \n",
            " (SlicingOpLambda)                                               \n",
            "                                                                 \n",
            " dense_35 (Dense)            (None, 1)                 769       \n",
            "                                                                 \n",
            "=================================================================\n",
            "Total params: 134,734,849\n",
            "Trainable params: 134,734,849\n",
            "Non-trainable params: 0\n",
            "_________________________________________________________________\n"
          ]
        }
      ],
      "source": [
        "bert_model.summary()"
      ]
    },
    {
      "cell_type": "markdown",
      "metadata": {
        "id": "TRql7QMKCfjp"
      },
      "source": [
        "Freezing all other layers"
      ]
    },
    {
      "cell_type": "code",
      "execution_count": null,
      "metadata": {
        "id": "bueu3OpICfjp"
      },
      "outputs": [],
      "source": [
        "bert_model.layers[0].trainable = False\n",
        "bert_model.layers[1].trainable = False\n",
        "bert_model.layers[2].trainable = False"
      ]
    },
    {
      "cell_type": "markdown",
      "metadata": {
        "id": "d8a-anHWCfjp"
      },
      "source": [
        "Now that we have frozen the layers, we can see that the trainable params (thankfully) have reduced significantly."
      ]
    },
    {
      "cell_type": "code",
      "execution_count": null,
      "metadata": {
        "colab": {
          "base_uri": "https://localhost:8080/"
        },
        "id": "w4OUq3fqCfjp",
        "outputId": "44054c60-32b1-4535-f751-bb774dd2c31d"
      },
      "outputs": [
        {
          "name": "stdout",
          "output_type": "stream",
          "text": [
            "Model: \"model_3\"\n",
            "_________________________________________________________________\n",
            " Layer (type)                Output Shape              Param #   \n",
            "=================================================================\n",
            " input_word_ids (InputLayer)  [(None, 100)]            0         \n",
            "                                                                 \n",
            " tf_distil_bert_model_3 (TFD  TFBaseModelOutput(last_h  134734080\n",
            " istilBertModel)             idden_state=(None, 100,             \n",
            "                             768),                               \n",
            "                              hidden_states=None, att            \n",
            "                             entions=None)                       \n",
            "                                                                 \n",
            " tf.__operators__.getitem_3   (None, 768)              0         \n",
            " (SlicingOpLambda)                                               \n",
            "                                                                 \n",
            " dense_35 (Dense)            (None, 1)                 769       \n",
            "                                                                 \n",
            "=================================================================\n",
            "Total params: 134,734,849\n",
            "Trainable params: 769\n",
            "Non-trainable params: 134,734,080\n",
            "_________________________________________________________________\n"
          ]
        }
      ],
      "source": [
        "bert_model.summary()"
      ]
    },
    {
      "cell_type": "markdown",
      "metadata": {
        "id": "EW4v1FRGCfjp"
      },
      "source": [
        "Now we can train the data."
      ]
    },
    {
      "cell_type": "code",
      "execution_count": null,
      "metadata": {
        "colab": {
          "base_uri": "https://localhost:8080/"
        },
        "id": "6oe6g3C7Cfjq",
        "outputId": "f26e8e25-59b6-4cba-bd08-6177e6653c65"
      },
      "outputs": [
        {
          "name": "stdout",
          "output_type": "stream",
          "text": [
            "Epoch 1/3\n",
            "110/110 [==============================] - 59s 276ms/step - loss: 0.1164 - accuracy: 0.9710 - precision_5: 0.0625 - recall_5: 0.0270 - auc_5: 0.5255 - val_loss: 0.1139 - val_accuracy: 0.9774 - val_precision_5: 0.0000e+00 - val_recall_5: 0.0000e+00 - val_auc_5: 0.3711\n",
            "Epoch 2/3\n",
            "110/110 [==============================] - 24s 215ms/step - loss: 0.1231 - accuracy: 0.9744 - precision_5: 0.0000e+00 - recall_5: 0.0000e+00 - auc_5: 0.5033 - val_loss: 0.1082 - val_accuracy: 0.9774 - val_precision_5: 0.0000e+00 - val_recall_5: 0.0000e+00 - val_auc_5: 0.4251\n",
            "Epoch 3/3\n",
            "110/110 [==============================] - 22s 202ms/step - loss: 0.1198 - accuracy: 0.9750 - precision_5: 0.0000e+00 - recall_5: 0.0000e+00 - auc_5: 0.5199 - val_loss: 0.1093 - val_accuracy: 0.9774 - val_precision_5: 0.0000e+00 - val_recall_5: 0.0000e+00 - val_auc_5: 0.4326\n"
          ]
        }
      ],
      "source": [
        "n_steps = X_train.shape[0] // BATCH_SIZE\n",
        "train_history = bert_model.fit(\n",
        "    train_dataset,\n",
        "    steps_per_epoch=n_steps,\n",
        "    validation_data=valid_dataset,\n",
        "    epochs=3\n",
        ")"
      ]
    },
    {
      "cell_type": "markdown",
      "metadata": {
        "id": "7azBMKQ6FD17"
      },
      "source": [
        "Plotting Losses"
      ]
    },
    {
      "cell_type": "code",
      "execution_count": null,
      "metadata": {
        "colab": {
          "base_uri": "https://localhost:8080/",
          "height": 430
        },
        "id": "eUjCHc2XEk3k",
        "outputId": "6da766f9-3c47-45a5-96bf-2083da575191"
      },
      "outputs": [
        {
          "data": {
            "image/png": "[encoded data removed]",
            "text/plain": [
              "<Figure size 640x480 with 1 Axes>"
            ]
          },
          "metadata": {},
          "output_type": "display_data"
        }
      ],
      "source": [
        "loss, val_loss = train_history.history['loss'], train_history.history['val_loss']\n",
        "plt.plot(loss, label='loss')\n",
        "plt.plot(val_loss, label='val_loss')\n",
        "plt.legend()\n",
        "plt.show()"
      ]
    },
    {
      "cell_type": "markdown",
      "metadata": {
        "id": "kB-JuBg1FH5G"
      },
      "source": [
        "As you can see the results are terrible due to the unbalanced dataset."
      ]
    },
    {
      "cell_type": "code",
      "execution_count": null,
      "metadata": {
        "colab": {
          "base_uri": "https://localhost:8080/"
        },
        "id": "9VyR_D3-FFgS",
        "outputId": "de7c5674-5d29-4d8d-8874-ced87dc1c152"
      },
      "outputs": [
        {
          "name": "stdout",
          "output_type": "stream",
          "text": [
            "10/10 [==============================] - 1s 109ms/step\n",
            "              precision    recall  f1-score   support\n",
            "\n",
            "           0       0.82      1.00      0.90       241\n",
            "           1       0.00      0.00      0.00        53\n",
            "\n",
            "    accuracy                           0.82       294\n",
            "   macro avg       0.41      0.50      0.45       294\n",
            "weighted avg       0.67      0.82      0.74       294\n",
            "\n",
            "[[241   0]\n",
            " [ 53   0]]\n",
            "0.8197278911564626\n"
          ]
        },
        {
          "name": "stderr",
          "output_type": "stream",
          "text": [
            "/usr/local/lib/python3.10/dist-packages/sklearn/metrics/_classification.py:1344: UndefinedMetricWarning: Precision and F-score are ill-defined and being set to 0.0 in labels with no predicted samples. Use `zero_division` parameter to control this behavior.\n",
            "  _warn_prf(average, modifier, msg_start, len(result))\n",
            "/usr/local/lib/python3.10/dist-packages/sklearn/metrics/_classification.py:1344: UndefinedMetricWarning: Precision and F-score are ill-defined and being set to 0.0 in labels with no predicted samples. Use `zero_division` parameter to control this behavior.\n",
            "  _warn_prf(average, modifier, msg_start, len(result))\n",
            "/usr/local/lib/python3.10/dist-packages/sklearn/metrics/_classification.py:1344: UndefinedMetricWarning: Precision and F-score are ill-defined and being set to 0.0 in labels with no predicted samples. Use `zero_division` parameter to control this behavior.\n",
            "  _warn_prf(average, modifier, msg_start, len(result))\n"
          ]
        }
      ],
      "source": [
        "predictions = bert_model.predict(X_test)\n",
        "prediction_labels = (predictions > 0.5)*1\n",
        "print(classification_report(df_r_test['is_ecology'], prediction_labels))\n",
        "print(confusion_matrix(df_r_test['is_ecology'], prediction_labels))\n",
        "print(accuracy_score(df_r_test['is_ecology'], prediction_labels))"
      ]
    },
    {
      "cell_type": "markdown",
      "metadata": {
        "id": "j0ORsziDFx3j"
      },
      "source": [
        "# Conclusion in Real Life Dataset"
      ]
    },
    {
      "cell_type": "markdown",
      "metadata": {
        "id": "ZXqVlZn4F2Ze"
      },
      "source": [
        "Surprisingly the most successful model was the Fully Connected Neural Network. This is because it did not have 0 recall in the target class.\n",
        "\n"
      ]
    },
    {
      "cell_type": "code",
      "execution_count": null,
      "metadata": {
        "id": "U3wVrOzeFcTF"
      },
      "outputs": [],
      "source": []
    }
  ],
  "metadata": {
    "accelerator": "GPU",
    "colab": {
      "gpuType": "T4",
      "provenance": []
    },
    "kernelspec": {
      "display_name": "Python 3",
      "name": "python3"
    },
    "language_info": {
      "codemirror_mode": {
        "name": "ipython",
        "version": 3
      },
      "file_extension": ".py",
      "mimetype": "text/x-python",
      "name": "python",
      "nbconvert_exporter": "python",
      "pygments_lexer": "ipython3",
      "version": "3.11.4"
    },
    "orig_nbformat": 4,
    "widgets": {
      "application/vnd.jupyter.widget-state+json": {
        "00f8fee3a784465980e6874ce6c184a6": {
          "model_module": "@jupyter-widgets/controls",
          "model_module_version": "1.5.0",
          "model_name": "DescriptionStyleModel",
          "state": {
            "_model_module": "@jupyter-widgets/controls",
            "_model_module_version": "1.5.0",
            "_model_name": "DescriptionStyleModel",
            "_view_count": null,
            "_view_module": "@jupyter-widgets/base",
            "_view_module_version": "1.2.0",
            "_view_name": "StyleView",
            "description_width": ""
          }
        },
        "0869185102034822b086f01a7f82c698": {
          "model_module": "@jupyter-widgets/controls",
          "model_module_version": "1.5.0",
          "model_name": "HTMLModel",
          "state": {
            "_dom_classes": [],
            "_model_module": "@jupyter-widgets/controls",
            "_model_module_version": "1.5.0",
            "_model_name": "HTMLModel",
            "_view_count": null,
            "_view_module": "@jupyter-widgets/controls",
            "_view_module_version": "1.5.0",
            "_view_name": "HTMLView",
            "description": "",
            "description_tooltip": null,
            "layout": "IPY_MODEL_36fc5ac7e3ee4acaac95266078d0201e",
            "placeholder": "​",
            "style": "IPY_MODEL_c625e94451a84cdcaa7f17e3346dc0a2",
            "value": " 996k/996k [00:00&lt;00:00, 4.12MB/s]"
          }
        },
        "1cb25ddeb15142d7b15476897f30783f": {
          "model_module": "@jupyter-widgets/base",
          "model_module_version": "1.2.0",
          "model_name": "LayoutModel",
          "state": {
            "_model_module": "@jupyter-widgets/base",
            "_model_module_version": "1.2.0",
            "_model_name": "LayoutModel",
            "_view_count": null,
            "_view_module": "@jupyter-widgets/base",
            "_view_module_version": "1.2.0",
            "_view_name": "LayoutView",
            "align_content": null,
            "align_items": null,
            "align_self": null,
            "border": null,
            "bottom": null,
            "display": null,
            "flex": null,
            "flex_flow": null,
            "grid_area": null,
            "grid_auto_columns": null,
            "grid_auto_flow": null,
            "grid_auto_rows": null,
            "grid_column": null,
            "grid_gap": null,
            "grid_row": null,
            "grid_template_areas": null,
            "grid_template_columns": null,
            "grid_template_rows": null,
            "height": null,
            "justify_content": null,
            "justify_items": null,
            "left": null,
            "margin": null,
            "max_height": null,
            "max_width": null,
            "min_height": null,
            "min_width": null,
            "object_fit": null,
            "object_position": null,
            "order": null,
            "overflow": null,
            "overflow_x": null,
            "overflow_y": null,
            "padding": null,
            "right": null,
            "top": null,
            "visibility": null,
            "width": null
          }
        },
        "20c1cdce5b4e497a879e1d19880afe6e": {
          "model_module": "@jupyter-widgets/controls",
          "model_module_version": "1.5.0",
          "model_name": "DescriptionStyleModel",
          "state": {
            "_model_module": "@jupyter-widgets/controls",
            "_model_module_version": "1.5.0",
            "_model_name": "DescriptionStyleModel",
            "_view_count": null,
            "_view_module": "@jupyter-widgets/base",
            "_view_module_version": "1.2.0",
            "_view_name": "StyleView",
            "description_width": ""
          }
        },
        "36fc5ac7e3ee4acaac95266078d0201e": {
          "model_module": "@jupyter-widgets/base",
          "model_module_version": "1.2.0",
          "model_name": "LayoutModel",
          "state": {
            "_model_module": "@jupyter-widgets/base",
            "_model_module_version": "1.2.0",
            "_model_name": "LayoutModel",
            "_view_count": null,
            "_view_module": "@jupyter-widgets/base",
            "_view_module_version": "1.2.0",
            "_view_name": "LayoutView",
            "align_content": null,
            "align_items": null,
            "align_self": null,
            "border": null,
            "bottom": null,
            "display": null,
            "flex": null,
            "flex_flow": null,
            "grid_area": null,
            "grid_auto_columns": null,
            "grid_auto_flow": null,
            "grid_auto_rows": null,
            "grid_column": null,
            "grid_gap": null,
            "grid_row": null,
            "grid_template_areas": null,
            "grid_template_columns": null,
            "grid_template_rows": null,
            "height": null,
            "justify_content": null,
            "justify_items": null,
            "left": null,
            "margin": null,
            "max_height": null,
            "max_width": null,
            "min_height": null,
            "min_width": null,
            "object_fit": null,
            "object_position": null,
            "order": null,
            "overflow": null,
            "overflow_x": null,
            "overflow_y": null,
            "padding": null,
            "right": null,
            "top": null,
            "visibility": null,
            "width": null
          }
        },
        "3cb2ac723c354105a1326ed751c16dc3": {
          "model_module": "@jupyter-widgets/controls",
          "model_module_version": "1.5.0",
          "model_name": "HBoxModel",
          "state": {
            "_dom_classes": [],
            "_model_module": "@jupyter-widgets/controls",
            "_model_module_version": "1.5.0",
            "_model_name": "HBoxModel",
            "_view_count": null,
            "_view_module": "@jupyter-widgets/controls",
            "_view_module_version": "1.5.0",
            "_view_name": "HBoxView",
            "box_style": "",
            "children": [
              "IPY_MODEL_488651f1c2c94891958f936842db07fa",
              "IPY_MODEL_8d33b4b1932f4f64a82c7390e3aeb696",
              "IPY_MODEL_43c9ecffb2264a62a5c56a5670b345b0"
            ],
            "layout": "IPY_MODEL_ab5c57f5bde2430399ab49a7d7eb4a15"
          }
        },
        "42343b32671b4f1193656b01b7efa816": {
          "model_module": "@jupyter-widgets/controls",
          "model_module_version": "1.5.0",
          "model_name": "ProgressStyleModel",
          "state": {
            "_model_module": "@jupyter-widgets/controls",
            "_model_module_version": "1.5.0",
            "_model_name": "ProgressStyleModel",
            "_view_count": null,
            "_view_module": "@jupyter-widgets/base",
            "_view_module_version": "1.2.0",
            "_view_name": "StyleView",
            "bar_color": null,
            "description_width": ""
          }
        },
        "43c9ecffb2264a62a5c56a5670b345b0": {
          "model_module": "@jupyter-widgets/controls",
          "model_module_version": "1.5.0",
          "model_name": "HTMLModel",
          "state": {
            "_dom_classes": [],
            "_model_module": "@jupyter-widgets/controls",
            "_model_module_version": "1.5.0",
            "_model_name": "HTMLModel",
            "_view_count": null,
            "_view_module": "@jupyter-widgets/controls",
            "_view_module_version": "1.5.0",
            "_view_name": "HTMLView",
            "description": "",
            "description_tooltip": null,
            "layout": "IPY_MODEL_d2d83f468bd24cd68cc38e095f75e04f",
            "placeholder": "​",
            "style": "IPY_MODEL_59b46d93eeec4d32a70d3432b9a10165",
            "value": " 466/466 [00:00&lt;00:00, 12.6kB/s]"
          }
        },
        "4868bab11dd14a8abac93b647e723435": {
          "model_module": "@jupyter-widgets/controls",
          "model_module_version": "1.5.0",
          "model_name": "HTMLModel",
          "state": {
            "_dom_classes": [],
            "_model_module": "@jupyter-widgets/controls",
            "_model_module_version": "1.5.0",
            "_model_name": "HTMLModel",
            "_view_count": null,
            "_view_module": "@jupyter-widgets/controls",
            "_view_module_version": "1.5.0",
            "_view_name": "HTMLView",
            "description": "",
            "description_tooltip": null,
            "layout": "IPY_MODEL_92b6625bc97a4d6aa57a8bcb4e85bf70",
            "placeholder": "​",
            "style": "IPY_MODEL_c443289e3af94bc191d0abf32a2b1147",
            "value": "Downloading (…)okenizer_config.json: 100%"
          }
        },
        "488651f1c2c94891958f936842db07fa": {
          "model_module": "@jupyter-widgets/controls",
          "model_module_version": "1.5.0",
          "model_name": "HTMLModel",
          "state": {
            "_dom_classes": [],
            "_model_module": "@jupyter-widgets/controls",
            "_model_module_version": "1.5.0",
            "_model_name": "HTMLModel",
            "_view_count": null,
            "_view_module": "@jupyter-widgets/controls",
            "_view_module_version": "1.5.0",
            "_view_name": "HTMLView",
            "description": "",
            "description_tooltip": null,
            "layout": "IPY_MODEL_cca7527080ff4144ad92f3b7a9396f83",
            "placeholder": "​",
            "style": "IPY_MODEL_753ee821bd0844c5abc11575df9ef275",
            "value": "Downloading (…)lve/main/config.json: 100%"
          }
        },
        "5337a253cb86488ebe32eb598556413f": {
          "model_module": "@jupyter-widgets/controls",
          "model_module_version": "1.5.0",
          "model_name": "HTMLModel",
          "state": {
            "_dom_classes": [],
            "_model_module": "@jupyter-widgets/controls",
            "_model_module_version": "1.5.0",
            "_model_name": "HTMLModel",
            "_view_count": null,
            "_view_module": "@jupyter-widgets/controls",
            "_view_module_version": "1.5.0",
            "_view_name": "HTMLView",
            "description": "",
            "description_tooltip": null,
            "layout": "IPY_MODEL_80a1d649f235493092c4222b0483d38b",
            "placeholder": "​",
            "style": "IPY_MODEL_00f8fee3a784465980e6874ce6c184a6",
            "value": "Downloading (…)solve/main/vocab.txt: 100%"
          }
        },
        "59b46d93eeec4d32a70d3432b9a10165": {
          "model_module": "@jupyter-widgets/controls",
          "model_module_version": "1.5.0",
          "model_name": "DescriptionStyleModel",
          "state": {
            "_model_module": "@jupyter-widgets/controls",
            "_model_module_version": "1.5.0",
            "_model_name": "DescriptionStyleModel",
            "_view_count": null,
            "_view_module": "@jupyter-widgets/base",
            "_view_module_version": "1.2.0",
            "_view_name": "StyleView",
            "description_width": ""
          }
        },
        "694330cda08b453c8ed46d22c463b93c": {
          "model_module": "@jupyter-widgets/controls",
          "model_module_version": "1.5.0",
          "model_name": "HBoxModel",
          "state": {
            "_dom_classes": [],
            "_model_module": "@jupyter-widgets/controls",
            "_model_module_version": "1.5.0",
            "_model_name": "HBoxModel",
            "_view_count": null,
            "_view_module": "@jupyter-widgets/controls",
            "_view_module_version": "1.5.0",
            "_view_name": "HBoxView",
            "box_style": "",
            "children": [
              "IPY_MODEL_5337a253cb86488ebe32eb598556413f",
              "IPY_MODEL_dd19cd086a9647a9b5e11c737dae9778",
              "IPY_MODEL_0869185102034822b086f01a7f82c698"
            ],
            "layout": "IPY_MODEL_9e5b62996fef4c9f858d3137f1f7ddcd"
          }
        },
        "753ee821bd0844c5abc11575df9ef275": {
          "model_module": "@jupyter-widgets/controls",
          "model_module_version": "1.5.0",
          "model_name": "DescriptionStyleModel",
          "state": {
            "_model_module": "@jupyter-widgets/controls",
            "_model_module_version": "1.5.0",
            "_model_name": "DescriptionStyleModel",
            "_view_count": null,
            "_view_module": "@jupyter-widgets/base",
            "_view_module_version": "1.2.0",
            "_view_name": "StyleView",
            "description_width": ""
          }
        },
        "80a1d649f235493092c4222b0483d38b": {
          "model_module": "@jupyter-widgets/base",
          "model_module_version": "1.2.0",
          "model_name": "LayoutModel",
          "state": {
            "_model_module": "@jupyter-widgets/base",
            "_model_module_version": "1.2.0",
            "_model_name": "LayoutModel",
            "_view_count": null,
            "_view_module": "@jupyter-widgets/base",
            "_view_module_version": "1.2.0",
            "_view_name": "LayoutView",
            "align_content": null,
            "align_items": null,
            "align_self": null,
            "border": null,
            "bottom": null,
            "display": null,
            "flex": null,
            "flex_flow": null,
            "grid_area": null,
            "grid_auto_columns": null,
            "grid_auto_flow": null,
            "grid_auto_rows": null,
            "grid_column": null,
            "grid_gap": null,
            "grid_row": null,
            "grid_template_areas": null,
            "grid_template_columns": null,
            "grid_template_rows": null,
            "height": null,
            "justify_content": null,
            "justify_items": null,
            "left": null,
            "margin": null,
            "max_height": null,
            "max_width": null,
            "min_height": null,
            "min_width": null,
            "object_fit": null,
            "object_position": null,
            "order": null,
            "overflow": null,
            "overflow_x": null,
            "overflow_y": null,
            "padding": null,
            "right": null,
            "top": null,
            "visibility": null,
            "width": null
          }
        },
        "8393277a5a384980a72222ea03700758": {
          "model_module": "@jupyter-widgets/controls",
          "model_module_version": "1.5.0",
          "model_name": "ProgressStyleModel",
          "state": {
            "_model_module": "@jupyter-widgets/controls",
            "_model_module_version": "1.5.0",
            "_model_name": "ProgressStyleModel",
            "_view_count": null,
            "_view_module": "@jupyter-widgets/base",
            "_view_module_version": "1.2.0",
            "_view_name": "StyleView",
            "bar_color": null,
            "description_width": ""
          }
        },
        "8958269a6e984badad837614e2bc9f12": {
          "model_module": "@jupyter-widgets/controls",
          "model_module_version": "1.5.0",
          "model_name": "HBoxModel",
          "state": {
            "_dom_classes": [],
            "_model_module": "@jupyter-widgets/controls",
            "_model_module_version": "1.5.0",
            "_model_name": "HBoxModel",
            "_view_count": null,
            "_view_module": "@jupyter-widgets/controls",
            "_view_module_version": "1.5.0",
            "_view_name": "HBoxView",
            "box_style": "",
            "children": [
              "IPY_MODEL_4868bab11dd14a8abac93b647e723435",
              "IPY_MODEL_af72e62cebb7458e897fd2e76595012b",
              "IPY_MODEL_f13bc3c2724b4b8d8d1ff5c82308f002"
            ],
            "layout": "IPY_MODEL_b764ed364d9444c89ac118389c8c8e48"
          }
        },
        "8d33b4b1932f4f64a82c7390e3aeb696": {
          "model_module": "@jupyter-widgets/controls",
          "model_module_version": "1.5.0",
          "model_name": "FloatProgressModel",
          "state": {
            "_dom_classes": [],
            "_model_module": "@jupyter-widgets/controls",
            "_model_module_version": "1.5.0",
            "_model_name": "FloatProgressModel",
            "_view_count": null,
            "_view_module": "@jupyter-widgets/controls",
            "_view_module_version": "1.5.0",
            "_view_name": "ProgressView",
            "bar_style": "success",
            "description": "",
            "description_tooltip": null,
            "layout": "IPY_MODEL_ed4d36090a9a4d6ea01d912edad8dcc8",
            "max": 466,
            "min": 0,
            "orientation": "horizontal",
            "style": "IPY_MODEL_8393277a5a384980a72222ea03700758",
            "value": 466
          }
        },
        "92b6625bc97a4d6aa57a8bcb4e85bf70": {
          "model_module": "@jupyter-widgets/base",
          "model_module_version": "1.2.0",
          "model_name": "LayoutModel",
          "state": {
            "_model_module": "@jupyter-widgets/base",
            "_model_module_version": "1.2.0",
            "_model_name": "LayoutModel",
            "_view_count": null,
            "_view_module": "@jupyter-widgets/base",
            "_view_module_version": "1.2.0",
            "_view_name": "LayoutView",
            "align_content": null,
            "align_items": null,
            "align_self": null,
            "border": null,
            "bottom": null,
            "display": null,
            "flex": null,
            "flex_flow": null,
            "grid_area": null,
            "grid_auto_columns": null,
            "grid_auto_flow": null,
            "grid_auto_rows": null,
            "grid_column": null,
            "grid_gap": null,
            "grid_row": null,
            "grid_template_areas": null,
            "grid_template_columns": null,
            "grid_template_rows": null,
            "height": null,
            "justify_content": null,
            "justify_items": null,
            "left": null,
            "margin": null,
            "max_height": null,
            "max_width": null,
            "min_height": null,
            "min_width": null,
            "object_fit": null,
            "object_position": null,
            "order": null,
            "overflow": null,
            "overflow_x": null,
            "overflow_y": null,
            "padding": null,
            "right": null,
            "top": null,
            "visibility": null,
            "width": null
          }
        },
        "9e5b62996fef4c9f858d3137f1f7ddcd": {
          "model_module": "@jupyter-widgets/base",
          "model_module_version": "1.2.0",
          "model_name": "LayoutModel",
          "state": {
            "_model_module": "@jupyter-widgets/base",
            "_model_module_version": "1.2.0",
            "_model_name": "LayoutModel",
            "_view_count": null,
            "_view_module": "@jupyter-widgets/base",
            "_view_module_version": "1.2.0",
            "_view_name": "LayoutView",
            "align_content": null,
            "align_items": null,
            "align_self": null,
            "border": null,
            "bottom": null,
            "display": null,
            "flex": null,
            "flex_flow": null,
            "grid_area": null,
            "grid_auto_columns": null,
            "grid_auto_flow": null,
            "grid_auto_rows": null,
            "grid_column": null,
            "grid_gap": null,
            "grid_row": null,
            "grid_template_areas": null,
            "grid_template_columns": null,
            "grid_template_rows": null,
            "height": null,
            "justify_content": null,
            "justify_items": null,
            "left": null,
            "margin": null,
            "max_height": null,
            "max_width": null,
            "min_height": null,
            "min_width": null,
            "object_fit": null,
            "object_position": null,
            "order": null,
            "overflow": null,
            "overflow_x": null,
            "overflow_y": null,
            "padding": null,
            "right": null,
            "top": null,
            "visibility": null,
            "width": null
          }
        },
        "a5e829830d014b32b6fe08f3b1da0477": {
          "model_module": "@jupyter-widgets/base",
          "model_module_version": "1.2.0",
          "model_name": "LayoutModel",
          "state": {
            "_model_module": "@jupyter-widgets/base",
            "_model_module_version": "1.2.0",
            "_model_name": "LayoutModel",
            "_view_count": null,
            "_view_module": "@jupyter-widgets/base",
            "_view_module_version": "1.2.0",
            "_view_name": "LayoutView",
            "align_content": null,
            "align_items": null,
            "align_self": null,
            "border": null,
            "bottom": null,
            "display": null,
            "flex": null,
            "flex_flow": null,
            "grid_area": null,
            "grid_auto_columns": null,
            "grid_auto_flow": null,
            "grid_auto_rows": null,
            "grid_column": null,
            "grid_gap": null,
            "grid_row": null,
            "grid_template_areas": null,
            "grid_template_columns": null,
            "grid_template_rows": null,
            "height": null,
            "justify_content": null,
            "justify_items": null,
            "left": null,
            "margin": null,
            "max_height": null,
            "max_width": null,
            "min_height": null,
            "min_width": null,
            "object_fit": null,
            "object_position": null,
            "order": null,
            "overflow": null,
            "overflow_x": null,
            "overflow_y": null,
            "padding": null,
            "right": null,
            "top": null,
            "visibility": null,
            "width": null
          }
        },
        "ab5c57f5bde2430399ab49a7d7eb4a15": {
          "model_module": "@jupyter-widgets/base",
          "model_module_version": "1.2.0",
          "model_name": "LayoutModel",
          "state": {
            "_model_module": "@jupyter-widgets/base",
            "_model_module_version": "1.2.0",
            "_model_name": "LayoutModel",
            "_view_count": null,
            "_view_module": "@jupyter-widgets/base",
            "_view_module_version": "1.2.0",
            "_view_name": "LayoutView",
            "align_content": null,
            "align_items": null,
            "align_self": null,
            "border": null,
            "bottom": null,
            "display": null,
            "flex": null,
            "flex_flow": null,
            "grid_area": null,
            "grid_auto_columns": null,
            "grid_auto_flow": null,
            "grid_auto_rows": null,
            "grid_column": null,
            "grid_gap": null,
            "grid_row": null,
            "grid_template_areas": null,
            "grid_template_columns": null,
            "grid_template_rows": null,
            "height": null,
            "justify_content": null,
            "justify_items": null,
            "left": null,
            "margin": null,
            "max_height": null,
            "max_width": null,
            "min_height": null,
            "min_width": null,
            "object_fit": null,
            "object_position": null,
            "order": null,
            "overflow": null,
            "overflow_x": null,
            "overflow_y": null,
            "padding": null,
            "right": null,
            "top": null,
            "visibility": null,
            "width": null
          }
        },
        "af72e62cebb7458e897fd2e76595012b": {
          "model_module": "@jupyter-widgets/controls",
          "model_module_version": "1.5.0",
          "model_name": "FloatProgressModel",
          "state": {
            "_dom_classes": [],
            "_model_module": "@jupyter-widgets/controls",
            "_model_module_version": "1.5.0",
            "_model_name": "FloatProgressModel",
            "_view_count": null,
            "_view_module": "@jupyter-widgets/controls",
            "_view_module_version": "1.5.0",
            "_view_name": "ProgressView",
            "bar_style": "success",
            "description": "",
            "description_tooltip": null,
            "layout": "IPY_MODEL_a5e829830d014b32b6fe08f3b1da0477",
            "max": 29,
            "min": 0,
            "orientation": "horizontal",
            "style": "IPY_MODEL_42343b32671b4f1193656b01b7efa816",
            "value": 29
          }
        },
        "b764ed364d9444c89ac118389c8c8e48": {
          "model_module": "@jupyter-widgets/base",
          "model_module_version": "1.2.0",
          "model_name": "LayoutModel",
          "state": {
            "_model_module": "@jupyter-widgets/base",
            "_model_module_version": "1.2.0",
            "_model_name": "LayoutModel",
            "_view_count": null,
            "_view_module": "@jupyter-widgets/base",
            "_view_module_version": "1.2.0",
            "_view_name": "LayoutView",
            "align_content": null,
            "align_items": null,
            "align_self": null,
            "border": null,
            "bottom": null,
            "display": null,
            "flex": null,
            "flex_flow": null,
            "grid_area": null,
            "grid_auto_columns": null,
            "grid_auto_flow": null,
            "grid_auto_rows": null,
            "grid_column": null,
            "grid_gap": null,
            "grid_row": null,
            "grid_template_areas": null,
            "grid_template_columns": null,
            "grid_template_rows": null,
            "height": null,
            "justify_content": null,
            "justify_items": null,
            "left": null,
            "margin": null,
            "max_height": null,
            "max_width": null,
            "min_height": null,
            "min_width": null,
            "object_fit": null,
            "object_position": null,
            "order": null,
            "overflow": null,
            "overflow_x": null,
            "overflow_y": null,
            "padding": null,
            "right": null,
            "top": null,
            "visibility": null,
            "width": null
          }
        },
        "bd98daaf6f934b23abff82c2fecb3fc1": {
          "model_module": "@jupyter-widgets/controls",
          "model_module_version": "1.5.0",
          "model_name": "ProgressStyleModel",
          "state": {
            "_model_module": "@jupyter-widgets/controls",
            "_model_module_version": "1.5.0",
            "_model_name": "ProgressStyleModel",
            "_view_count": null,
            "_view_module": "@jupyter-widgets/base",
            "_view_module_version": "1.2.0",
            "_view_name": "StyleView",
            "bar_color": null,
            "description_width": ""
          }
        },
        "c443289e3af94bc191d0abf32a2b1147": {
          "model_module": "@jupyter-widgets/controls",
          "model_module_version": "1.5.0",
          "model_name": "DescriptionStyleModel",
          "state": {
            "_model_module": "@jupyter-widgets/controls",
            "_model_module_version": "1.5.0",
            "_model_name": "DescriptionStyleModel",
            "_view_count": null,
            "_view_module": "@jupyter-widgets/base",
            "_view_module_version": "1.2.0",
            "_view_name": "StyleView",
            "description_width": ""
          }
        },
        "c625e94451a84cdcaa7f17e3346dc0a2": {
          "model_module": "@jupyter-widgets/controls",
          "model_module_version": "1.5.0",
          "model_name": "DescriptionStyleModel",
          "state": {
            "_model_module": "@jupyter-widgets/controls",
            "_model_module_version": "1.5.0",
            "_model_name": "DescriptionStyleModel",
            "_view_count": null,
            "_view_module": "@jupyter-widgets/base",
            "_view_module_version": "1.2.0",
            "_view_name": "StyleView",
            "description_width": ""
          }
        },
        "cca7527080ff4144ad92f3b7a9396f83": {
          "model_module": "@jupyter-widgets/base",
          "model_module_version": "1.2.0",
          "model_name": "LayoutModel",
          "state": {
            "_model_module": "@jupyter-widgets/base",
            "_model_module_version": "1.2.0",
            "_model_name": "LayoutModel",
            "_view_count": null,
            "_view_module": "@jupyter-widgets/base",
            "_view_module_version": "1.2.0",
            "_view_name": "LayoutView",
            "align_content": null,
            "align_items": null,
            "align_self": null,
            "border": null,
            "bottom": null,
            "display": null,
            "flex": null,
            "flex_flow": null,
            "grid_area": null,
            "grid_auto_columns": null,
            "grid_auto_flow": null,
            "grid_auto_rows": null,
            "grid_column": null,
            "grid_gap": null,
            "grid_row": null,
            "grid_template_areas": null,
            "grid_template_columns": null,
            "grid_template_rows": null,
            "height": null,
            "justify_content": null,
            "justify_items": null,
            "left": null,
            "margin": null,
            "max_height": null,
            "max_width": null,
            "min_height": null,
            "min_width": null,
            "object_fit": null,
            "object_position": null,
            "order": null,
            "overflow": null,
            "overflow_x": null,
            "overflow_y": null,
            "padding": null,
            "right": null,
            "top": null,
            "visibility": null,
            "width": null
          }
        },
        "d2d83f468bd24cd68cc38e095f75e04f": {
          "model_module": "@jupyter-widgets/base",
          "model_module_version": "1.2.0",
          "model_name": "LayoutModel",
          "state": {
            "_model_module": "@jupyter-widgets/base",
            "_model_module_version": "1.2.0",
            "_model_name": "LayoutModel",
            "_view_count": null,
            "_view_module": "@jupyter-widgets/base",
            "_view_module_version": "1.2.0",
            "_view_name": "LayoutView",
            "align_content": null,
            "align_items": null,
            "align_self": null,
            "border": null,
            "bottom": null,
            "display": null,
            "flex": null,
            "flex_flow": null,
            "grid_area": null,
            "grid_auto_columns": null,
            "grid_auto_flow": null,
            "grid_auto_rows": null,
            "grid_column": null,
            "grid_gap": null,
            "grid_row": null,
            "grid_template_areas": null,
            "grid_template_columns": null,
            "grid_template_rows": null,
            "height": null,
            "justify_content": null,
            "justify_items": null,
            "left": null,
            "margin": null,
            "max_height": null,
            "max_width": null,
            "min_height": null,
            "min_width": null,
            "object_fit": null,
            "object_position": null,
            "order": null,
            "overflow": null,
            "overflow_x": null,
            "overflow_y": null,
            "padding": null,
            "right": null,
            "top": null,
            "visibility": null,
            "width": null
          }
        },
        "dd19cd086a9647a9b5e11c737dae9778": {
          "model_module": "@jupyter-widgets/controls",
          "model_module_version": "1.5.0",
          "model_name": "FloatProgressModel",
          "state": {
            "_dom_classes": [],
            "_model_module": "@jupyter-widgets/controls",
            "_model_module_version": "1.5.0",
            "_model_name": "FloatProgressModel",
            "_view_count": null,
            "_view_module": "@jupyter-widgets/controls",
            "_view_module_version": "1.5.0",
            "_view_name": "ProgressView",
            "bar_style": "success",
            "description": "",
            "description_tooltip": null,
            "layout": "IPY_MODEL_1cb25ddeb15142d7b15476897f30783f",
            "max": 995526,
            "min": 0,
            "orientation": "horizontal",
            "style": "IPY_MODEL_bd98daaf6f934b23abff82c2fecb3fc1",
            "value": 995526
          }
        },
        "ed24da5ac71c4999a3609e32b809314e": {
          "model_module": "@jupyter-widgets/base",
          "model_module_version": "1.2.0",
          "model_name": "LayoutModel",
          "state": {
            "_model_module": "@jupyter-widgets/base",
            "_model_module_version": "1.2.0",
            "_model_name": "LayoutModel",
            "_view_count": null,
            "_view_module": "@jupyter-widgets/base",
            "_view_module_version": "1.2.0",
            "_view_name": "LayoutView",
            "align_content": null,
            "align_items": null,
            "align_self": null,
            "border": null,
            "bottom": null,
            "display": null,
            "flex": null,
            "flex_flow": null,
            "grid_area": null,
            "grid_auto_columns": null,
            "grid_auto_flow": null,
            "grid_auto_rows": null,
            "grid_column": null,
            "grid_gap": null,
            "grid_row": null,
            "grid_template_areas": null,
            "grid_template_columns": null,
            "grid_template_rows": null,
            "height": null,
            "justify_content": null,
            "justify_items": null,
            "left": null,
            "margin": null,
            "max_height": null,
            "max_width": null,
            "min_height": null,
            "min_width": null,
            "object_fit": null,
            "object_position": null,
            "order": null,
            "overflow": null,
            "overflow_x": null,
            "overflow_y": null,
            "padding": null,
            "right": null,
            "top": null,
            "visibility": null,
            "width": null
          }
        },
        "ed4d36090a9a4d6ea01d912edad8dcc8": {
          "model_module": "@jupyter-widgets/base",
          "model_module_version": "1.2.0",
          "model_name": "LayoutModel",
          "state": {
            "_model_module": "@jupyter-widgets/base",
            "_model_module_version": "1.2.0",
            "_model_name": "LayoutModel",
            "_view_count": null,
            "_view_module": "@jupyter-widgets/base",
            "_view_module_version": "1.2.0",
            "_view_name": "LayoutView",
            "align_content": null,
            "align_items": null,
            "align_self": null,
            "border": null,
            "bottom": null,
            "display": null,
            "flex": null,
            "flex_flow": null,
            "grid_area": null,
            "grid_auto_columns": null,
            "grid_auto_flow": null,
            "grid_auto_rows": null,
            "grid_column": null,
            "grid_gap": null,
            "grid_row": null,
            "grid_template_areas": null,
            "grid_template_columns": null,
            "grid_template_rows": null,
            "height": null,
            "justify_content": null,
            "justify_items": null,
            "left": null,
            "margin": null,
            "max_height": null,
            "max_width": null,
            "min_height": null,
            "min_width": null,
            "object_fit": null,
            "object_position": null,
            "order": null,
            "overflow": null,
            "overflow_x": null,
            "overflow_y": null,
            "padding": null,
            "right": null,
            "top": null,
            "visibility": null,
            "width": null
          }
        },
        "f13bc3c2724b4b8d8d1ff5c82308f002": {
          "model_module": "@jupyter-widgets/controls",
          "model_module_version": "1.5.0",
          "model_name": "HTMLModel",
          "state": {
            "_dom_classes": [],
            "_model_module": "@jupyter-widgets/controls",
            "_model_module_version": "1.5.0",
            "_model_name": "HTMLModel",
            "_view_count": null,
            "_view_module": "@jupyter-widgets/controls",
            "_view_module_version": "1.5.0",
            "_view_name": "HTMLView",
            "description": "",
            "description_tooltip": null,
            "layout": "IPY_MODEL_ed24da5ac71c4999a3609e32b809314e",
            "placeholder": "​",
            "style": "IPY_MODEL_20c1cdce5b4e497a879e1d19880afe6e",
            "value": " 29.0/29.0 [00:00&lt;00:00, 678B/s]"
          }
        }
      }
    }
  },
  "nbformat": 4,
  "nbformat_minor": 0
}
